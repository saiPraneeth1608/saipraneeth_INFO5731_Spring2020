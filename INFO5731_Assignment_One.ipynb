{
  "nbformat": 4,
  "nbformat_minor": 0,
  "metadata": {
    "colab": {
      "name": "INFO5731_Assignment_One.ipynb",
      "provenance": [],
      "collapsed_sections": [],
      "include_colab_link": true
    },
    "kernelspec": {
      "display_name": "Python 3",
      "language": "python",
      "name": "python3"
    },
    "language_info": {
      "codemirror_mode": {
        "name": "ipython",
        "version": 3
      },
      "file_extension": ".py",
      "mimetype": "text/x-python",
      "name": "python",
      "nbconvert_exporter": "python",
      "pygments_lexer": "ipython3",
      "version": "3.7.4"
    }
  },
  "cells": [
    {
      "cell_type": "markdown",
      "metadata": {
        "id": "view-in-github",
        "colab_type": "text"
      },
      "source": [
        "<a href=\"https://colab.research.google.com/github/saiPraneeth1608/saipraneeth_INFO5731_Spring2020/blob/main/INFO5731_Assignment_One.ipynb\" target=\"_parent\"><img src=\"https://colab.research.google.com/assets/colab-badge.svg\" alt=\"Open In Colab\"/></a>"
      ]
    },
    {
      "cell_type": "markdown",
      "metadata": {
        "id": "Ryk8D1Q4Wsrp"
      },
      "source": [
        "# **INFO5731 Assignment One**"
      ]
    },
    {
      "cell_type": "markdown",
      "metadata": {
        "id": "90_NR8c5XGWc"
      },
      "source": [
        "# Question 1\n",
        "\n",
        "(20 points). Write a Python program to generate 12 random numbers between 1 and 100. Sort the list of numbers in ascending order and print it out. Sort the list of numbers in descending order and print it out. Calculate the average for the group and print it out."
      ]
    },
    {
      "cell_type": "code",
      "metadata": {
        "colab": {
          "base_uri": "https://localhost:8080/"
        },
        "id": "5QX6bJjGWXY9",
        "outputId": "c79a9abf-603c-49e7-cb4c-28902c170041"
      },
      "source": [
        "# Your code here\n",
        "import random \n",
        "def pg(start, end, n): \n",
        "    li = [] \n",
        "  \n",
        "    for i in range(n): \n",
        "        li.append(random.randint(start, end))\n",
        "    print(li)\n",
        "    print(sorted(li))  \n",
        "    print(sorted(li,reverse=True))  \n",
        "    return sum(li)/len(li) \n",
        "  \n",
        "     \n",
        "  \n",
        "num = 12\n",
        "start = 1\n",
        "end = 100\n",
        "print(pg(start, end, num))"
      ],
      "execution_count": null,
      "outputs": [
        {
          "output_type": "stream",
          "text": [
            "[10, 77, 2, 31, 6, 23, 37, 71, 87, 67, 25, 42]\n",
            "[2, 6, 10, 23, 25, 31, 37, 42, 67, 71, 77, 87]\n",
            "[87, 77, 71, 67, 42, 37, 31, 25, 23, 10, 6, 2]\n",
            "39.833333333333336\n"
          ],
          "name": "stdout"
        }
      ]
    },
    {
      "cell_type": "markdown",
      "metadata": {
        "id": "1F_PZdH9Sh49"
      },
      "source": [
        "# Question 2\n",
        "(25 points).Write a program that will do the following string formatting tasks:\n",
        "\n",
        "(1) Ask the user to enter two sentences.\n",
        "\n",
        "(2) Make each sentence into a list. Each element in the list should correspond to a word in the sentence. For example, if the sentence is \"Alas! Am I alive? This is my first python program\", the program should print out ['Alas, '!', 'Am', 'I', 'alive, '?', 'This', 'is', 'my', 'first', 'python', 'program'].\n",
        "\n",
        "(3) Compare the two sentences. Print out a list of words that occur in both sentences.\n",
        "\n",
        "(4) Remove any punctuation from the sentence and print it back out. It should remove at least the following characters, but it can remove more: period(“.”), comma (“,”), semicolon (“;”), and colon (“:”)\n",
        "\n",
        "(5) Count the number of vowels in the sentences. Print out each vowel and the number of times it appears in the sentences, such as: a:2, e:1, i:0, etc"
      ]
    },
    {
      "cell_type": "code",
      "metadata": {
        "colab": {
          "base_uri": "https://localhost:8080/"
        },
        "id": "Y0oOSlsOS0cq",
        "outputId": "f22fdd1a-fcbb-4e51-c2a4-f71664e4aae5"
      },
      "source": [
        "# Your code here\n",
        "A = input(\"Enter the first sentence :\")\n",
        "B = input(\"Enter the second sentence :\")"
      ],
      "execution_count": null,
      "outputs": [
        {
          "output_type": "stream",
          "text": [
            "Enter the first sentence :Jujutsu kaisen, is the best anime\n",
            "Enter the second sentence :Attack on titan is the best anime ever\n"
          ],
          "name": "stdout"
        }
      ]
    },
    {
      "cell_type": "code",
      "metadata": {
        "colab": {
          "base_uri": "https://localhost:8080/"
        },
        "id": "2k_0x7XmlHEb",
        "outputId": "2b8daa22-b771-469f-c011-7120d372f869"
      },
      "source": [
        "import re\r\n",
        "C = re.split(r'([ .,!?;])', A)\r\n",
        "D = re.split(r'([ .,!?])', B)\r\n",
        "print(C)\r\n",
        "print(D)"
      ],
      "execution_count": null,
      "outputs": [
        {
          "output_type": "stream",
          "text": [
            "['Jujutsu', ' ', 'kaisen', ',', '', ' ', 'is', ' ', 'the', ' ', 'best', ' ', 'anime']\n",
            "['Attack', ' ', 'on', ' ', 'titan', ' ', 'is', ' ', 'the', ' ', 'best', ' ', 'anime', ' ', 'ever']\n"
          ],
          "name": "stdout"
        }
      ]
    },
    {
      "cell_type": "code",
      "metadata": {
        "colab": {
          "base_uri": "https://localhost:8080/"
        },
        "id": "OgSL-Mt7nlAy",
        "outputId": "0b91fdf6-d18f-4166-deb9-a7bbffee7d25"
      },
      "source": [
        "ls = []\r\n",
        "for var in C:\r\n",
        "  if((var !='') and (var!= ' ')):\r\n",
        "    ls.append(var)\r\n",
        "print(ls)\r\n",
        "\r\n",
        "ls2 = []\r\n",
        "for var2 in d:\r\n",
        "  if((var2 !='') and (var2 != ' ')):\r\n",
        "    d_new.append(var2)\r\n",
        "print(ls2)"
      ],
      "execution_count": null,
      "outputs": [
        {
          "output_type": "stream",
          "text": [
            "['Jujutsu', 'kaisen', ',', 'is', 'the', 'best', 'anime']\n",
            "['Attack', 'on', 'titan', 'is', 'the', 'best', 'anime', 'ever']\n"
          ],
          "name": "stdout"
        }
      ]
    },
    {
      "cell_type": "code",
      "metadata": {
        "colab": {
          "base_uri": "https://localhost:8080/"
        },
        "id": "pz7gQGKsoC5s",
        "outputId": "05d31d89-e3fd-4996-e5ab-2009dfe4f521"
      },
      "source": [
        "#Printing common words in both sentenes\r\n",
        "\r\n",
        "common = []\r\n",
        "for i in ls:\r\n",
        "  for j in ls2:\r\n",
        "    if j == x:\r\n",
        "      common.append(j)\r\n",
        "print(common)\r\n",
        "  "
      ],
      "execution_count": null,
      "outputs": [
        {
          "output_type": "stream",
          "text": [
            "['is', 'the', 'best', 'anime']\n"
          ],
          "name": "stdout"
        }
      ]
    },
    {
      "cell_type": "code",
      "metadata": {
        "colab": {
          "base_uri": "https://localhost:8080/"
        },
        "id": "Jqh73yJXoJvs",
        "outputId": "d3520b73-f9bf-420f-964b-7f4ea5551808"
      },
      "source": [
        "#Removing punctuations from string\r\n",
        "\r\n",
        "punctuations = '''!()-[]{};:'\"\\,<>./?@#$%^&*_~'''\r\n",
        "A_modi = \"\"\r\n",
        "B_modi = \"\"\r\n",
        "for char in A:\r\n",
        "  if char not in punctuations:\r\n",
        "    A_modi = A_modi + char\r\n",
        "print(A_modi)\r\n",
        "\r\n",
        "for char1 in B:\r\n",
        "  if char1 not in punctuations:\r\n",
        "    B_modi = B_modi + char1\r\n",
        "print(B_modi)"
      ],
      "execution_count": null,
      "outputs": [
        {
          "output_type": "stream",
          "text": [
            "Jujutsu kaisen is the best anime\n",
            "Attack on titan is the best anime ever\n"
          ],
          "name": "stdout"
        }
      ]
    },
    {
      "cell_type": "code",
      "metadata": {
        "colab": {
          "base_uri": "https://localhost:8080/"
        },
        "id": "IPYMI6P7oNQn",
        "outputId": "5dd4e723-8cd9-41a0-b6b3-863c02ade584"
      },
      "source": [
        "#no.of vowels\r\n",
        "\r\n",
        "vowels = \"aeiou\"\r\n",
        "result = {}.fromkeys(vowels,0)\r\n",
        "result1 = {}.fromkeys(vowels,0)\r\n",
        "A_modi =A_modi.casefold()\r\n",
        "B_modi = B_modi.casefold()\r\n",
        "for char in A_modi:\r\n",
        "  if char in vowels:\r\n",
        "    result[char] += 1\r\n",
        "print(result)\r\n",
        "for char1 in B_modi:\r\n",
        "  if char1 in vowels:\r\n",
        "    result1[char1] += 1\r\n",
        "print(result1)"
      ],
      "execution_count": null,
      "outputs": [
        {
          "output_type": "stream",
          "text": [
            "{'a': 2, 'e': 4, 'i': 3, 'o': 0, 'u': 3}\n",
            "{'a': 4, 'e': 5, 'i': 3, 'o': 1, 'u': 0}\n"
          ],
          "name": "stdout"
        }
      ]
    },
    {
      "cell_type": "markdown",
      "metadata": {
        "id": "CmFoI4jDS9nx"
      },
      "source": [
        "\n",
        "\n",
        "# Question 3 \n",
        "\n",
        "(15 points). The formula that describes the volume V of a sphere with radius r is the following:\n",
        "\n",
        "$ V=\\frac{4}{3}\\ast\\ \\pi\\ast\\ r^3 $\n",
        "\n",
        "Write a program to calculate the value of V when r is in the range of 1–10. Output the result in the following format:\n",
        "\n",
        "\tr\tV\n",
        "\t1\t…\n",
        "\t2\t…\n",
        "\t3\t…\n"
      ]
    },
    {
      "cell_type": "code",
      "metadata": {
        "colab": {
          "base_uri": "https://localhost:8080/"
        },
        "id": "pEyqeioAT95b",
        "outputId": "d31cc7a2-912f-4188-ff00-67c8c88d6d17"
      },
      "source": [
        "# Your code here\n",
        "print('r',  'V')\n",
        "pi = 3.14\n",
        "def vl(r):\n",
        "  vol = (4/3)*pi*r*r*r \n",
        "  print(r,  vol)\n",
        "for var in range(1,10):\n",
        "  vl(var)"
      ],
      "execution_count": null,
      "outputs": [
        {
          "output_type": "stream",
          "text": [
            "r V\n",
            "1 4.1866666666666665\n",
            "2 33.49333333333333\n",
            "3 113.03999999999998\n",
            "4 267.94666666666666\n",
            "5 523.3333333333334\n",
            "6 904.3199999999998\n",
            "7 1436.0266666666666\n",
            "8 2143.5733333333333\n",
            "9 3052.08\n"
          ],
          "name": "stdout"
        }
      ]
    },
    {
      "cell_type": "code",
      "metadata": {
        "id": "pMCr3l8tnu0j"
      },
      "source": [
        ""
      ],
      "execution_count": null,
      "outputs": []
    },
    {
      "cell_type": "markdown",
      "metadata": {
        "id": "z3tBE7E-Xn5X"
      },
      "source": [
        "# Question 4\n",
        "\n",
        "(40 points). In the field of Data Science, data is often formatted as a comma-delimited (CSV) file, where each line in a file corresponds to a field's value. Refer to Chapter 9 (p. 106) for more information on comma-delimited files. To answer this question, you will need to download the file [Assignment1_denton_housing.csv](https://github.com/unt-iialab/info5731_spring2021/blob/main/assignment/Assignment1_denton_housing.csv) included with this assignment. The file [Assignment1_denton_housing.csv](https://github.com/unt-iialab/info5731_spring2021/blob/main/assignment/Assignment1_denton_housing.csv) contains statistics about housing in the city of Denton from 2008 to 2014. Write a program to implement the following questions.\n",
        "\n",
        "(1) (10 pts) Calculate the difference in the number of Occupied Housing Units from year to year and print it. The difference must be calculated for the consecutive years such as 2008-2009, 2009-2010 etc. Finally, print the values in the ascending order.\n",
        "\n",
        "(2) (10 pts) For all the years, calculate the percentage of housing units which are vacant an occupied. Print the results in the following format:\n",
        "\n",
        "Year Vacant Housing Units Occupied Housing Units\n",
        "\n",
        "    2008  30%   70%                          \n",
        "\t2009 ----- -----\n",
        "\t2010 ----- -----\n",
        "    2011 ----- -----\n",
        "\t2012 ----- -----\n",
        "    2013 ----- -----\n",
        "\t2014 ----- -----\n",
        "  \n",
        "  \n",
        "\n",
        "(3) (10 pts) Calculate and print the valued and years in which the highest number of housing units were vacant and occupied. Print the results in the following format:  \n",
        "\n",
        "                              Year\tValue\n",
        "\tVacant Housing Units\t  -----   -----\n",
        "\tOccupied Housing Units\t-----   -----\n",
        "\n",
        "(4) (10 pts) Calculate the harmonic mean of the total housing units and print it out. You can find the information about harmonic mean here: https://ncalculators.com/statistics/harmonic-mean-calculator.htm"
      ]
    },
    {
      "cell_type": "code",
      "metadata": {
        "id": "lqGYuHBhcsRH",
        "colab": {
          "base_uri": "https://localhost:8080/",
          "height": 1000
        },
        "outputId": "a98f18c6-6168-492e-aa1e-f2d4077ce5b9"
      },
      "source": [
        "# Your code here\n",
        "import pandas as pd\n",
        "url = 'https://raw.githubusercontent.com/unt-iialab/info5731_spring2021/main/assignment/Assignment1_denton_housing.csv'\n",
        "df = pd.read_csv(url, error_bad_lines=False)\n",
        "df"
      ],
      "execution_count": null,
      "outputs": [
        {
          "output_type": "execute_result",
          "data": {
            "text/html": [
              "<div>\n",
              "<style scoped>\n",
              "    .dataframe tbody tr th:only-of-type {\n",
              "        vertical-align: middle;\n",
              "    }\n",
              "\n",
              "    .dataframe tbody tr th {\n",
              "        vertical-align: top;\n",
              "    }\n",
              "\n",
              "    .dataframe thead th {\n",
              "        text-align: right;\n",
              "    }\n",
              "</style>\n",
              "<table border=\"1\" class=\"dataframe\">\n",
              "  <thead>\n",
              "    <tr style=\"text-align: right;\">\n",
              "      <th></th>\n",
              "      <th>year</th>\n",
              "      <th>title_field</th>\n",
              "      <th>value</th>\n",
              "    </tr>\n",
              "  </thead>\n",
              "  <tbody>\n",
              "    <tr>\n",
              "      <th>0</th>\n",
              "      <td>2014</td>\n",
              "      <td>Total Housing Units</td>\n",
              "      <td>49109</td>\n",
              "    </tr>\n",
              "    <tr>\n",
              "      <th>1</th>\n",
              "      <td>2014</td>\n",
              "      <td>Vacant Housing Units</td>\n",
              "      <td>2814</td>\n",
              "    </tr>\n",
              "    <tr>\n",
              "      <th>2</th>\n",
              "      <td>2014</td>\n",
              "      <td>Occupied Housing Units</td>\n",
              "      <td>46295</td>\n",
              "    </tr>\n",
              "    <tr>\n",
              "      <th>3</th>\n",
              "      <td>2013</td>\n",
              "      <td>Total Housing Units</td>\n",
              "      <td>47888</td>\n",
              "    </tr>\n",
              "    <tr>\n",
              "      <th>4</th>\n",
              "      <td>2013</td>\n",
              "      <td>Vacant Housing Units</td>\n",
              "      <td>4215</td>\n",
              "    </tr>\n",
              "    <tr>\n",
              "      <th>5</th>\n",
              "      <td>2013</td>\n",
              "      <td>Occupied Housing Units</td>\n",
              "      <td>43673</td>\n",
              "    </tr>\n",
              "    <tr>\n",
              "      <th>6</th>\n",
              "      <td>2012</td>\n",
              "      <td>Total Housing Units</td>\n",
              "      <td>45121</td>\n",
              "    </tr>\n",
              "    <tr>\n",
              "      <th>7</th>\n",
              "      <td>2012</td>\n",
              "      <td>Vacant Housing Units</td>\n",
              "      <td>3013</td>\n",
              "    </tr>\n",
              "    <tr>\n",
              "      <th>8</th>\n",
              "      <td>2012</td>\n",
              "      <td>Occupied Housing Units</td>\n",
              "      <td>42108</td>\n",
              "    </tr>\n",
              "    <tr>\n",
              "      <th>9</th>\n",
              "      <td>2011</td>\n",
              "      <td>Total Housing Units</td>\n",
              "      <td>44917</td>\n",
              "    </tr>\n",
              "    <tr>\n",
              "      <th>10</th>\n",
              "      <td>2011</td>\n",
              "      <td>Vacant Housing Units</td>\n",
              "      <td>4213</td>\n",
              "    </tr>\n",
              "    <tr>\n",
              "      <th>11</th>\n",
              "      <td>2011</td>\n",
              "      <td>Occupied Housing Units</td>\n",
              "      <td>40704</td>\n",
              "    </tr>\n",
              "    <tr>\n",
              "      <th>12</th>\n",
              "      <td>2010</td>\n",
              "      <td>Total Housing Units</td>\n",
              "      <td>44642</td>\n",
              "    </tr>\n",
              "    <tr>\n",
              "      <th>13</th>\n",
              "      <td>2010</td>\n",
              "      <td>Vacant Housing Units</td>\n",
              "      <td>3635</td>\n",
              "    </tr>\n",
              "    <tr>\n",
              "      <th>14</th>\n",
              "      <td>2010</td>\n",
              "      <td>Occupied Housing Units</td>\n",
              "      <td>41007</td>\n",
              "    </tr>\n",
              "    <tr>\n",
              "      <th>15</th>\n",
              "      <td>2009</td>\n",
              "      <td>Total Housing Units</td>\n",
              "      <td>39499</td>\n",
              "    </tr>\n",
              "    <tr>\n",
              "      <th>16</th>\n",
              "      <td>2009</td>\n",
              "      <td>Vacant Housing Units</td>\n",
              "      <td>3583</td>\n",
              "    </tr>\n",
              "    <tr>\n",
              "      <th>17</th>\n",
              "      <td>2009</td>\n",
              "      <td>Occupied Housing Units</td>\n",
              "      <td>35916</td>\n",
              "    </tr>\n",
              "    <tr>\n",
              "      <th>18</th>\n",
              "      <td>2008</td>\n",
              "      <td>Total Housing Units</td>\n",
              "      <td>41194</td>\n",
              "    </tr>\n",
              "    <tr>\n",
              "      <th>19</th>\n",
              "      <td>2008</td>\n",
              "      <td>Vacant Housing Units</td>\n",
              "      <td>4483</td>\n",
              "    </tr>\n",
              "    <tr>\n",
              "      <th>20</th>\n",
              "      <td>2008</td>\n",
              "      <td>Occupied Housing Units</td>\n",
              "      <td>36711</td>\n",
              "    </tr>\n",
              "    <tr>\n",
              "      <th>21</th>\n",
              "      <td>2014</td>\n",
              "      <td>Owner Occupied</td>\n",
              "      <td>21427</td>\n",
              "    </tr>\n",
              "    <tr>\n",
              "      <th>22</th>\n",
              "      <td>2014</td>\n",
              "      <td>Renter Occupied</td>\n",
              "      <td>24868</td>\n",
              "    </tr>\n",
              "    <tr>\n",
              "      <th>23</th>\n",
              "      <td>2013</td>\n",
              "      <td>Owner Occupied</td>\n",
              "      <td>20845</td>\n",
              "    </tr>\n",
              "    <tr>\n",
              "      <th>24</th>\n",
              "      <td>2013</td>\n",
              "      <td>Renter Occupied</td>\n",
              "      <td>22828</td>\n",
              "    </tr>\n",
              "    <tr>\n",
              "      <th>25</th>\n",
              "      <td>2012</td>\n",
              "      <td>Owner Occupied</td>\n",
              "      <td>20068</td>\n",
              "    </tr>\n",
              "    <tr>\n",
              "      <th>26</th>\n",
              "      <td>2012</td>\n",
              "      <td>Renter Occupied</td>\n",
              "      <td>22040</td>\n",
              "    </tr>\n",
              "    <tr>\n",
              "      <th>27</th>\n",
              "      <td>2011</td>\n",
              "      <td>Owner Occupied</td>\n",
              "      <td>18478</td>\n",
              "    </tr>\n",
              "    <tr>\n",
              "      <th>28</th>\n",
              "      <td>2011</td>\n",
              "      <td>Renter Occupied</td>\n",
              "      <td>22226</td>\n",
              "    </tr>\n",
              "    <tr>\n",
              "      <th>29</th>\n",
              "      <td>2010</td>\n",
              "      <td>Owner Occupied</td>\n",
              "      <td>18867</td>\n",
              "    </tr>\n",
              "    <tr>\n",
              "      <th>30</th>\n",
              "      <td>2010</td>\n",
              "      <td>Renter Occupied</td>\n",
              "      <td>22140</td>\n",
              "    </tr>\n",
              "    <tr>\n",
              "      <th>31</th>\n",
              "      <td>2009</td>\n",
              "      <td>Owner Occupied</td>\n",
              "      <td>18057</td>\n",
              "    </tr>\n",
              "    <tr>\n",
              "      <th>32</th>\n",
              "      <td>2009</td>\n",
              "      <td>Renter Occupied</td>\n",
              "      <td>17859</td>\n",
              "    </tr>\n",
              "    <tr>\n",
              "      <th>33</th>\n",
              "      <td>2008</td>\n",
              "      <td>Owner Occupied</td>\n",
              "      <td>17340</td>\n",
              "    </tr>\n",
              "    <tr>\n",
              "      <th>34</th>\n",
              "      <td>2008</td>\n",
              "      <td>Renter Occupied</td>\n",
              "      <td>19371</td>\n",
              "    </tr>\n",
              "    <tr>\n",
              "      <th>35</th>\n",
              "      <td>2014</td>\n",
              "      <td>Median Gross Rent</td>\n",
              "      <td>905</td>\n",
              "    </tr>\n",
              "    <tr>\n",
              "      <th>36</th>\n",
              "      <td>2013</td>\n",
              "      <td>Median Gross Rent</td>\n",
              "      <td>887</td>\n",
              "    </tr>\n",
              "    <tr>\n",
              "      <th>37</th>\n",
              "      <td>2012</td>\n",
              "      <td>Median Gross Rent</td>\n",
              "      <td>842</td>\n",
              "    </tr>\n",
              "    <tr>\n",
              "      <th>38</th>\n",
              "      <td>2011</td>\n",
              "      <td>Median Gross Rent</td>\n",
              "      <td>821</td>\n",
              "    </tr>\n",
              "    <tr>\n",
              "      <th>39</th>\n",
              "      <td>2010</td>\n",
              "      <td>Median Gross Rent</td>\n",
              "      <td>780</td>\n",
              "    </tr>\n",
              "    <tr>\n",
              "      <th>40</th>\n",
              "      <td>2009</td>\n",
              "      <td>Median Gross Rent</td>\n",
              "      <td>769</td>\n",
              "    </tr>\n",
              "    <tr>\n",
              "      <th>41</th>\n",
              "      <td>2008</td>\n",
              "      <td>Median Gross Rent</td>\n",
              "      <td>768</td>\n",
              "    </tr>\n",
              "  </tbody>\n",
              "</table>\n",
              "</div>"
            ],
            "text/plain": [
              "    year             title_field  value\n",
              "0   2014     Total Housing Units  49109\n",
              "1   2014    Vacant Housing Units   2814\n",
              "2   2014  Occupied Housing Units  46295\n",
              "3   2013     Total Housing Units  47888\n",
              "4   2013    Vacant Housing Units   4215\n",
              "5   2013  Occupied Housing Units  43673\n",
              "6   2012     Total Housing Units  45121\n",
              "7   2012    Vacant Housing Units   3013\n",
              "8   2012  Occupied Housing Units  42108\n",
              "9   2011     Total Housing Units  44917\n",
              "10  2011    Vacant Housing Units   4213\n",
              "11  2011  Occupied Housing Units  40704\n",
              "12  2010     Total Housing Units  44642\n",
              "13  2010    Vacant Housing Units   3635\n",
              "14  2010  Occupied Housing Units  41007\n",
              "15  2009     Total Housing Units  39499\n",
              "16  2009    Vacant Housing Units   3583\n",
              "17  2009  Occupied Housing Units  35916\n",
              "18  2008     Total Housing Units  41194\n",
              "19  2008    Vacant Housing Units   4483\n",
              "20  2008  Occupied Housing Units  36711\n",
              "21  2014          Owner Occupied  21427\n",
              "22  2014         Renter Occupied  24868\n",
              "23  2013          Owner Occupied  20845\n",
              "24  2013         Renter Occupied  22828\n",
              "25  2012          Owner Occupied  20068\n",
              "26  2012         Renter Occupied  22040\n",
              "27  2011          Owner Occupied  18478\n",
              "28  2011         Renter Occupied  22226\n",
              "29  2010          Owner Occupied  18867\n",
              "30  2010         Renter Occupied  22140\n",
              "31  2009          Owner Occupied  18057\n",
              "32  2009         Renter Occupied  17859\n",
              "33  2008          Owner Occupied  17340\n",
              "34  2008         Renter Occupied  19371\n",
              "35  2014       Median Gross Rent    905\n",
              "36  2013       Median Gross Rent    887\n",
              "37  2012       Median Gross Rent    842\n",
              "38  2011       Median Gross Rent    821\n",
              "39  2010       Median Gross Rent    780\n",
              "40  2009       Median Gross Rent    769\n",
              "41  2008       Median Gross Rent    768"
            ]
          },
          "metadata": {
            "tags": []
          },
          "execution_count": 13
        }
      ]
    },
    {
      "cell_type": "markdown",
      "metadata": {
        "id": "K_mjJZ2JrbwV"
      },
      "source": [
        "(10 pts) Calculate the difference in the number of Occupied Housing Units from year to year and print it. The difference must be calculated for the consecutive years such as 2008-2009, 2009-2010 etc. Finally, print the values in the ascending order."
      ]
    },
    {
      "cell_type": "code",
      "metadata": {
        "colab": {
          "base_uri": "https://localhost:8080/",
          "height": 254
        },
        "id": "pa0ltl7LpsYM",
        "outputId": "26b8877a-0fbb-4634-f1ab-33aea2c3994a"
      },
      "source": [
        "Z = df.loc[df['title_field']=='Occupied Housing Units']\r\n",
        "Z"
      ],
      "execution_count": null,
      "outputs": [
        {
          "output_type": "execute_result",
          "data": {
            "text/html": [
              "<div>\n",
              "<style scoped>\n",
              "    .dataframe tbody tr th:only-of-type {\n",
              "        vertical-align: middle;\n",
              "    }\n",
              "\n",
              "    .dataframe tbody tr th {\n",
              "        vertical-align: top;\n",
              "    }\n",
              "\n",
              "    .dataframe thead th {\n",
              "        text-align: right;\n",
              "    }\n",
              "</style>\n",
              "<table border=\"1\" class=\"dataframe\">\n",
              "  <thead>\n",
              "    <tr style=\"text-align: right;\">\n",
              "      <th></th>\n",
              "      <th>year</th>\n",
              "      <th>title_field</th>\n",
              "      <th>value</th>\n",
              "    </tr>\n",
              "  </thead>\n",
              "  <tbody>\n",
              "    <tr>\n",
              "      <th>2</th>\n",
              "      <td>2014</td>\n",
              "      <td>Occupied Housing Units</td>\n",
              "      <td>46295</td>\n",
              "    </tr>\n",
              "    <tr>\n",
              "      <th>5</th>\n",
              "      <td>2013</td>\n",
              "      <td>Occupied Housing Units</td>\n",
              "      <td>43673</td>\n",
              "    </tr>\n",
              "    <tr>\n",
              "      <th>8</th>\n",
              "      <td>2012</td>\n",
              "      <td>Occupied Housing Units</td>\n",
              "      <td>42108</td>\n",
              "    </tr>\n",
              "    <tr>\n",
              "      <th>11</th>\n",
              "      <td>2011</td>\n",
              "      <td>Occupied Housing Units</td>\n",
              "      <td>40704</td>\n",
              "    </tr>\n",
              "    <tr>\n",
              "      <th>14</th>\n",
              "      <td>2010</td>\n",
              "      <td>Occupied Housing Units</td>\n",
              "      <td>41007</td>\n",
              "    </tr>\n",
              "    <tr>\n",
              "      <th>17</th>\n",
              "      <td>2009</td>\n",
              "      <td>Occupied Housing Units</td>\n",
              "      <td>35916</td>\n",
              "    </tr>\n",
              "    <tr>\n",
              "      <th>20</th>\n",
              "      <td>2008</td>\n",
              "      <td>Occupied Housing Units</td>\n",
              "      <td>36711</td>\n",
              "    </tr>\n",
              "  </tbody>\n",
              "</table>\n",
              "</div>"
            ],
            "text/plain": [
              "    year             title_field  value\n",
              "2   2014  Occupied Housing Units  46295\n",
              "5   2013  Occupied Housing Units  43673\n",
              "8   2012  Occupied Housing Units  42108\n",
              "11  2011  Occupied Housing Units  40704\n",
              "14  2010  Occupied Housing Units  41007\n",
              "17  2009  Occupied Housing Units  35916\n",
              "20  2008  Occupied Housing Units  36711"
            ]
          },
          "metadata": {
            "tags": []
          },
          "execution_count": 14
        }
      ]
    },
    {
      "cell_type": "code",
      "metadata": {
        "colab": {
          "base_uri": "https://localhost:8080/",
          "height": 254
        },
        "id": "fr0CSlkQrmkh",
        "outputId": "e2c29a11-2656-470b-afc0-df166cbbbaef"
      },
      "source": [
        "df1 = x.sort_values(by = ['year'],ascending =True)\r\n",
        "df1"
      ],
      "execution_count": null,
      "outputs": [
        {
          "output_type": "execute_result",
          "data": {
            "text/html": [
              "<div>\n",
              "<style scoped>\n",
              "    .dataframe tbody tr th:only-of-type {\n",
              "        vertical-align: middle;\n",
              "    }\n",
              "\n",
              "    .dataframe tbody tr th {\n",
              "        vertical-align: top;\n",
              "    }\n",
              "\n",
              "    .dataframe thead th {\n",
              "        text-align: right;\n",
              "    }\n",
              "</style>\n",
              "<table border=\"1\" class=\"dataframe\">\n",
              "  <thead>\n",
              "    <tr style=\"text-align: right;\">\n",
              "      <th></th>\n",
              "      <th>year</th>\n",
              "      <th>title_field</th>\n",
              "      <th>value</th>\n",
              "    </tr>\n",
              "  </thead>\n",
              "  <tbody>\n",
              "    <tr>\n",
              "      <th>20</th>\n",
              "      <td>2008</td>\n",
              "      <td>Occupied Housing Units</td>\n",
              "      <td>36711</td>\n",
              "    </tr>\n",
              "    <tr>\n",
              "      <th>17</th>\n",
              "      <td>2009</td>\n",
              "      <td>Occupied Housing Units</td>\n",
              "      <td>35916</td>\n",
              "    </tr>\n",
              "    <tr>\n",
              "      <th>14</th>\n",
              "      <td>2010</td>\n",
              "      <td>Occupied Housing Units</td>\n",
              "      <td>41007</td>\n",
              "    </tr>\n",
              "    <tr>\n",
              "      <th>11</th>\n",
              "      <td>2011</td>\n",
              "      <td>Occupied Housing Units</td>\n",
              "      <td>40704</td>\n",
              "    </tr>\n",
              "    <tr>\n",
              "      <th>8</th>\n",
              "      <td>2012</td>\n",
              "      <td>Occupied Housing Units</td>\n",
              "      <td>42108</td>\n",
              "    </tr>\n",
              "    <tr>\n",
              "      <th>5</th>\n",
              "      <td>2013</td>\n",
              "      <td>Occupied Housing Units</td>\n",
              "      <td>43673</td>\n",
              "    </tr>\n",
              "    <tr>\n",
              "      <th>2</th>\n",
              "      <td>2014</td>\n",
              "      <td>Occupied Housing Units</td>\n",
              "      <td>46295</td>\n",
              "    </tr>\n",
              "  </tbody>\n",
              "</table>\n",
              "</div>"
            ],
            "text/plain": [
              "    year             title_field  value\n",
              "20  2008  Occupied Housing Units  36711\n",
              "17  2009  Occupied Housing Units  35916\n",
              "14  2010  Occupied Housing Units  41007\n",
              "11  2011  Occupied Housing Units  40704\n",
              "8   2012  Occupied Housing Units  42108\n",
              "5   2013  Occupied Housing Units  43673\n",
              "2   2014  Occupied Housing Units  46295"
            ]
          },
          "metadata": {
            "tags": []
          },
          "execution_count": 15
        }
      ]
    },
    {
      "cell_type": "code",
      "metadata": {
        "colab": {
          "base_uri": "https://localhost:8080/",
          "height": 178
        },
        "id": "cUfxZSpjtEE1",
        "outputId": "6ba7a523-0da7-4bab-cd19-3a88a583482b"
      },
      "source": [
        "result = df_filter1['value'].diff()\r\n",
        "result"
      ],
      "execution_count": null,
      "outputs": [
        {
          "output_type": "error",
          "ename": "NameError",
          "evalue": "ignored",
          "traceback": [
            "\u001b[0;31m---------------------------------------------------------------------------\u001b[0m",
            "\u001b[0;31mNameError\u001b[0m                                 Traceback (most recent call last)",
            "\u001b[0;32m<ipython-input-17-318792691066>\u001b[0m in \u001b[0;36m<module>\u001b[0;34m()\u001b[0m\n\u001b[0;32m----> 1\u001b[0;31m \u001b[0mresult\u001b[0m \u001b[0;34m=\u001b[0m \u001b[0mdf_filter1\u001b[0m\u001b[0;34m[\u001b[0m\u001b[0;34m'value'\u001b[0m\u001b[0;34m]\u001b[0m\u001b[0;34m.\u001b[0m\u001b[0mdiff\u001b[0m\u001b[0;34m(\u001b[0m\u001b[0;34m)\u001b[0m\u001b[0;34m\u001b[0m\u001b[0;34m\u001b[0m\u001b[0m\n\u001b[0m\u001b[1;32m      2\u001b[0m \u001b[0mresult\u001b[0m\u001b[0;34m\u001b[0m\u001b[0;34m\u001b[0m\u001b[0m\n",
            "\u001b[0;31mNameError\u001b[0m: name 'df_filter1' is not defined"
          ]
        }
      ]
    },
    {
      "cell_type": "code",
      "metadata": {
        "colab": {
          "base_uri": "https://localhost:8080/"
        },
        "id": "kt2aDaHztI-i",
        "outputId": "b2c36b23-6ba9-4293-df44-885917eece31"
      },
      "source": [
        "result.sort_values(ascending= True)"
      ],
      "execution_count": null,
      "outputs": [
        {
          "output_type": "execute_result",
          "data": {
            "text/plain": [
              "17    -795.0\n",
              "11    -303.0\n",
              "8     1404.0\n",
              "5     1565.0\n",
              "2     2622.0\n",
              "14    5091.0\n",
              "20       NaN\n",
              "Name: value, dtype: float64"
            ]
          },
          "metadata": {
            "tags": []
          },
          "execution_count": 56
        }
      ]
    },
    {
      "cell_type": "markdown",
      "metadata": {
        "id": "PHLwggaytX51"
      },
      "source": [
        "(2) (10 pts) For all the years, calculate the percentage of housing units which are vacant an occupied. Print the results in the following format:\r\n",
        "\r\n",
        "Year Vacant Housing Units Occupied Housing Units"
      ]
    },
    {
      "cell_type": "code",
      "metadata": {
        "colab": {
          "base_uri": "https://localhost:8080/"
        },
        "id": "X3TsVi0_tSq8",
        "outputId": "03755e1b-2608-473a-f41d-bdc10b5549bc"
      },
      "source": [
        "import numpy as np\r\n",
        "year = x.year\r\n",
        "year_array = np.array(year)\r\n",
        "x_value = x.value\r\n",
        "Occupied = np.array(x_value)\r\n",
        "x1 = df.loc[df['title_field']=='Vacant Housing Units']\r\n",
        "Vacant = x1.value\r\n",
        "x3 = df.loc[df['title_field']=='Total Housing Units']\r\n",
        "x3_value = x3.value\r\n",
        "Total = np.array(x3_value)\r\n",
        "Occupied_percentage = Occupied/Total * 100\r\n",
        "Vacant_percentage = Vacant/Total * 100\r\n",
        "value = pd.DataFrame({'Year': year_array , 'Vacant Housing Units':Vacant_percentage,'Occupied Housing Units':Occupied_percentage })\r\n",
        "print(value)"
      ],
      "execution_count": null,
      "outputs": [
        {
          "output_type": "stream",
          "text": [
            "    Year  Vacant Housing Units  Occupied Housing Units\n",
            "1   2014              5.730111               94.269889\n",
            "4   2013              8.801788               91.198212\n",
            "7   2012              6.677600               93.322400\n",
            "10  2011              9.379522               90.620478\n",
            "13  2010              8.142556               91.857444\n",
            "16  2009              9.071116               90.928884\n",
            "19  2008             10.882653               89.117347\n"
          ],
          "name": "stdout"
        }
      ]
    },
    {
      "cell_type": "code",
      "metadata": {
        "colab": {
          "base_uri": "https://localhost:8080/",
          "height": 235
        },
        "id": "LQCG_Vqhtsd9",
        "outputId": "e4feeb37-77db-4d80-fc1c-10f586894e6e"
      },
      "source": [
        "#(3)Calculate and print the values and years in which the highest number of housing units were vacant and occupied. \r\n",
        "\r\n",
        "a = df.groupby(['title_field'])['value'].transform(max) == df['value']\r\n",
        "b= df[a]\r\n",
        "b"
      ],
      "execution_count": null,
      "outputs": [
        {
          "output_type": "execute_result",
          "data": {
            "text/html": [
              "<div>\n",
              "<style scoped>\n",
              "    .dataframe tbody tr th:only-of-type {\n",
              "        vertical-align: middle;\n",
              "    }\n",
              "\n",
              "    .dataframe tbody tr th {\n",
              "        vertical-align: top;\n",
              "    }\n",
              "\n",
              "    .dataframe thead th {\n",
              "        text-align: right;\n",
              "    }\n",
              "</style>\n",
              "<table border=\"1\" class=\"dataframe\">\n",
              "  <thead>\n",
              "    <tr style=\"text-align: right;\">\n",
              "      <th></th>\n",
              "      <th>year</th>\n",
              "      <th>title_field</th>\n",
              "      <th>value</th>\n",
              "    </tr>\n",
              "  </thead>\n",
              "  <tbody>\n",
              "    <tr>\n",
              "      <th>0</th>\n",
              "      <td>2014</td>\n",
              "      <td>Total Housing Units</td>\n",
              "      <td>49109</td>\n",
              "    </tr>\n",
              "    <tr>\n",
              "      <th>2</th>\n",
              "      <td>2014</td>\n",
              "      <td>Occupied Housing Units</td>\n",
              "      <td>46295</td>\n",
              "    </tr>\n",
              "    <tr>\n",
              "      <th>19</th>\n",
              "      <td>2008</td>\n",
              "      <td>Vacant Housing Units</td>\n",
              "      <td>4483</td>\n",
              "    </tr>\n",
              "    <tr>\n",
              "      <th>21</th>\n",
              "      <td>2014</td>\n",
              "      <td>Owner Occupied</td>\n",
              "      <td>21427</td>\n",
              "    </tr>\n",
              "    <tr>\n",
              "      <th>22</th>\n",
              "      <td>2014</td>\n",
              "      <td>Renter Occupied</td>\n",
              "      <td>24868</td>\n",
              "    </tr>\n",
              "    <tr>\n",
              "      <th>35</th>\n",
              "      <td>2014</td>\n",
              "      <td>Median Gross Rent</td>\n",
              "      <td>905</td>\n",
              "    </tr>\n",
              "  </tbody>\n",
              "</table>\n",
              "</div>"
            ],
            "text/plain": [
              "    year             title_field  value\n",
              "0   2014     Total Housing Units  49109\n",
              "2   2014  Occupied Housing Units  46295\n",
              "19  2008    Vacant Housing Units   4483\n",
              "21  2014          Owner Occupied  21427\n",
              "22  2014         Renter Occupied  24868\n",
              "35  2014       Median Gross Rent    905"
            ]
          },
          "metadata": {
            "tags": []
          },
          "execution_count": 62
        }
      ]
    },
    {
      "cell_type": "code",
      "metadata": {
        "colab": {
          "base_uri": "https://localhost:8080/",
          "height": 111
        },
        "id": "S1SEjKiDuPJq",
        "outputId": "1781ba14-c03a-4722-ce1d-931433e06d69"
      },
      "source": [
        "df5.loc[(df5['title_field'] == 'Occupied Housing Units') | (df5['title_field'] == 'Vacant Housing Units')]"
      ],
      "execution_count": null,
      "outputs": [
        {
          "output_type": "execute_result",
          "data": {
            "text/html": [
              "<div>\n",
              "<style scoped>\n",
              "    .dataframe tbody tr th:only-of-type {\n",
              "        vertical-align: middle;\n",
              "    }\n",
              "\n",
              "    .dataframe tbody tr th {\n",
              "        vertical-align: top;\n",
              "    }\n",
              "\n",
              "    .dataframe thead th {\n",
              "        text-align: right;\n",
              "    }\n",
              "</style>\n",
              "<table border=\"1\" class=\"dataframe\">\n",
              "  <thead>\n",
              "    <tr style=\"text-align: right;\">\n",
              "      <th></th>\n",
              "      <th>year</th>\n",
              "      <th>title_field</th>\n",
              "      <th>value</th>\n",
              "    </tr>\n",
              "  </thead>\n",
              "  <tbody>\n",
              "    <tr>\n",
              "      <th>2</th>\n",
              "      <td>2014</td>\n",
              "      <td>Occupied Housing Units</td>\n",
              "      <td>46295</td>\n",
              "    </tr>\n",
              "    <tr>\n",
              "      <th>19</th>\n",
              "      <td>2008</td>\n",
              "      <td>Vacant Housing Units</td>\n",
              "      <td>4483</td>\n",
              "    </tr>\n",
              "  </tbody>\n",
              "</table>\n",
              "</div>"
            ],
            "text/plain": [
              "    year             title_field  value\n",
              "2   2014  Occupied Housing Units  46295\n",
              "19  2008    Vacant Housing Units   4483"
            ]
          },
          "metadata": {
            "tags": []
          },
          "execution_count": 63
        }
      ]
    },
    {
      "cell_type": "code",
      "metadata": {
        "colab": {
          "base_uri": "https://localhost:8080/",
          "height": 266
        },
        "id": "G_H8OM_yuQke",
        "outputId": "0cc6ce79-44c0-44c4-cfe2-4da6cfee0e10"
      },
      "source": [
        "#(4) Calculate the harmonic mean of the total housing units and print it out. You can find the information about harmonic mean here:\r\n",
        "\r\n",
        "f2 = df.loc[df['title_field']=='Total Housing Units']\r\n",
        "f2"
      ],
      "execution_count": null,
      "outputs": [
        {
          "output_type": "execute_result",
          "data": {
            "text/html": [
              "<div>\n",
              "<style scoped>\n",
              "    .dataframe tbody tr th:only-of-type {\n",
              "        vertical-align: middle;\n",
              "    }\n",
              "\n",
              "    .dataframe tbody tr th {\n",
              "        vertical-align: top;\n",
              "    }\n",
              "\n",
              "    .dataframe thead th {\n",
              "        text-align: right;\n",
              "    }\n",
              "</style>\n",
              "<table border=\"1\" class=\"dataframe\">\n",
              "  <thead>\n",
              "    <tr style=\"text-align: right;\">\n",
              "      <th></th>\n",
              "      <th>year</th>\n",
              "      <th>title_field</th>\n",
              "      <th>value</th>\n",
              "    </tr>\n",
              "  </thead>\n",
              "  <tbody>\n",
              "    <tr>\n",
              "      <th>0</th>\n",
              "      <td>2014</td>\n",
              "      <td>Total Housing Units</td>\n",
              "      <td>49109</td>\n",
              "    </tr>\n",
              "    <tr>\n",
              "      <th>3</th>\n",
              "      <td>2013</td>\n",
              "      <td>Total Housing Units</td>\n",
              "      <td>47888</td>\n",
              "    </tr>\n",
              "    <tr>\n",
              "      <th>6</th>\n",
              "      <td>2012</td>\n",
              "      <td>Total Housing Units</td>\n",
              "      <td>45121</td>\n",
              "    </tr>\n",
              "    <tr>\n",
              "      <th>9</th>\n",
              "      <td>2011</td>\n",
              "      <td>Total Housing Units</td>\n",
              "      <td>44917</td>\n",
              "    </tr>\n",
              "    <tr>\n",
              "      <th>12</th>\n",
              "      <td>2010</td>\n",
              "      <td>Total Housing Units</td>\n",
              "      <td>44642</td>\n",
              "    </tr>\n",
              "    <tr>\n",
              "      <th>15</th>\n",
              "      <td>2009</td>\n",
              "      <td>Total Housing Units</td>\n",
              "      <td>39499</td>\n",
              "    </tr>\n",
              "    <tr>\n",
              "      <th>18</th>\n",
              "      <td>2008</td>\n",
              "      <td>Total Housing Units</td>\n",
              "      <td>41194</td>\n",
              "    </tr>\n",
              "  </tbody>\n",
              "</table>\n",
              "</div>"
            ],
            "text/plain": [
              "    year          title_field  value\n",
              "0   2014  Total Housing Units  49109\n",
              "3   2013  Total Housing Units  47888\n",
              "6   2012  Total Housing Units  45121\n",
              "9   2011  Total Housing Units  44917\n",
              "12  2010  Total Housing Units  44642\n",
              "15  2009  Total Housing Units  39499\n",
              "18  2008  Total Housing Units  41194"
            ]
          },
          "metadata": {
            "tags": []
          },
          "execution_count": 64
        }
      ]
    },
    {
      "cell_type": "code",
      "metadata": {
        "colab": {
          "base_uri": "https://localhost:8080/"
        },
        "id": "d3V8UxezuWf7",
        "outputId": "b80293d0-49f0-4c94-b441-b8fea9b46bcb"
      },
      "source": [
        "!pip install scipy"
      ],
      "execution_count": null,
      "outputs": [
        {
          "output_type": "stream",
          "text": [
            "Requirement already satisfied: scipy in /usr/local/lib/python3.6/dist-packages (1.4.1)\n",
            "Requirement already satisfied: numpy>=1.13.3 in /usr/local/lib/python3.6/dist-packages (from scipy) (1.19.5)\n"
          ],
          "name": "stdout"
        }
      ]
    },
    {
      "cell_type": "code",
      "metadata": {
        "colab": {
          "base_uri": "https://localhost:8080/"
        },
        "id": "wXGbZ4XQuZJ6",
        "outputId": "7ea1feb2-513a-45df-85de-258d39f4264b"
      },
      "source": [
        "\r\n",
        "from scipy import stats\r\n",
        "stats.hmean(f2.iloc[:,2],axis = 0)"
      ],
      "execution_count": null,
      "outputs": [
        {
          "output_type": "execute_result",
          "data": {
            "text/plain": [
              "44398.28543969185"
            ]
          },
          "metadata": {
            "tags": []
          },
          "execution_count": 70
        }
      ]
    }
  ]
}