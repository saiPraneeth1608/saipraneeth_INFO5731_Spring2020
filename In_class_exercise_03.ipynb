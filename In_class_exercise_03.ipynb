{
  "nbformat": 4,
  "nbformat_minor": 0,
  "metadata": {
    "kernelspec": {
      "display_name": "Python 3",
      "language": "python",
      "name": "python3"
    },
    "language_info": {
      "codemirror_mode": {
        "name": "ipython",
        "version": 3
      },
      "file_extension": ".py",
      "mimetype": "text/x-python",
      "name": "python",
      "nbconvert_exporter": "python",
      "pygments_lexer": "ipython3",
      "version": "3.7.4"
    },
    "colab": {
      "name": "In-class-exercise-03.ipynb",
      "provenance": [],
      "include_colab_link": true
    }
  },
  "cells": [
    {
      "cell_type": "markdown",
      "metadata": {
        "id": "view-in-github",
        "colab_type": "text"
      },
      "source": [
        "<a href=\"https://colab.research.google.com/github/saiPraneeth1608/saipraneeth_INFO5731_Spring2020/blob/main/In_class_exercise_03.ipynb\" target=\"_parent\"><img src=\"https://colab.research.google.com/assets/colab-badge.svg\" alt=\"Open In Colab\"/></a>"
      ]
    },
    {
      "cell_type": "markdown",
      "metadata": {
        "id": "RuBpGpTYwHOO"
      },
      "source": [
        "## The third In-class-exercise (9/16/2020, 20 points in total)"
      ]
    },
    {
      "cell_type": "markdown",
      "metadata": {
        "id": "DMCL47_uwHOV"
      },
      "source": [
        "The purpose of this exercise is to under users' information needs, then collect the data for analysis."
      ]
    },
    {
      "cell_type": "markdown",
      "metadata": {
        "id": "0IZ-CdDTwHOW"
      },
      "source": [
        "Question 1 (8 points): Describe an interesting research question (or practical question) you have in mind, what kind of data should be collected to answer the question(s)? How many data needed for the analysis? The detail steps for collecting and save the data. "
      ]
    },
    {
      "cell_type": "code",
      "metadata": {
        "id": "v7zSQ4TiwHOX"
      },
      "source": [
        "# Your answer here (no code for this question, write down your answer as detail as possible for the above questions):\n",
        "\n",
        "'''\n",
        "Please write you answer here:\n",
        "During this pandemic where we cannot spend our time with other people and go on a vacation the main source of entertainment for many people are movies and Tv series.\n",
        "The research question which i wanted to answer is the IMDB ratings of movies.By answering this question we can select different movies to watch on a holiday based on their genre and their rating where the rating basically describes how good a particular movie is.\n",
        "\n",
        "we need the data of atleast top 500 IMDB Ratings of the movies of a particular genre.\n",
        "So, i have selected the website \"IMDB Top 1000 ratings\" which has details such as the ratings, genre etc.\n",
        "\n",
        "Steps for Collecting and Saving the Data:\n",
        "\n",
        "I used Beautiful Soup to extract the content from the website as it helps in pulling particular content from a webpages.\n",
        "I wanted to collect 'Movie Title', 'Genre', 'Run Time', 'Meta Score(Rating)' using class.\n",
        "I created an empty list and append the collected data into the list. \n",
        "Then i have created a dataframe form the list and converted into csv file.\n",
        "\n",
        "\n",
        "\n",
        "\n",
        "\n",
        "\n",
        "'''"
      ],
      "execution_count": null,
      "outputs": []
    },
    {
      "cell_type": "markdown",
      "metadata": {
        "id": "El_Og0VewHOY"
      },
      "source": [
        "Question 2 (12 points): Write python code to collect 500 items of the data you plan to collect above."
      ]
    },
    {
      "cell_type": "code",
      "metadata": {
        "colab": {
          "base_uri": "https://localhost:8080/",
          "height": 433
        },
        "id": "_YFvFCnKwHOZ",
        "outputId": "063b0d76-7706-49c0-faa7-86bc71d2c016"
      },
      "source": [
        "# You code here (Please add comments in the code):\n",
        "import re\n",
        "import requests\n",
        "from bs4 import BeautifulSoup\n",
        "import pandas as pd\n",
        "pagenumber = 101\n",
        "title = []\n",
        "genre = [] \n",
        "time = []\n",
        "metascore = []\n",
        "for k in range(7):\n",
        "  page_link = 'https://www.imdb.com/search/title/?groups=top_1000&sort=user_rating,desc&count=100&start=' + str(pagenumber) + '&ref_=adv_nxt' #Providing the link for the website\n",
        "  page = requests.get(page_link) #Accessing the website by using the link which we wanted to webscrap\n",
        "  soup = BeautifulSoup(page.text, 'html.parser')\n",
        "  soup.find_all(\"a\", href=re.compile(\"title/tt\"))\n",
        "  #Getting the details of the movie title, genre, runtime and the metascore from the website.\n",
        "  movie_title = soup.find_all(\"a\", href=lambda href: href and \"title/tt\" in href)\n",
        "  movie_genre = soup.find_all(class_='genre')\n",
        "  movie_time = soup.find_all(class_='runtime')\n",
        "  movie_meatscore = soup.find_all(class_='metascore')\n",
        "  for ele in movie_title:\n",
        "    if ele.text is not None and ele.text != 'X' and ele.text != ' \\n':\n",
        "      title.append(ele.text)\n",
        "  for i in movie_genre:\n",
        "    genre.append((i.text.replace('\\n','')).strip())\n",
        "  for item in movie_time:\n",
        "    time.append(item.text)\n",
        "  for j in movie_meatscore:\n",
        "    metascore.append(j.text) #Appending data which we collected\n",
        "  pagenumber = pagenumber + 100\n",
        "movie_df = pd.DataFrame(list(zip(title, genre, time, metascore)), #Creating the dataframe and converting it into csv.\n",
        "               columns =['Movie Title', 'Genre', 'Run Time', 'Rating'])\n",
        "print(len(movie_df))\n",
        "movie_df.to_csv('movies.csv', index=False)\n",
        "movie_df\n",
        "\n"
      ],
      "execution_count": 5,
      "outputs": [
        {
          "output_type": "stream",
          "text": [
            "572\n"
          ],
          "name": "stdout"
        },
        {
          "output_type": "execute_result",
          "data": {
            "text/html": [
              "<div>\n",
              "<style scoped>\n",
              "    .dataframe tbody tr th:only-of-type {\n",
              "        vertical-align: middle;\n",
              "    }\n",
              "\n",
              "    .dataframe tbody tr th {\n",
              "        vertical-align: top;\n",
              "    }\n",
              "\n",
              "    .dataframe thead th {\n",
              "        text-align: right;\n",
              "    }\n",
              "</style>\n",
              "<table border=\"1\" class=\"dataframe\">\n",
              "  <thead>\n",
              "    <tr style=\"text-align: right;\">\n",
              "      <th></th>\n",
              "      <th>Movie Title</th>\n",
              "      <th>Genre</th>\n",
              "      <th>Run Time</th>\n",
              "      <th>Rating</th>\n",
              "    </tr>\n",
              "  </thead>\n",
              "  <tbody>\n",
              "    <tr>\n",
              "      <th>0</th>\n",
              "      <td>心靈捕手</td>\n",
              "      <td>Drama, Romance</td>\n",
              "      <td>126 min</td>\n",
              "      <td>70</td>\n",
              "    </tr>\n",
              "    <tr>\n",
              "      <th>1</th>\n",
              "      <td>天堂的孩子</td>\n",
              "      <td>Drama, Family, Sport</td>\n",
              "      <td>89 min</td>\n",
              "      <td>77</td>\n",
              "    </tr>\n",
              "    <tr>\n",
              "      <th>2</th>\n",
              "      <td>玩具總動員</td>\n",
              "      <td>Animation, Adventure, Comedy</td>\n",
              "      <td>81 min</td>\n",
              "      <td>95</td>\n",
              "    </tr>\n",
              "    <tr>\n",
              "      <th>3</th>\n",
              "      <td>梅爾吉勃遜之英雄本色</td>\n",
              "      <td>Biography, Drama, History</td>\n",
              "      <td>178 min</td>\n",
              "      <td>68</td>\n",
              "    </tr>\n",
              "    <tr>\n",
              "      <th>4</th>\n",
              "      <td>霸道橫行</td>\n",
              "      <td>Crime, Drama, Thriller</td>\n",
              "      <td>99 min</td>\n",
              "      <td>79</td>\n",
              "    </tr>\n",
              "    <tr>\n",
              "      <th>...</th>\n",
              "      <td>...</td>\n",
              "      <td>...</td>\n",
              "      <td>...</td>\n",
              "      <td>...</td>\n",
              "    </tr>\n",
              "    <tr>\n",
              "      <th>567</th>\n",
              "      <td>四海情深</td>\n",
              "      <td>Action, Crime, Thriller</td>\n",
              "      <td>131 min</td>\n",
              "      <td>74</td>\n",
              "    </tr>\n",
              "    <tr>\n",
              "      <th>568</th>\n",
              "      <td>Batman: Mask of the Phantasm</td>\n",
              "      <td>Comedy, Drama</td>\n",
              "      <td>129 min</td>\n",
              "      <td>85</td>\n",
              "    </tr>\n",
              "    <tr>\n",
              "      <th>569</th>\n",
              "      <td>鎗神</td>\n",
              "      <td>Drama, Fantasy, Music</td>\n",
              "      <td>98 min</td>\n",
              "      <td>74</td>\n",
              "    </tr>\n",
              "    <tr>\n",
              "      <th>570</th>\n",
              "      <td>地球之夜</td>\n",
              "      <td>Crime, Drama</td>\n",
              "      <td>112 min</td>\n",
              "      <td>62</td>\n",
              "    </tr>\n",
              "    <tr>\n",
              "      <th>571</th>\n",
              "      <td>雙面薇若妮卡</td>\n",
              "      <td>Drama, Thriller</td>\n",
              "      <td>107 min</td>\n",
              "      <td>69</td>\n",
              "    </tr>\n",
              "  </tbody>\n",
              "</table>\n",
              "<p>572 rows × 4 columns</p>\n",
              "</div>"
            ],
            "text/plain": [
              "                      Movie Title  ...      Rating\n",
              "0                            心靈捕手  ...  70        \n",
              "1                           天堂的孩子  ...  77        \n",
              "2                           玩具總動員  ...  95        \n",
              "3                      梅爾吉勃遜之英雄本色  ...  68        \n",
              "4                            霸道橫行  ...  79        \n",
              "..                            ...  ...         ...\n",
              "567                          四海情深  ...  74        \n",
              "568  Batman: Mask of the Phantasm  ...  85        \n",
              "569                            鎗神  ...  74        \n",
              "570                          地球之夜  ...  62        \n",
              "571                        雙面薇若妮卡  ...  69        \n",
              "\n",
              "[572 rows x 4 columns]"
            ]
          },
          "metadata": {
            "tags": []
          },
          "execution_count": 5
        }
      ]
    }
  ]
}