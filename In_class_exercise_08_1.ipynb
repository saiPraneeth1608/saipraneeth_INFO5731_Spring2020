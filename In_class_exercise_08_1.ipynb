{
  "nbformat": 4,
  "nbformat_minor": 0,
  "metadata": {
    "kernelspec": {
      "display_name": "Python 3",
      "language": "python",
      "name": "python3"
    },
    "language_info": {
      "codemirror_mode": {
        "name": "ipython",
        "version": 3
      },
      "file_extension": ".py",
      "mimetype": "text/x-python",
      "name": "python",
      "nbconvert_exporter": "python",
      "pygments_lexer": "ipython3",
      "version": "3.7.4"
    },
    "colab": {
      "name": "In_class_exercise_08-1.ipynb",
      "provenance": [],
      "include_colab_link": true
    }
  },
  "cells": [
    {
      "cell_type": "markdown",
      "metadata": {
        "id": "view-in-github",
        "colab_type": "text"
      },
      "source": [
        "<a href=\"https://colab.research.google.com/github/saiPraneeth1608/saipraneeth_INFO5731_Spring2020/blob/main/In_class_exercise_08_1.ipynb\" target=\"_parent\"><img src=\"https://colab.research.google.com/assets/colab-badge.svg\" alt=\"Open In Colab\"/></a>"
      ]
    },
    {
      "cell_type": "markdown",
      "metadata": {
        "id": "zWkScHVOgBIQ"
      },
      "source": [
        "# **The eighth in-class-exercise (20 points in total, 3/30/2021)**"
      ]
    },
    {
      "cell_type": "markdown",
      "metadata": {
        "id": "1kwWT-0JgBIR"
      },
      "source": [
        "The data for this exercise is from the dataset you created from assignment three. Please perform answer the following questions based on your data:"
      ]
    },
    {
      "cell_type": "markdown",
      "metadata": {
        "id": "rPcL7MGigBIR"
      },
      "source": [
        "## (1) (10 points) Write a python program to extract the sentiment related terms from the corpus. You may use python package such as polyglot or external lexicon resources in the question. Rank the sentiment related terms by frequency."
      ]
    },
    {
      "cell_type": "code",
      "metadata": {
        "id": "7FDdhaAmgBIS",
        "colab": {
          "base_uri": "https://localhost:8080/",
          "height": 402
        },
        "outputId": "79f4d863-c1e7-43f4-beaa-60d6b7d2cd27"
      },
      "source": [
        "# Write your code here\n",
        "\n",
        "import pandas as pd\n",
        "input_data = pd.read_csv('/content/Sentiment Analysis.csv')\n",
        "input_data"
      ],
      "execution_count": null,
      "outputs": [
        {
          "output_type": "execute_result",
          "data": {
            "text/html": [
              "<div>\n",
              "<style scoped>\n",
              "    .dataframe tbody tr th:only-of-type {\n",
              "        vertical-align: middle;\n",
              "    }\n",
              "\n",
              "    .dataframe tbody tr th {\n",
              "        vertical-align: top;\n",
              "    }\n",
              "\n",
              "    .dataframe thead th {\n",
              "        text-align: right;\n",
              "    }\n",
              "</style>\n",
              "<table border=\"1\" class=\"dataframe\">\n",
              "  <thead>\n",
              "    <tr style=\"text-align: right;\">\n",
              "      <th></th>\n",
              "      <th>Document ID</th>\n",
              "      <th>Reviews</th>\n",
              "      <th>Sentiment Analysis</th>\n",
              "    </tr>\n",
              "  </thead>\n",
              "  <tbody>\n",
              "    <tr>\n",
              "      <th>0</th>\n",
              "      <td>1</td>\n",
              "      <td>I bought this computer because I was looking...</td>\n",
              "      <td>Positive</td>\n",
              "    </tr>\n",
              "    <tr>\n",
              "      <th>1</th>\n",
              "      <td>2</td>\n",
              "      <td>I am a software developer and have been usin...</td>\n",
              "      <td>Negative</td>\n",
              "    </tr>\n",
              "    <tr>\n",
              "      <th>2</th>\n",
              "      <td>3</td>\n",
              "      <td>I bought this laptop for personal home use. ...</td>\n",
              "      <td>Negative</td>\n",
              "    </tr>\n",
              "    <tr>\n",
              "      <th>3</th>\n",
              "      <td>4</td>\n",
              "      <td>We purchased this laptop for my college-boun...</td>\n",
              "      <td>Neutral</td>\n",
              "    </tr>\n",
              "    <tr>\n",
              "      <th>4</th>\n",
              "      <td>5</td>\n",
              "      <td>It came poorly packed and not usable as the ...</td>\n",
              "      <td>Negative</td>\n",
              "    </tr>\n",
              "    <tr>\n",
              "      <th>...</th>\n",
              "      <td>...</td>\n",
              "      <td>...</td>\n",
              "      <td>...</td>\n",
              "    </tr>\n",
              "    <tr>\n",
              "      <th>106</th>\n",
              "      <td>107</td>\n",
              "      <td>Warning: Avoid all Dell products in the even...</td>\n",
              "      <td>Negative</td>\n",
              "    </tr>\n",
              "    <tr>\n",
              "      <th>107</th>\n",
              "      <td>108</td>\n",
              "      <td>The screen quality is very good, especially ...</td>\n",
              "      <td>Positive</td>\n",
              "    </tr>\n",
              "    <tr>\n",
              "      <th>108</th>\n",
              "      <td>109</td>\n",
              "      <td>The DC adapter plugin, is not a tight fit an...</td>\n",
              "      <td>Negative</td>\n",
              "    </tr>\n",
              "    <tr>\n",
              "      <th>109</th>\n",
              "      <td>110</td>\n",
              "      <td>This is my second Dell laptop. The first one...</td>\n",
              "      <td>Negative</td>\n",
              "    </tr>\n",
              "    <tr>\n",
              "      <th>110</th>\n",
              "      <td>111</td>\n",
              "      <td>overall this laptop is ok. I don't love it. ...</td>\n",
              "      <td>Negative</td>\n",
              "    </tr>\n",
              "  </tbody>\n",
              "</table>\n",
              "<p>111 rows × 3 columns</p>\n",
              "</div>"
            ],
            "text/plain": [
              "     Document ID  ... Sentiment Analysis\n",
              "0              1  ...           Positive\n",
              "1              2  ...           Negative\n",
              "2              3  ...           Negative\n",
              "3              4  ...            Neutral\n",
              "4              5  ...           Negative\n",
              "..           ...  ...                ...\n",
              "106          107  ...           Negative\n",
              "107          108  ...           Positive\n",
              "108          109  ...           Negative\n",
              "109          110  ...           Negative\n",
              "110          111  ...           Negative\n",
              "\n",
              "[111 rows x 3 columns]"
            ]
          },
          "metadata": {
            "tags": []
          },
          "execution_count": 3
        }
      ]
    },
    {
      "cell_type": "code",
      "metadata": {
        "id": "EeZ_83E7sCQ6",
        "colab": {
          "base_uri": "https://localhost:8080/"
        },
        "outputId": "aef08ee5-7574-4e01-f34d-24c51909bc6e"
      },
      "source": [
        "import nltk\n",
        "nltk.download()"
      ],
      "execution_count": null,
      "outputs": [
        {
          "output_type": "stream",
          "text": [
            "NLTK Downloader\n",
            "---------------------------------------------------------------------------\n",
            "    d) Download   l) List    u) Update   c) Config   h) Help   q) Quit\n",
            "---------------------------------------------------------------------------\n",
            "Downloader> d\n",
            "\n",
            "Download which package (l=list; x=cancel)?\n",
            "  Identifier> all\n",
            "    Downloading collection 'all'\n",
            "       | \n",
            "       | Downloading package abc to /root/nltk_data...\n",
            "       |   Unzipping corpora/abc.zip.\n",
            "       | Downloading package alpino to /root/nltk_data...\n",
            "       |   Unzipping corpora/alpino.zip.\n",
            "       | Downloading package biocreative_ppi to /root/nltk_data...\n",
            "       |   Unzipping corpora/biocreative_ppi.zip.\n",
            "       | Downloading package brown to /root/nltk_data...\n",
            "       |   Unzipping corpora/brown.zip.\n",
            "       | Downloading package brown_tei to /root/nltk_data...\n",
            "       |   Unzipping corpora/brown_tei.zip.\n",
            "       | Downloading package cess_cat to /root/nltk_data...\n",
            "       |   Unzipping corpora/cess_cat.zip.\n",
            "       | Downloading package cess_esp to /root/nltk_data...\n",
            "       |   Unzipping corpora/cess_esp.zip.\n",
            "       | Downloading package chat80 to /root/nltk_data...\n",
            "       |   Unzipping corpora/chat80.zip.\n",
            "       | Downloading package city_database to /root/nltk_data...\n",
            "       |   Unzipping corpora/city_database.zip.\n",
            "       | Downloading package cmudict to /root/nltk_data...\n",
            "       |   Unzipping corpora/cmudict.zip.\n",
            "       | Downloading package comparative_sentences to\n",
            "       |     /root/nltk_data...\n",
            "       |   Unzipping corpora/comparative_sentences.zip.\n",
            "       | Downloading package comtrans to /root/nltk_data...\n",
            "       | Downloading package conll2000 to /root/nltk_data...\n",
            "       |   Unzipping corpora/conll2000.zip.\n",
            "       | Downloading package conll2002 to /root/nltk_data...\n",
            "       |   Unzipping corpora/conll2002.zip.\n",
            "       | Downloading package conll2007 to /root/nltk_data...\n",
            "       | Downloading package crubadan to /root/nltk_data...\n",
            "       |   Unzipping corpora/crubadan.zip.\n",
            "       | Downloading package dependency_treebank to /root/nltk_data...\n",
            "       |   Unzipping corpora/dependency_treebank.zip.\n",
            "       | Downloading package dolch to /root/nltk_data...\n",
            "       |   Unzipping corpora/dolch.zip.\n",
            "       | Downloading package europarl_raw to /root/nltk_data...\n",
            "       |   Unzipping corpora/europarl_raw.zip.\n",
            "       | Downloading package floresta to /root/nltk_data...\n",
            "       |   Unzipping corpora/floresta.zip.\n",
            "       | Downloading package framenet_v15 to /root/nltk_data...\n",
            "       |   Unzipping corpora/framenet_v15.zip.\n",
            "       | Downloading package framenet_v17 to /root/nltk_data...\n",
            "       |   Unzipping corpora/framenet_v17.zip.\n",
            "       | Downloading package gazetteers to /root/nltk_data...\n",
            "       |   Unzipping corpora/gazetteers.zip.\n",
            "       | Downloading package genesis to /root/nltk_data...\n",
            "       |   Unzipping corpora/genesis.zip.\n",
            "       | Downloading package gutenberg to /root/nltk_data...\n",
            "       |   Unzipping corpora/gutenberg.zip.\n",
            "       | Downloading package ieer to /root/nltk_data...\n",
            "       |   Unzipping corpora/ieer.zip.\n",
            "       | Downloading package inaugural to /root/nltk_data...\n",
            "       |   Unzipping corpora/inaugural.zip.\n",
            "       | Downloading package indian to /root/nltk_data...\n",
            "       |   Unzipping corpora/indian.zip.\n",
            "       | Downloading package jeita to /root/nltk_data...\n",
            "       | Downloading package kimmo to /root/nltk_data...\n",
            "       |   Unzipping corpora/kimmo.zip.\n",
            "       | Downloading package knbc to /root/nltk_data...\n",
            "       | Downloading package lin_thesaurus to /root/nltk_data...\n",
            "       |   Unzipping corpora/lin_thesaurus.zip.\n",
            "       | Downloading package mac_morpho to /root/nltk_data...\n",
            "       |   Unzipping corpora/mac_morpho.zip.\n",
            "       | Downloading package machado to /root/nltk_data...\n",
            "       | Downloading package masc_tagged to /root/nltk_data...\n",
            "       | Downloading package moses_sample to /root/nltk_data...\n",
            "       |   Unzipping models/moses_sample.zip.\n",
            "       | Downloading package movie_reviews to /root/nltk_data...\n",
            "       |   Unzipping corpora/movie_reviews.zip.\n",
            "       | Downloading package names to /root/nltk_data...\n",
            "       |   Unzipping corpora/names.zip.\n",
            "       | Downloading package nombank.1.0 to /root/nltk_data...\n",
            "       | Downloading package nps_chat to /root/nltk_data...\n",
            "       |   Unzipping corpora/nps_chat.zip.\n",
            "       | Downloading package omw to /root/nltk_data...\n",
            "       |   Unzipping corpora/omw.zip.\n",
            "       | Downloading package opinion_lexicon to /root/nltk_data...\n",
            "       |   Unzipping corpora/opinion_lexicon.zip.\n",
            "       | Downloading package paradigms to /root/nltk_data...\n",
            "       |   Unzipping corpora/paradigms.zip.\n",
            "       | Downloading package pil to /root/nltk_data...\n",
            "       |   Unzipping corpora/pil.zip.\n",
            "       | Downloading package pl196x to /root/nltk_data...\n",
            "       |   Unzipping corpora/pl196x.zip.\n",
            "       | Downloading package ppattach to /root/nltk_data...\n",
            "       |   Unzipping corpora/ppattach.zip.\n",
            "       | Downloading package problem_reports to /root/nltk_data...\n",
            "       |   Unzipping corpora/problem_reports.zip.\n",
            "       | Downloading package propbank to /root/nltk_data...\n",
            "       | Downloading package ptb to /root/nltk_data...\n",
            "       |   Unzipping corpora/ptb.zip.\n",
            "       | Downloading package product_reviews_1 to /root/nltk_data...\n",
            "       |   Unzipping corpora/product_reviews_1.zip.\n",
            "       | Downloading package product_reviews_2 to /root/nltk_data...\n",
            "       |   Unzipping corpora/product_reviews_2.zip.\n",
            "       | Downloading package pros_cons to /root/nltk_data...\n",
            "       |   Unzipping corpora/pros_cons.zip.\n",
            "       | Downloading package qc to /root/nltk_data...\n",
            "       |   Unzipping corpora/qc.zip.\n",
            "       | Downloading package reuters to /root/nltk_data...\n",
            "       | Downloading package rte to /root/nltk_data...\n",
            "       |   Unzipping corpora/rte.zip.\n",
            "       | Downloading package semcor to /root/nltk_data...\n",
            "       | Downloading package senseval to /root/nltk_data...\n",
            "       |   Unzipping corpora/senseval.zip.\n",
            "       | Downloading package sentiwordnet to /root/nltk_data...\n",
            "       |   Unzipping corpora/sentiwordnet.zip.\n",
            "       | Downloading package sentence_polarity to /root/nltk_data...\n",
            "       |   Unzipping corpora/sentence_polarity.zip.\n",
            "       | Downloading package shakespeare to /root/nltk_data...\n",
            "       |   Unzipping corpora/shakespeare.zip.\n",
            "       | Downloading package sinica_treebank to /root/nltk_data...\n",
            "       |   Unzipping corpora/sinica_treebank.zip.\n",
            "       | Downloading package smultron to /root/nltk_data...\n",
            "       |   Unzipping corpora/smultron.zip.\n",
            "       | Downloading package state_union to /root/nltk_data...\n",
            "       |   Unzipping corpora/state_union.zip.\n",
            "       | Downloading package stopwords to /root/nltk_data...\n",
            "       |   Unzipping corpora/stopwords.zip.\n",
            "       | Downloading package subjectivity to /root/nltk_data...\n",
            "       |   Unzipping corpora/subjectivity.zip.\n",
            "       | Downloading package swadesh to /root/nltk_data...\n",
            "       |   Unzipping corpora/swadesh.zip.\n",
            "       | Downloading package switchboard to /root/nltk_data...\n",
            "       |   Unzipping corpora/switchboard.zip.\n",
            "       | Downloading package timit to /root/nltk_data...\n",
            "       |   Unzipping corpora/timit.zip.\n",
            "       | Downloading package toolbox to /root/nltk_data...\n",
            "       |   Unzipping corpora/toolbox.zip.\n",
            "       | Downloading package treebank to /root/nltk_data...\n",
            "       |   Unzipping corpora/treebank.zip.\n",
            "       | Downloading package twitter_samples to /root/nltk_data...\n",
            "       |   Unzipping corpora/twitter_samples.zip.\n",
            "       | Downloading package udhr to /root/nltk_data...\n",
            "       |   Unzipping corpora/udhr.zip.\n",
            "       | Downloading package udhr2 to /root/nltk_data...\n",
            "       |   Unzipping corpora/udhr2.zip.\n",
            "       | Downloading package unicode_samples to /root/nltk_data...\n",
            "       |   Unzipping corpora/unicode_samples.zip.\n",
            "       | Downloading package universal_treebanks_v20 to\n",
            "       |     /root/nltk_data...\n",
            "       | Downloading package verbnet to /root/nltk_data...\n",
            "       |   Unzipping corpora/verbnet.zip.\n",
            "       | Downloading package verbnet3 to /root/nltk_data...\n",
            "       |   Unzipping corpora/verbnet3.zip.\n",
            "       | Downloading package webtext to /root/nltk_data...\n",
            "       |   Unzipping corpora/webtext.zip.\n",
            "       | Downloading package wordnet to /root/nltk_data...\n",
            "       |   Unzipping corpora/wordnet.zip.\n",
            "       | Downloading package wordnet_ic to /root/nltk_data...\n",
            "       |   Unzipping corpora/wordnet_ic.zip.\n",
            "       | Downloading package words to /root/nltk_data...\n",
            "       |   Unzipping corpora/words.zip.\n",
            "       | Downloading package ycoe to /root/nltk_data...\n",
            "       |   Unzipping corpora/ycoe.zip.\n",
            "       | Downloading package rslp to /root/nltk_data...\n",
            "       |   Unzipping stemmers/rslp.zip.\n",
            "       | Downloading package maxent_treebank_pos_tagger to\n",
            "       |     /root/nltk_data...\n",
            "       |   Unzipping taggers/maxent_treebank_pos_tagger.zip.\n",
            "       | Downloading package universal_tagset to /root/nltk_data...\n",
            "       |   Unzipping taggers/universal_tagset.zip.\n",
            "       | Downloading package maxent_ne_chunker to /root/nltk_data...\n",
            "       |   Unzipping chunkers/maxent_ne_chunker.zip.\n",
            "       | Downloading package punkt to /root/nltk_data...\n",
            "       |   Unzipping tokenizers/punkt.zip.\n",
            "       | Downloading package book_grammars to /root/nltk_data...\n",
            "       |   Unzipping grammars/book_grammars.zip.\n",
            "       | Downloading package sample_grammars to /root/nltk_data...\n",
            "       |   Unzipping grammars/sample_grammars.zip.\n",
            "       | Downloading package spanish_grammars to /root/nltk_data...\n",
            "       |   Unzipping grammars/spanish_grammars.zip.\n",
            "       | Downloading package basque_grammars to /root/nltk_data...\n",
            "       |   Unzipping grammars/basque_grammars.zip.\n",
            "       | Downloading package large_grammars to /root/nltk_data...\n",
            "       |   Unzipping grammars/large_grammars.zip.\n",
            "       | Downloading package tagsets to /root/nltk_data...\n",
            "       |   Unzipping help/tagsets.zip.\n",
            "       | Downloading package snowball_data to /root/nltk_data...\n",
            "       | Downloading package bllip_wsj_no_aux to /root/nltk_data...\n",
            "       |   Unzipping models/bllip_wsj_no_aux.zip.\n",
            "       | Downloading package word2vec_sample to /root/nltk_data...\n",
            "       |   Unzipping models/word2vec_sample.zip.\n",
            "       | Downloading package panlex_swadesh to /root/nltk_data...\n",
            "       | Downloading package mte_teip5 to /root/nltk_data...\n",
            "       |   Unzipping corpora/mte_teip5.zip.\n",
            "       | Downloading package averaged_perceptron_tagger to\n",
            "       |     /root/nltk_data...\n",
            "       |   Unzipping taggers/averaged_perceptron_tagger.zip.\n",
            "       | Downloading package averaged_perceptron_tagger_ru to\n",
            "       |     /root/nltk_data...\n",
            "       |   Unzipping taggers/averaged_perceptron_tagger_ru.zip.\n",
            "       | Downloading package perluniprops to /root/nltk_data...\n",
            "       |   Unzipping misc/perluniprops.zip.\n",
            "       | Downloading package nonbreaking_prefixes to\n",
            "       |     /root/nltk_data...\n",
            "       |   Unzipping corpora/nonbreaking_prefixes.zip.\n",
            "       | Downloading package vader_lexicon to /root/nltk_data...\n",
            "       | Downloading package porter_test to /root/nltk_data...\n",
            "       |   Unzipping stemmers/porter_test.zip.\n",
            "       | Downloading package wmt15_eval to /root/nltk_data...\n",
            "       |   Unzipping models/wmt15_eval.zip.\n",
            "       | Downloading package mwa_ppdb to /root/nltk_data...\n",
            "       |   Unzipping misc/mwa_ppdb.zip.\n",
            "       | \n",
            "     Done downloading collection all\n",
            "\n",
            "---------------------------------------------------------------------------\n",
            "    d) Download   l) List    u) Update   c) Config   h) Help   q) Quit\n",
            "---------------------------------------------------------------------------\n",
            "Downloader> q\n"
          ],
          "name": "stdout"
        },
        {
          "output_type": "execute_result",
          "data": {
            "text/plain": [
              "True"
            ]
          },
          "metadata": {
            "tags": []
          },
          "execution_count": 18
        }
      ]
    },
    {
      "cell_type": "code",
      "metadata": {
        "id": "NBSVQ5-fp_Re"
      },
      "source": [
        "import re\n",
        "from nltk.corpus import stopwords\n",
        "from textblob import Word\n",
        "import pandas as pd\n",
        "import nltk"
      ],
      "execution_count": null,
      "outputs": []
    },
    {
      "cell_type": "code",
      "metadata": {
        "id": "HMIGsCUfqBJ5"
      },
      "source": [
        "def special_characters_count(given_input):\n",
        "  number_of_special_characters = 0\n",
        "  for i in range(len(given_input)):\n",
        "    if not((given_input[i].isalpha()) and (given_input[i].isdigit())):\n",
        "        number_of_special_characters = number_of_special_characters + 1\n",
        "  return number_of_special_characters"
      ],
      "execution_count": null,
      "outputs": []
    },
    {
      "cell_type": "code",
      "metadata": {
        "id": "VyS9ECPbqKZd",
        "colab": {
          "base_uri": "https://localhost:8080/",
          "height": 586
        },
        "outputId": "424631ca-1d51-4232-d17e-8bf4c41d46f8"
      },
      "source": [
        "#Removal of special characters:\n",
        "\n",
        "input_data['Removal of special characters'] = input_data['Reviews'].apply(lambda x: ''.join(re.sub(r\"[^a-zA-Z0-9]+\", ' ', charctr) for charctr in x ))\n",
        "\n",
        "#Removal of punctuations :\n",
        "\n",
        "input_data['Punctuation'] = input_data['Removal of special characters'].str.replace('[^\\w\\s]','')\n",
        "\n",
        "#Removal of numbers:\n",
        "\n",
        "input_data['Removal of numbers'] = input_data['Punctuation'].str.replace('\\d+', '')\n",
        "\n",
        "#Lower case all texts:\n",
        "\n",
        "input_data['Lower Case words'] = input_data['Removal of numbers'].apply(lambda x: \" \".join(x.lower() for x in x.split()))\n",
        "\n",
        "#Removing stopwords by using stopwordslist\n",
        "\n",
        "stop = stopwords.words('english')\n",
        "input_data['removed stopwords'] = input_data['Lower Case words'].apply(lambda x: \" \".join(x for x in x.split() if x not in stop))\n",
        "input_data"
      ],
      "execution_count": null,
      "outputs": [
        {
          "output_type": "execute_result",
          "data": {
            "text/html": [
              "<div>\n",
              "<style scoped>\n",
              "    .dataframe tbody tr th:only-of-type {\n",
              "        vertical-align: middle;\n",
              "    }\n",
              "\n",
              "    .dataframe tbody tr th {\n",
              "        vertical-align: top;\n",
              "    }\n",
              "\n",
              "    .dataframe thead th {\n",
              "        text-align: right;\n",
              "    }\n",
              "</style>\n",
              "<table border=\"1\" class=\"dataframe\">\n",
              "  <thead>\n",
              "    <tr style=\"text-align: right;\">\n",
              "      <th></th>\n",
              "      <th>Document ID</th>\n",
              "      <th>Reviews</th>\n",
              "      <th>Sentiment Analysis</th>\n",
              "      <th>Removal of special characters</th>\n",
              "      <th>Punctuation</th>\n",
              "      <th>Removal of numbers</th>\n",
              "      <th>Lower Case words</th>\n",
              "      <th>removed stopwords</th>\n",
              "    </tr>\n",
              "  </thead>\n",
              "  <tbody>\n",
              "    <tr>\n",
              "      <th>0</th>\n",
              "      <td>1</td>\n",
              "      <td>I bought this computer because I was looking...</td>\n",
              "      <td>Positive</td>\n",
              "      <td>I bought this computer because I was looking...</td>\n",
              "      <td>I bought this computer because I was looking...</td>\n",
              "      <td>I bought this computer because I was looking...</td>\n",
              "      <td>i bought this computer because i was looking f...</td>\n",
              "      <td>bought computer looking computer wife ssd leas...</td>\n",
              "    </tr>\n",
              "    <tr>\n",
              "      <th>1</th>\n",
              "      <td>2</td>\n",
              "      <td>I am a software developer and have been usin...</td>\n",
              "      <td>Negative</td>\n",
              "      <td>I am a software developer and have been usin...</td>\n",
              "      <td>I am a software developer and have been usin...</td>\n",
              "      <td>I am a software developer and have been usin...</td>\n",
              "      <td>i am a software developer and have been using ...</td>\n",
              "      <td>software developer using memory intensive prog...</td>\n",
              "    </tr>\n",
              "    <tr>\n",
              "      <th>2</th>\n",
              "      <td>3</td>\n",
              "      <td>I bought this laptop for personal home use. ...</td>\n",
              "      <td>Negative</td>\n",
              "      <td>I bought this laptop for personal home use  ...</td>\n",
              "      <td>I bought this laptop for personal home use  ...</td>\n",
              "      <td>I bought this laptop for personal home use  ...</td>\n",
              "      <td>i bought this laptop for personal home use mai...</td>\n",
              "      <td>bought laptop personal home use mainly interne...</td>\n",
              "    </tr>\n",
              "    <tr>\n",
              "      <th>3</th>\n",
              "      <td>4</td>\n",
              "      <td>We purchased this laptop for my college-boun...</td>\n",
              "      <td>Neutral</td>\n",
              "      <td>We purchased this laptop for my college boun...</td>\n",
              "      <td>We purchased this laptop for my college boun...</td>\n",
              "      <td>We purchased this laptop for my college boun...</td>\n",
              "      <td>we purchased this laptop for my college bound ...</td>\n",
              "      <td>purchased laptop college bound engineering stu...</td>\n",
              "    </tr>\n",
              "    <tr>\n",
              "      <th>4</th>\n",
              "      <td>5</td>\n",
              "      <td>It came poorly packed and not usable as the ...</td>\n",
              "      <td>Negative</td>\n",
              "      <td>It came poorly packed and not usable as the ...</td>\n",
              "      <td>It came poorly packed and not usable as the ...</td>\n",
              "      <td>It came poorly packed and not usable as the ...</td>\n",
              "      <td>it came poorly packed and not usable as the sc...</td>\n",
              "      <td>came poorly packed usable screen dark even hig...</td>\n",
              "    </tr>\n",
              "    <tr>\n",
              "      <th>...</th>\n",
              "      <td>...</td>\n",
              "      <td>...</td>\n",
              "      <td>...</td>\n",
              "      <td>...</td>\n",
              "      <td>...</td>\n",
              "      <td>...</td>\n",
              "      <td>...</td>\n",
              "      <td>...</td>\n",
              "    </tr>\n",
              "    <tr>\n",
              "      <th>106</th>\n",
              "      <td>107</td>\n",
              "      <td>Warning: Avoid all Dell products in the even...</td>\n",
              "      <td>Negative</td>\n",
              "      <td>Warning  Avoid all Dell products in the even...</td>\n",
              "      <td>Warning  Avoid all Dell products in the even...</td>\n",
              "      <td>Warning  Avoid all Dell products in the even...</td>\n",
              "      <td>warning avoid all dell products in the event t...</td>\n",
              "      <td>warning avoid dell products event might need c...</td>\n",
              "    </tr>\n",
              "    <tr>\n",
              "      <th>107</th>\n",
              "      <td>108</td>\n",
              "      <td>The screen quality is very good, especially ...</td>\n",
              "      <td>Positive</td>\n",
              "      <td>The screen quality is very good  especially ...</td>\n",
              "      <td>The screen quality is very good  especially ...</td>\n",
              "      <td>The screen quality is very good  especially ...</td>\n",
              "      <td>the screen quality is very good especially for...</td>\n",
              "      <td>screen quality good especially gaming movies k...</td>\n",
              "    </tr>\n",
              "    <tr>\n",
              "      <th>108</th>\n",
              "      <td>109</td>\n",
              "      <td>The DC adapter plugin, is not a tight fit an...</td>\n",
              "      <td>Negative</td>\n",
              "      <td>The DC adapter plugin  is not a tight fit an...</td>\n",
              "      <td>The DC adapter plugin  is not a tight fit an...</td>\n",
              "      <td>The DC adapter plugin  is not a tight fit an...</td>\n",
              "      <td>the dc adapter plugin is not a tight fit and e...</td>\n",
              "      <td>dc adapter plugin tight fit easily becomes loo...</td>\n",
              "    </tr>\n",
              "    <tr>\n",
              "      <th>109</th>\n",
              "      <td>110</td>\n",
              "      <td>This is my second Dell laptop. The first one...</td>\n",
              "      <td>Negative</td>\n",
              "      <td>This is my second Dell laptop  The first one...</td>\n",
              "      <td>This is my second Dell laptop  The first one...</td>\n",
              "      <td>This is my second Dell laptop  The first one...</td>\n",
              "      <td>this is my second dell laptop the first one wa...</td>\n",
              "      <td>second dell laptop first one great replaced ge...</td>\n",
              "    </tr>\n",
              "    <tr>\n",
              "      <th>110</th>\n",
              "      <td>111</td>\n",
              "      <td>overall this laptop is ok. I don't love it. ...</td>\n",
              "      <td>Negative</td>\n",
              "      <td>overall this laptop is ok  I don t love it  ...</td>\n",
              "      <td>overall this laptop is ok  I don t love it  ...</td>\n",
              "      <td>overall this laptop is ok  I don t love it  ...</td>\n",
              "      <td>overall this laptop is ok i don t love it the ...</td>\n",
              "      <td>overall laptop ok love built wifi antenna sub ...</td>\n",
              "    </tr>\n",
              "  </tbody>\n",
              "</table>\n",
              "<p>111 rows × 8 columns</p>\n",
              "</div>"
            ],
            "text/plain": [
              "     Document ID  ...                                  removed stopwords\n",
              "0              1  ...  bought computer looking computer wife ssd leas...\n",
              "1              2  ...  software developer using memory intensive prog...\n",
              "2              3  ...  bought laptop personal home use mainly interne...\n",
              "3              4  ...  purchased laptop college bound engineering stu...\n",
              "4              5  ...  came poorly packed usable screen dark even hig...\n",
              "..           ...  ...                                                ...\n",
              "106          107  ...  warning avoid dell products event might need c...\n",
              "107          108  ...  screen quality good especially gaming movies k...\n",
              "108          109  ...  dc adapter plugin tight fit easily becomes loo...\n",
              "109          110  ...  second dell laptop first one great replaced ge...\n",
              "110          111  ...  overall laptop ok love built wifi antenna sub ...\n",
              "\n",
              "[111 rows x 8 columns]"
            ]
          },
          "metadata": {
            "tags": []
          },
          "execution_count": 23
        }
      ]
    },
    {
      "cell_type": "code",
      "metadata": {
        "id": "klCtzlrz5Tqq",
        "colab": {
          "base_uri": "https://localhost:8080/"
        },
        "outputId": "870bd561-113a-46e9-b711-baf71b4c92bf"
      },
      "source": [
        "from textblob import TextBlob\n",
        "words = []\n",
        "emotional_words = []\n",
        "for i in input_data['removed stopwords']:\n",
        "  words.append(i.split(' '))\n",
        "for i in words:\n",
        "  for j in i:\n",
        "    if TextBlob(j).sentiment.polarity != 0:\n",
        "      emotional_words.append(j)\n",
        "print(emotional_words)"
      ],
      "execution_count": null,
      "outputs": [
        {
          "output_type": "stream",
          "text": [
            "['least', 'least', 'comfortable', 'good', 'little', 'liked', 'full', 'useless', 'modern', 'useful', 'nice', 'extremely', 'happy', 'incredible', 'completely', 'heavy', 'heavy', 'little', 'less', 'half', 'barely', 'absolute', 'best', 'okay', 'better', 'mainly', 'many', 'fast', 'quick', 'fast', 'negative', 'loud', 'good', 'hard', 'surprised', 'loud', 'poorly', 'dark', 'hard', 'really', 'fast', 'nice', 'quick', 'black', 'nice', 'comfortable', 'great', 'fast', 'sure', 'hard', 'right', 'able', 'far', 'best', 'fast', 'wrong', 'negative', 'small', 'negative', 'dishonest', 'incompetent', 'whole', 'hard', 'old', 'better', 'old', 'minus', 'pleased', 'new', 'higher', 'base', 'right', 'half', 'love', 'super', 'fast', 'slow', 'generally', 'kind', 'cool', 'perfectly', 'hard', 'fast', 'seamless', 'cheap', 'super', 'small', 'hard', 'horrible', 'easy', 'loud', 'hot', 'decent', 'due', 'annoying', 'poor', 'sound', 'sure', 'failure', 'really', 'bad', 'excited', 'new', 'previous', 'absolutely', 'loved', 'due', 'good', 'black', 'really', 'old', 'new', 'fast', 'fast', 'love', 'crap', 'first', 'new', 'glad', 'good', 'less', 'spent', 'new', 'new', 'better', 'handy', 'sound', 'good', 'better', 'pleased', 'little', 'wrong', 'great', 'little', 'accurately', 'super', 'fast', 'little', 'better', 'best', 'far', 'waste', 'first', 'many', 'excellent', 'fast', 'really', 'complained', 'many', 'ok', 'bad', 'new', 'new', 'long', 'early', 'far', 'usually', 'new', 'hard', 'near', 'broken', 'first', 'usually', 'first', 'expensive', 'least', 'long', 'pretty', 'long', 'surprisingly', 'long', 'light', 'awesome', 'live', 'sound', 'greatly', 'good', 'far', 'fast', 'really', 'lazy', 'great', 'new', 'top', 'new', 'ok', 'broken', 'sure', 'expected', 'better', 'new', 'cool', 'worst', 'crushed', 'randomly', 'fine', 'new', 'new', 'hard', 'pretty', 'sure', 'love', 'far', 'loving', 'spent', 'really', 'sound', 'great', 'happy', 'sure', 'worthy', 'light', 'difficult', 'first', 'wrong', 'seriously', 'first', 'good', 'casual', 'difficult', 'fast', 'easy', 'significant', 'mere', 'complete', 'good', 'half', 'wrong', 'responsible', 'high', 'negative', 'kind', 'greatly', 'older', 'good', 'easy', 'fine', 'rarely', 'good', 'best', 'spent', 'love', 'great', 'fast', 'really', 'original', 'common', 'willing', 'new', 'full', 'waste', 'exactly', 'happy', 'high', 'new', 'hard', 'absolutely', 'love', 'good', 'live', 'first', 'hard', 'failed', 'failed', 'light', 'slightly', 'first', 'great', 'right', 'waste', 'expected', 'amazing', 'fast', 'reasonable', 'happy', 'expected', 'really', 'good', 'good', 'able', 'right', 'liked', 'hard', 'black', 'black', 'black', 'disappointed', 'excellent', 'perfectly', 'fast', 'worth', 'good', 'far', 'love', 'quick', 'love', 'light', 'easy', 'new', 'long', 'unfortunately', 'less', 'fine', 'happy', 'usually', 'expected', 'good', 'excellent', 'great', 'right', 'professional', 'fast', 'fast', 'top', 'black', 'difficult', 'fast', 'easy', 'nice', 'absolutely', 'love', 'happy', 'great', 'little', 'new', 'good', 'good', 'amazing', 'fast', 'good', 'great', 'nice', 'great', 'far', 'nice', 'far', 'love', 'half', 'hard', 'best', 'amazing', 'super', 'fast', 'expected', 'really', 'fast', 'nice', 'far', 'completely', 'disappointing', 'bad', 'beautiful', 'fast', 'satisfied', 'good', 'high', 'fast', 'smooth', 'liked', 'much', 'good', 'happy', 'best', 'fast', 'perfect', 'great', 'great', 'best', 'fast', 'super', 'trouble', 'odd', 'whole', 'joy', 'happy', 'super', 'easy', 'seriously', 'loud', 'old', 'new', 'pretty', 'much', 'experienced', 'major', 'slow', 'slow', 'single', 'advanced', 'right', 'refreshing', 'easily', 'single', 'advanced', 'ugly', 'right', 'first', 'seriously', 'horrible', 'difficult', 'completely', 'first', 'awful', 'awful', 'awful', 'good', 'good', 'little', 'softly', 'good', 'good', 'epic', 'quickly', 'good', 'okay', 'tight', 'fit', 'easily', 'loose', 'new', 'hard', 'new', 'hard', 'happy', 'first', 'great', 'hard', 'less', 'fixed', 'difficult', 'ok', 'love', 'mediocre', 'slow', 'fine', 'poorly', 'old', 'fine']\n"
          ],
          "name": "stdout"
        }
      ]
    },
    {
      "cell_type": "code",
      "metadata": {
        "id": "FLHojTw-sjgI",
        "colab": {
          "base_uri": "https://localhost:8080/",
          "height": 402
        },
        "outputId": "df44c2c8-2d4f-40bd-d5a7-da0f20c9cecf"
      },
      "source": [
        "from collections import Counter\n",
        "import numpy as np\n",
        "emotional_word_count = Counter(emotional_words)\n",
        "df_words = pd.DataFrame(list(zip(list (emotional_word_count.keys()),list (emotional_word_count.values()))), columns = ['words', 'Frequency'])\n",
        "df_words = df_words.sort_values(by=['Frequency'], ascending=False)\n",
        "df_words.insert(0, \"Rank\", np.arange(1,len(df_words)+1), True)\n",
        "df_words"
      ],
      "execution_count": null,
      "outputs": [
        {
          "output_type": "execute_result",
          "data": {
            "text/html": [
              "<div>\n",
              "<style scoped>\n",
              "    .dataframe tbody tr th:only-of-type {\n",
              "        vertical-align: middle;\n",
              "    }\n",
              "\n",
              "    .dataframe tbody tr th {\n",
              "        vertical-align: top;\n",
              "    }\n",
              "\n",
              "    .dataframe thead th {\n",
              "        text-align: right;\n",
              "    }\n",
              "</style>\n",
              "<table border=\"1\" class=\"dataframe\">\n",
              "  <thead>\n",
              "    <tr style=\"text-align: right;\">\n",
              "      <th></th>\n",
              "      <th>Rank</th>\n",
              "      <th>words</th>\n",
              "      <th>Frequency</th>\n",
              "    </tr>\n",
              "  </thead>\n",
              "  <tbody>\n",
              "    <tr>\n",
              "      <th>24</th>\n",
              "      <td>1</td>\n",
              "      <td>fast</td>\n",
              "      <td>26</td>\n",
              "    </tr>\n",
              "    <tr>\n",
              "      <th>2</th>\n",
              "      <td>2</td>\n",
              "      <td>good</td>\n",
              "      <td>25</td>\n",
              "    </tr>\n",
              "    <tr>\n",
              "      <th>47</th>\n",
              "      <td>3</td>\n",
              "      <td>new</td>\n",
              "      <td>21</td>\n",
              "    </tr>\n",
              "    <tr>\n",
              "      <th>28</th>\n",
              "      <td>4</td>\n",
              "      <td>hard</td>\n",
              "      <td>15</td>\n",
              "    </tr>\n",
              "    <tr>\n",
              "      <th>34</th>\n",
              "      <td>5</td>\n",
              "      <td>great</td>\n",
              "      <td>13</td>\n",
              "    </tr>\n",
              "    <tr>\n",
              "      <th>...</th>\n",
              "      <td>...</td>\n",
              "      <td>...</td>\n",
              "      <td>...</td>\n",
              "    </tr>\n",
              "    <tr>\n",
              "      <th>72</th>\n",
              "      <td>147</td>\n",
              "      <td>loved</td>\n",
              "      <td>1</td>\n",
              "    </tr>\n",
              "    <tr>\n",
              "      <th>70</th>\n",
              "      <td>148</td>\n",
              "      <td>previous</td>\n",
              "      <td>1</td>\n",
              "    </tr>\n",
              "    <tr>\n",
              "      <th>69</th>\n",
              "      <td>149</td>\n",
              "      <td>excited</td>\n",
              "      <td>1</td>\n",
              "    </tr>\n",
              "    <tr>\n",
              "      <th>67</th>\n",
              "      <td>150</td>\n",
              "      <td>failure</td>\n",
              "      <td>1</td>\n",
              "    </tr>\n",
              "    <tr>\n",
              "      <th>150</th>\n",
              "      <td>151</td>\n",
              "      <td>mediocre</td>\n",
              "      <td>1</td>\n",
              "    </tr>\n",
              "  </tbody>\n",
              "</table>\n",
              "<p>151 rows × 3 columns</p>\n",
              "</div>"
            ],
            "text/plain": [
              "     Rank     words  Frequency\n",
              "24      1      fast         26\n",
              "2       2      good         25\n",
              "47      3       new         21\n",
              "28      4      hard         15\n",
              "34      5     great         13\n",
              "..    ...       ...        ...\n",
              "72    147     loved          1\n",
              "70    148  previous          1\n",
              "69    149   excited          1\n",
              "67    150   failure          1\n",
              "150   151  mediocre          1\n",
              "\n",
              "[151 rows x 3 columns]"
            ]
          },
          "metadata": {
            "tags": []
          },
          "execution_count": 39
        }
      ]
    },
    {
      "cell_type": "code",
      "metadata": {
        "id": "wbO56H9xAZGR",
        "colab": {
          "base_uri": "https://localhost:8080/"
        },
        "outputId": "24537106-93d6-4781-dbbc-33f66e38f108"
      },
      "source": [
        "original_positive = 0\n",
        "original_negative = 0\n",
        "original_neutral = 0\n",
        "for i in input_data['Sentiment Analysis']:\n",
        "  if i == 'Positive':\n",
        "    original_positive += 1\n",
        "  elif i == 'Negative':\n",
        "    original_negative += 1\n",
        "  elif i == 'Neutral':\n",
        "    original_neutral += 1\n",
        "print('Original Positive = ', original_positive)\n",
        "print('Original Negative = ', original_negative)\n",
        "print('Original Neutral = ', original_neutral)"
      ],
      "execution_count": null,
      "outputs": [
        {
          "output_type": "stream",
          "text": [
            "Original Positive =  66\n",
            "Original Negative =  39\n",
            "Original Neutral =  6\n"
          ],
          "name": "stdout"
        }
      ]
    },
    {
      "cell_type": "markdown",
      "metadata": {
        "id": "Y3J6QrEQgBIV"
      },
      "source": [
        "## (2) (10 points) Compare the performance of the following tools in sentiment identification: TextBlob (https://textblob.readthedocs.io/en/dev/), VADER (https://github.com/cjhutto/vaderSentiment), TFIDF-based Support Vector Machine (SVM) (Split your data into training and testing data). Take your own annotation as the standard answers. \n",
        "\n",
        "Reference code: https://towardsdatascience.com/fine-grained-sentiment-analysis-in-python-part-1-2697bb111ed4"
      ]
    },
    {
      "cell_type": "code",
      "metadata": {
        "id": "Q-fgR20sgBIW",
        "colab": {
          "base_uri": "https://localhost:8080/"
        },
        "outputId": "b231fd43-38ca-4322-80e2-fab4250d7369"
      },
      "source": [
        "from textblob import TextBlob\n",
        "positive = 0\n",
        "negative = 0\n",
        "neutral = 0\n",
        "for i in input_data['removed stopwords']:\n",
        "  sent = TextBlob(i)\n",
        "  if sent.sentiment.polarity > 0:\n",
        "    positive += 1\n",
        "  elif sent.sentiment.polarity < 0:\n",
        "    negative += 1\n",
        "  elif sent.sentiment.polarity == 0:\n",
        "    neutral += 1\n",
        "print(\"Positive = \", positive)\n",
        "print(\"Negative = \", negative)\n",
        "print(\"Neutral = \", neutral)"
      ],
      "execution_count": null,
      "outputs": [
        {
          "output_type": "stream",
          "text": [
            "Positive =  84\n",
            "Negative =  17\n",
            "Neutral =  10\n"
          ],
          "name": "stdout"
        }
      ]
    },
    {
      "cell_type": "code",
      "metadata": {
        "id": "TFp9oQRZ6xec",
        "colab": {
          "base_uri": "https://localhost:8080/"
        },
        "outputId": "2a3871ac-2c3b-4fc5-b363-4b9e3c1ea2d5"
      },
      "source": [
        "from nltk.sentiment.vader import SentimentIntensityAnalyzer\n",
        "nltk.download('vader_lexicon')\n",
        "positive = 0\n",
        "negative = 0\n",
        "neutral = 0\n",
        "sentimental_analyzer = SentimentIntensityAnalyzer()\n",
        "for i in input_data['removed stopwords']:\n",
        "  sent = TextBlob(i)\n",
        "  if sentimental_analyzer.polarity_scores(i)['compound'] > 0:\n",
        "    positive += 1\n",
        "  elif sentimental_analyzer.polarity_scores(i)['compound'] < 0:\n",
        "    negative += 1\n",
        "  elif sentimental_analyzer.polarity_scores(i)['compound'] == 0:\n",
        "    neutral += 1\n",
        "print(\"Positive = \", positive)\n",
        "print(\"Negative = \", negative)\n",
        "print(\"Neutral = \", neutral)"
      ],
      "execution_count": null,
      "outputs": [
        {
          "output_type": "stream",
          "text": [
            "[nltk_data] Downloading package vader_lexicon to /root/nltk_data...\n",
            "[nltk_data]   Package vader_lexicon is already up-to-date!\n",
            "Positive =  76\n",
            "Negative =  22\n",
            "Neutral =  13\n"
          ],
          "name": "stdout"
        },
        {
          "output_type": "stream",
          "text": [
            "/usr/local/lib/python3.6/dist-packages/nltk/twitter/__init__.py:20: UserWarning: The twython library has not been installed. Some functionality from the twitter package will not be available.\n",
            "  warnings.warn(\"The twython library has not been installed. \"\n"
          ],
          "name": "stderr"
        }
      ]
    },
    {
      "cell_type": "code",
      "metadata": {
        "id": "qWSyYn2Y862w",
        "colab": {
          "base_uri": "https://localhost:8080/"
        },
        "outputId": "cb2f04df-bae2-42f8-b618-701291bf1f15"
      },
      "source": [
        "from sklearn.feature_extraction.text import TfidfVectorizer\n",
        "from sklearn.model_selection import train_test_split\n",
        "from sklearn import svm\n",
        "from sklearn.metrics import classification_report\n",
        "vectorizer = TfidfVectorizer(min_df = 5,\n",
        "                             max_df = 0.8,\n",
        "                             sublinear_tf = True,\n",
        "                             use_idf = True)\n",
        "train_x_data, test_x_data, train_y_data, test_y_data = train_test_split(input_data['removed stopwords'],input_data['Sentiment Analysis'],test_size=0.33)\n",
        "train = vectorizer.fit_transform(train_x_data)\n",
        "test = vectorizer.transform(test_x_data)\n",
        "linear_class = svm.SVC(kernel='linear')\n",
        "linear_class.fit(train, train_y_data)\n",
        "linear_pred = linear_class.predict(test)\n",
        "report = classification_report(test_y_data, linear_pred, output_dict=True)\n",
        "print('positive: ', report['Positive'])\n",
        "print('negative: ', report['Negative'])\n",
        "print(\"neutral:\", report['Neutral'])"
      ],
      "execution_count": null,
      "outputs": [
        {
          "output_type": "stream",
          "text": [
            "positive:  {'precision': 0.5666666666666667, 'recall': 0.8095238095238095, 'f1-score': 0.6666666666666666, 'support': 21}\n",
            "negative:  {'precision': 0.2857142857142857, 'recall': 0.15384615384615385, 'f1-score': 0.2, 'support': 13}\n",
            "neutral: {'precision': 0.0, 'recall': 0.0, 'f1-score': 0.0, 'support': 3}\n"
          ],
          "name": "stdout"
        },
        {
          "output_type": "stream",
          "text": [
            "/usr/local/lib/python3.6/dist-packages/sklearn/metrics/_classification.py:1272: UndefinedMetricWarning: Precision and F-score are ill-defined and being set to 0.0 in labels with no predicted samples. Use `zero_division` parameter to control this behavior.\n",
            "  _warn_prf(average, modifier, msg_start, len(result))\n"
          ],
          "name": "stderr"
        }
      ]
    },
    {
      "cell_type": "code",
      "metadata": {
        "id": "0N4mtb3w-lhQ"
      },
      "source": [
        "Original Positive =  66\n",
        "Original Negative =  39\n",
        "Original Neutral =  6\n",
        "From the Models\"\n",
        "using TextBlob : The cumulative count of original values is not more accurate to the TextBlob since we have a greater number of positive values.\n",
        "As a consequence, TextBlob does not balance Original values very well..\n",
        "\n",
        "Vader: From this model, we were able to obtain positive values of 76, negative values of 22, and neutral values of 13. We will see that when we use the Vader model, all of the values are very similar to the original values. So Vader is right.\n",
        "\n",
        "SVM :  we have got precision of 0.56 and f1-score of 0.666 which has accurate positive values.\n",
        "\n",
        "So, by comparing all the models Vader is more accurate to that of both SVM and TextBlob.\n",
        "\n"
      ],
      "execution_count": null,
      "outputs": []
    }
  ]
}