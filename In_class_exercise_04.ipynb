{
  "nbformat": 4,
  "nbformat_minor": 0,
  "metadata": {
    "colab": {
      "name": "In_class_exercise_04.ipynb",
      "provenance": [],
      "collapsed_sections": [],
      "include_colab_link": true
    },
    "kernelspec": {
      "display_name": "Python 3",
      "language": "python",
      "name": "python3"
    },
    "language_info": {
      "codemirror_mode": {
        "name": "ipython",
        "version": 3
      },
      "file_extension": ".py",
      "mimetype": "text/x-python",
      "name": "python",
      "nbconvert_exporter": "python",
      "pygments_lexer": "ipython3",
      "version": "3.8.5"
    }
  },
  "cells": [
    {
      "cell_type": "markdown",
      "metadata": {
        "id": "view-in-github",
        "colab_type": "text"
      },
      "source": [
        "<a href=\"https://colab.research.google.com/github/saiPraneeth1608/saipraneeth_INFO5731_Spring2020/blob/main/In_class_exercise_04.ipynb\" target=\"_parent\"><img src=\"https://colab.research.google.com/assets/colab-badge.svg\" alt=\"Open In Colab\"/></a>"
      ]
    },
    {
      "cell_type": "markdown",
      "metadata": {
        "id": "EuX00KHNeSpw"
      },
      "source": [
        "# **The fourth in-class-exercise (20 points in total, 2/9/2021)**"
      ]
    },
    {
      "cell_type": "markdown",
      "metadata": {
        "id": "s-vTOb03hG1f"
      },
      "source": [
        "# 1. Text Data Preprocessing\n",
        "\n",
        "Here is a [legal case](https://github.com/unt-iialab/info5731_spring2021/blob/main/class_exercises/01-05-1%20%20Adams%20v%20Tanner.txt) we collected from westlaw, please follow the steps we mentioned in lesson 5 to clean the data:\n",
        "\n",
        "\n",
        "\n",
        "## 1.1 Basic feature extraction using text data (4 points)\n",
        "\n",
        "*   Number of sentences\n",
        "*   Number of words\n",
        "*   Number of characters\n",
        "*   Average word length\n",
        "*   Number of stopwords\n",
        "*   Number of special characters\n",
        "*   Number of numerics\n",
        "*   Number of uppercase words\n",
        "\n",
        "## 1.2 Basic Text Pre-processing of text data (4 points)\n",
        "\n",
        "*   Lower casing\n",
        "*   Punctuation removal\n",
        "*   Stopwords removal\n",
        "*   Frequent words removal\n",
        "*   Rare words removal\n",
        "*   Spelling correction\n",
        "*   Tokenization\n",
        "*   Stemming\n",
        "*   Lemmatization\n",
        "\n",
        "## 1.3 Save all the **clean sentences** to a **csv file** (one column, each raw is a sentence) after finishing all the steps above. (4 points)\n",
        "\n",
        "\n",
        "## 1.4 Advance Text Processing (Extra credit: 4 points)\n",
        "\n",
        "*   Calculate the term frequency of all the terms.\n",
        "*   Print out top 10 1-gram, top 10 2-grams, and top 10 3-grams terms as features.\n"
      ]
    },
    {
      "cell_type": "code",
      "metadata": {
        "colab": {
          "base_uri": "https://localhost:8080/"
        },
        "id": "vR0L3_CreM_A",
        "outputId": "234c6b22-1d28-48ad-b4a6-c8644cf93c2c"
      },
      "source": [
        "# Write your code here\n",
        "import pandas as pd\n",
        "import urllib.request\n",
        "array_text = []\n",
        "file = urllib.request.urlopen(\"https://raw.githubusercontent.com/unt-iialab/info5731_spring2021/main/class_exercises/01-05-1%20%20Adams%20v%20Tanner.txt\")\n",
        "for i in file:\n",
        "  data = i.decode(\"utf-8\")\n",
        "  clean_data = data.replace('\\r\\n', '')\n",
        "  if clean_data:\n",
        "    array_text.append(clean_data)\n",
        "input_data = pd.DataFrame(array_text, columns = ['Text'])\n",
        "print(input_data)\n",
        "\n"
      ],
      "execution_count": 14,
      "outputs": [
        {
          "output_type": "stream",
          "text": [
            "                                                  Text\n",
            "0                                           5 Ala. 740\n",
            "1                            Supreme Court of Alabama.\n",
            "2                                                ADAMS\n",
            "3                                                   v.\n",
            "4                                   TANNER AND HORTON.\n",
            "..                                                 ...\n",
            "143            There are no Filings for this citation.\n",
            "144                                 Negative Treatment\n",
            "145  There are no Negative Treatment results for th...\n",
            "146                                            History\n",
            "147    There are no History results for this citation.\n",
            "\n",
            "[148 rows x 1 columns]\n"
          ],
          "name": "stdout"
        }
      ]
    },
    {
      "cell_type": "code",
      "metadata": {
        "colab": {
          "base_uri": "https://localhost:8080/"
        },
        "id": "Us0KIFLkEccH",
        "outputId": "9513a2ec-460b-4a95-f1f7-9b913e663777"
      },
      "source": [
        "input_data['Sentences'] = input_data['Text'].apply(lambda x: len(str(x).split(\".\")))\r\n",
        "print(input_data)"
      ],
      "execution_count": 15,
      "outputs": [
        {
          "output_type": "stream",
          "text": [
            "                                                  Text  Sentences\n",
            "0                                           5 Ala. 740          2\n",
            "1                            Supreme Court of Alabama.          2\n",
            "2                                                ADAMS          1\n",
            "3                                                   v.          2\n",
            "4                                   TANNER AND HORTON.          2\n",
            "..                                                 ...        ...\n",
            "143            There are no Filings for this citation.          2\n",
            "144                                 Negative Treatment          1\n",
            "145  There are no Negative Treatment results for th...          2\n",
            "146                                            History          1\n",
            "147    There are no History results for this citation.          2\n",
            "\n",
            "[148 rows x 2 columns]\n"
          ],
          "name": "stdout"
        }
      ]
    },
    {
      "cell_type": "code",
      "metadata": {
        "colab": {
          "base_uri": "https://localhost:8080/"
        },
        "id": "VKwVA-aMSQ4n",
        "outputId": "3748e70b-af18-42a0-fb28-997a720189c6"
      },
      "source": [
        "input_data['Words'] = input_data['Text'].apply(lambda x: len(str(x).split(\" \")))\r\n",
        "print(input_data)"
      ],
      "execution_count": 16,
      "outputs": [
        {
          "output_type": "stream",
          "text": [
            "                                                  Text  Sentences  Words\n",
            "0                                           5 Ala. 740          2      3\n",
            "1                            Supreme Court of Alabama.          2      4\n",
            "2                                                ADAMS          1      1\n",
            "3                                                   v.          2      1\n",
            "4                                   TANNER AND HORTON.          2      3\n",
            "..                                                 ...        ...    ...\n",
            "143            There are no Filings for this citation.          2      7\n",
            "144                                 Negative Treatment          1      2\n",
            "145  There are no Negative Treatment results for th...          2      9\n",
            "146                                            History          1      1\n",
            "147    There are no History results for this citation.          2      8\n",
            "\n",
            "[148 rows x 3 columns]\n"
          ],
          "name": "stdout"
        }
      ]
    },
    {
      "cell_type": "code",
      "metadata": {
        "colab": {
          "base_uri": "https://localhost:8080/"
        },
        "id": "Fu16ToR6Tk0w",
        "outputId": "4efa03fd-ec60-48de-9e73-0de046891408"
      },
      "source": [
        "input_data['Characters'] = input_data['Text'].str.len()\r\n",
        "print(input_data)"
      ],
      "execution_count": 17,
      "outputs": [
        {
          "output_type": "stream",
          "text": [
            "                                                  Text  ...  Characters\n",
            "0                                           5 Ala. 740  ...          10\n",
            "1                            Supreme Court of Alabama.  ...          25\n",
            "2                                                ADAMS  ...           5\n",
            "3                                                   v.  ...           2\n",
            "4                                   TANNER AND HORTON.  ...          18\n",
            "..                                                 ...  ...         ...\n",
            "143            There are no Filings for this citation.  ...          39\n",
            "144                                 Negative Treatment  ...          18\n",
            "145  There are no Negative Treatment results for th...  ...          58\n",
            "146                                            History  ...           7\n",
            "147    There are no History results for this citation.  ...          47\n",
            "\n",
            "[148 rows x 4 columns]\n"
          ],
          "name": "stdout"
        }
      ]
    },
    {
      "cell_type": "code",
      "metadata": {
        "colab": {
          "base_uri": "https://localhost:8080/"
        },
        "id": "Gzflwd3KToxF",
        "outputId": "326de3d3-36c0-4fe8-ee8f-0363d06648ab"
      },
      "source": [
        "def avg_word(sentence):\r\n",
        "  words = sentence.split()\r\n",
        "  if len(words) != 0:\r\n",
        "    return(sum(len(word) for word in words)/len(words))\r\n",
        "  else:\r\n",
        "    return None\r\n",
        "input_data['Word_Length'] = input_data['Text'].apply(lambda x: avg_word(x))\r\n",
        "print(input_data)"
      ],
      "execution_count": 19,
      "outputs": [
        {
          "output_type": "stream",
          "text": [
            "                                                  Text  ...  Word_Length\n",
            "0                                           5 Ala. 740  ...     2.666667\n",
            "1                            Supreme Court of Alabama.  ...     5.500000\n",
            "2                                                ADAMS  ...     5.000000\n",
            "3                                                   v.  ...     2.000000\n",
            "4                                   TANNER AND HORTON.  ...     5.333333\n",
            "..                                                 ...  ...          ...\n",
            "143            There are no Filings for this citation.  ...     4.714286\n",
            "144                                 Negative Treatment  ...     8.500000\n",
            "145  There are no Negative Treatment results for th...  ...     5.555556\n",
            "146                                            History  ...     7.000000\n",
            "147    There are no History results for this citation.  ...     5.000000\n",
            "\n",
            "[148 rows x 5 columns]\n"
          ],
          "name": "stdout"
        }
      ]
    },
    {
      "cell_type": "code",
      "metadata": {
        "colab": {
          "base_uri": "https://localhost:8080/"
        },
        "id": "gKhysmdXTy8g",
        "outputId": "6d087c11-501d-4235-ce39-7273b1f2afb1"
      },
      "source": [
        "from nltk.corpus import stopwords\r\n",
        "import nltk\r\n",
        "nltk.download('stopwords')\r\n",
        "stop = stopwords.words('english')\r\n",
        "input_data['Stopwords'] = input_data['Text'].apply(lambda x: len([x for x in x.split() if x in stop]))\r\n",
        "print(input_data)"
      ],
      "execution_count": 20,
      "outputs": [
        {
          "output_type": "stream",
          "text": [
            "[nltk_data] Downloading package stopwords to /root/nltk_data...\n",
            "[nltk_data]   Unzipping corpora/stopwords.zip.\n",
            "                                                  Text  ...  Stopwords\n",
            "0                                           5 Ala. 740  ...          0\n",
            "1                            Supreme Court of Alabama.  ...          1\n",
            "2                                                ADAMS  ...          0\n",
            "3                                                   v.  ...          0\n",
            "4                                   TANNER AND HORTON.  ...          0\n",
            "..                                                 ...  ...        ...\n",
            "143            There are no Filings for this citation.  ...          4\n",
            "144                                 Negative Treatment  ...          0\n",
            "145  There are no Negative Treatment results for th...  ...          4\n",
            "146                                            History  ...          0\n",
            "147    There are no History results for this citation.  ...          4\n",
            "\n",
            "[148 rows x 6 columns]\n"
          ],
          "name": "stdout"
        }
      ]
    },
    {
      "cell_type": "code",
      "metadata": {
        "id": "ShdxqqHIT5s6"
      },
      "source": [
        "def s_char_count(given_input):\r\n",
        "  n_of_special_char = 0\r\n",
        "  for i in range(len(given_input)):\r\n",
        "    if not((given_input[i].isalpha()) and (given_input[i].isdigit())):\r\n",
        "        n_of_special_char = n_of_special_char + 1\r\n",
        "  return n_of_special_char"
      ],
      "execution_count": 21,
      "outputs": []
    },
    {
      "cell_type": "code",
      "metadata": {
        "colab": {
          "base_uri": "https://localhost:8080/"
        },
        "id": "G2TbvII6T_hB",
        "outputId": "1237cb36-84e3-43cc-f00f-cf7887f42d94"
      },
      "source": [
        "input_data['Special characters'] = input_data['Text'].apply(lambda x: special_characters_count(x))\r\n",
        "print(input_data)"
      ],
      "execution_count": 22,
      "outputs": [
        {
          "output_type": "stream",
          "text": [
            "                                                  Text  ...  Special characters\n",
            "0                                           5 Ala. 740  ...                  10\n",
            "1                            Supreme Court of Alabama.  ...                  25\n",
            "2                                                ADAMS  ...                   5\n",
            "3                                                   v.  ...                   2\n",
            "4                                   TANNER AND HORTON.  ...                  18\n",
            "..                                                 ...  ...                 ...\n",
            "143            There are no Filings for this citation.  ...                  39\n",
            "144                                 Negative Treatment  ...                  18\n",
            "145  There are no Negative Treatment results for th...  ...                  58\n",
            "146                                            History  ...                   7\n",
            "147    There are no History results for this citation.  ...                  47\n",
            "\n",
            "[148 rows x 7 columns]\n"
          ],
          "name": "stdout"
        }
      ]
    },
    {
      "cell_type": "code",
      "metadata": {
        "colab": {
          "base_uri": "https://localhost:8080/"
        },
        "id": "K0OAxoGEUDWY",
        "outputId": "178afe6f-9016-4477-9e6d-dd85ffa2cacf"
      },
      "source": [
        "input_data['Numerics'] = input_data['Text'].apply(lambda x: len([x for x in x.split() if x.isdigit()]))\r\n",
        "print(input_data)"
      ],
      "execution_count": 23,
      "outputs": [
        {
          "output_type": "stream",
          "text": [
            "                                                  Text  ...  Numerics\n",
            "0                                           5 Ala. 740  ...         2\n",
            "1                            Supreme Court of Alabama.  ...         0\n",
            "2                                                ADAMS  ...         0\n",
            "3                                                   v.  ...         0\n",
            "4                                   TANNER AND HORTON.  ...         0\n",
            "..                                                 ...  ...       ...\n",
            "143            There are no Filings for this citation.  ...         0\n",
            "144                                 Negative Treatment  ...         0\n",
            "145  There are no Negative Treatment results for th...  ...         0\n",
            "146                                            History  ...         0\n",
            "147    There are no History results for this citation.  ...         0\n",
            "\n",
            "[148 rows x 8 columns]\n"
          ],
          "name": "stdout"
        }
      ]
    },
    {
      "cell_type": "code",
      "metadata": {
        "colab": {
          "base_uri": "https://localhost:8080/"
        },
        "id": "dJJNMq0XUFCO",
        "outputId": "25776053-0698-41a5-8588-1a0b7553287e"
      },
      "source": [
        "input_data['Upper case words'] = input_data['Text'].apply(lambda x: len([x for x in x.split() if x.isupper()]))\r\n",
        "print(input_data)"
      ],
      "execution_count": 24,
      "outputs": [
        {
          "output_type": "stream",
          "text": [
            "                                                  Text  ...  Upper case words\n",
            "0                                           5 Ala. 740  ...                 0\n",
            "1                            Supreme Court of Alabama.  ...                 0\n",
            "2                                                ADAMS  ...                 1\n",
            "3                                                   v.  ...                 0\n",
            "4                                   TANNER AND HORTON.  ...                 3\n",
            "..                                                 ...  ...               ...\n",
            "143            There are no Filings for this citation.  ...                 0\n",
            "144                                 Negative Treatment  ...                 0\n",
            "145  There are no Negative Treatment results for th...  ...                 0\n",
            "146                                            History  ...                 0\n",
            "147    There are no History results for this citation.  ...                 0\n",
            "\n",
            "[148 rows x 9 columns]\n"
          ],
          "name": "stdout"
        }
      ]
    },
    {
      "cell_type": "code",
      "metadata": {
        "colab": {
          "base_uri": "https://localhost:8080/"
        },
        "id": "SBcT6yrsUItt",
        "outputId": "db07f1c7-13a3-4515-a629-e88de5a69919"
      },
      "source": [
        "input_data['Lower Case words'] = input_data['Text'].apply(lambda x: \" \".join(x.lower() for x in x.split()))\r\n",
        "print(input_data)"
      ],
      "execution_count": 25,
      "outputs": [
        {
          "output_type": "stream",
          "text": [
            "                                                  Text  ...                                   Lower Case words\n",
            "0                                           5 Ala. 740  ...                                         5 ala. 740\n",
            "1                            Supreme Court of Alabama.  ...                          supreme court of alabama.\n",
            "2                                                ADAMS  ...                                              adams\n",
            "3                                                   v.  ...                                                 v.\n",
            "4                                   TANNER AND HORTON.  ...                                 tanner and horton.\n",
            "..                                                 ...  ...                                                ...\n",
            "143            There are no Filings for this citation.  ...            there are no filings for this citation.\n",
            "144                                 Negative Treatment  ...                                 negative treatment\n",
            "145  There are no Negative Treatment results for th...  ...  there are no negative treatment results for th...\n",
            "146                                            History  ...                                            history\n",
            "147    There are no History results for this citation.  ...    there are no history results for this citation.\n",
            "\n",
            "[148 rows x 10 columns]\n"
          ],
          "name": "stdout"
        }
      ]
    },
    {
      "cell_type": "code",
      "metadata": {
        "colab": {
          "base_uri": "https://localhost:8080/"
        },
        "id": "bSvqj1YKUMDc",
        "outputId": "d6ec1f5f-503d-4154-d333-91dc85fe07b3"
      },
      "source": [
        "input_data['Punctuation'] = input_data['Lower Case words'].str.replace('[^\\w\\s]','')\r\n",
        "print(input_data)"
      ],
      "execution_count": 26,
      "outputs": [
        {
          "output_type": "stream",
          "text": [
            "                                                  Text  ...                                        Punctuation\n",
            "0                                           5 Ala. 740  ...                                          5 ala 740\n",
            "1                            Supreme Court of Alabama.  ...                           supreme court of alabama\n",
            "2                                                ADAMS  ...                                              adams\n",
            "3                                                   v.  ...                                                  v\n",
            "4                                   TANNER AND HORTON.  ...                                  tanner and horton\n",
            "..                                                 ...  ...                                                ...\n",
            "143            There are no Filings for this citation.  ...             there are no filings for this citation\n",
            "144                                 Negative Treatment  ...                                 negative treatment\n",
            "145  There are no Negative Treatment results for th...  ...  there are no negative treatment results for th...\n",
            "146                                            History  ...                                            history\n",
            "147    There are no History results for this citation.  ...     there are no history results for this citation\n",
            "\n",
            "[148 rows x 11 columns]\n"
          ],
          "name": "stdout"
        }
      ]
    },
    {
      "cell_type": "code",
      "metadata": {
        "colab": {
          "base_uri": "https://localhost:8080/"
        },
        "id": "G1k-sF1OUPve",
        "outputId": "2dbc3955-2736-467a-b194-005323385c02"
      },
      "source": [
        "from nltk.corpus import stopwords\r\n",
        "stop = stopwords.words('english')\r\n",
        "input_data['removed stopwords'] = input_data['Punctuation'].apply(lambda x: \" \".join(x for x in x.split() if x not in stop))\r\n",
        "print(input_data)"
      ],
      "execution_count": 27,
      "outputs": [
        {
          "output_type": "stream",
          "text": [
            "                                                  Text  ...                    removed stopwords\n",
            "0                                           5 Ala. 740  ...                            5 ala 740\n",
            "1                            Supreme Court of Alabama.  ...                supreme court alabama\n",
            "2                                                ADAMS  ...                                adams\n",
            "3                                                   v.  ...                                    v\n",
            "4                                   TANNER AND HORTON.  ...                        tanner horton\n",
            "..                                                 ...  ...                                  ...\n",
            "143            There are no Filings for this citation.  ...                     filings citation\n",
            "144                                 Negative Treatment  ...                   negative treatment\n",
            "145  There are no Negative Treatment results for th...  ...  negative treatment results citation\n",
            "146                                            History  ...                              history\n",
            "147    There are no History results for this citation.  ...             history results citation\n",
            "\n",
            "[148 rows x 12 columns]\n"
          ],
          "name": "stdout"
        }
      ]
    },
    {
      "cell_type": "code",
      "metadata": {
        "colab": {
          "base_uri": "https://localhost:8080/"
        },
        "id": "0OknlT3fUVT-",
        "outputId": "78cb568f-7c97-4867-84cf-32eba1822406"
      },
      "source": [
        "frequent_words = pd.Series(' '.join(input_data['removed stopwords']).split()).value_counts()[:10]\r\n",
        "print(frequent_words)\r\n",
        "frequent_words = list(frequent_words.index)\r\n",
        "input_data['Removal of Common Words'] = input_data['removed stopwords'].apply(lambda x: \" \".join(x for x in x.split() if x not in frequent_words))\r\n",
        "print(input_data)"
      ],
      "execution_count": 28,
      "outputs": [
        {
          "output_type": "stream",
          "text": [
            "execution    50\n",
            "crop         49\n",
            "levy         25\n",
            "lien         25\n",
            "claimants    22\n",
            "v            22\n",
            "case         21\n",
            "right        21\n",
            "court        20\n",
            "gathered     19\n",
            "dtype: int64\n",
            "                                                  Text  ...              Removal of Common Words\n",
            "0                                           5 Ala. 740  ...                            5 ala 740\n",
            "1                            Supreme Court of Alabama.  ...                      supreme alabama\n",
            "2                                                ADAMS  ...                                adams\n",
            "3                                                   v.  ...                                     \n",
            "4                                   TANNER AND HORTON.  ...                        tanner horton\n",
            "..                                                 ...  ...                                  ...\n",
            "143            There are no Filings for this citation.  ...                     filings citation\n",
            "144                                 Negative Treatment  ...                   negative treatment\n",
            "145  There are no Negative Treatment results for th...  ...  negative treatment results citation\n",
            "146                                            History  ...                              history\n",
            "147    There are no History results for this citation.  ...             history results citation\n",
            "\n",
            "[148 rows x 13 columns]\n"
          ],
          "name": "stdout"
        }
      ]
    },
    {
      "cell_type": "code",
      "metadata": {
        "colab": {
          "base_uri": "https://localhost:8080/"
        },
        "id": "Eo0Aias8UeGs",
        "outputId": "6278642b-2bd4-4460-c3ed-24d168094193"
      },
      "source": [
        "rare = pd.Series(' '.join(input_data['removed stopwords']).split()).value_counts()[-10:]\r\n",
        "print(rare)\r\n",
        "rare = list(rare.index)\r\n",
        "input_data['removed rare words'] = input_data['Removal of Common Words'].apply(lambda x: \" \".join(x for x in x.split() if x not in rare))\r\n",
        "print(input_data)"
      ],
      "execution_count": 29,
      "outputs": [
        {
          "output_type": "stream",
          "text": [
            "affirmed      1\n",
            "find          1\n",
            "397           1\n",
            "clear         1\n",
            "note          1\n",
            "dissenting    1\n",
            "doubtless     1\n",
            "indorsed      1\n",
            "743           1\n",
            "receive       1\n",
            "dtype: int64\n",
            "                                                  Text  ...                   removed rare words\n",
            "0                                           5 Ala. 740  ...                            5 ala 740\n",
            "1                            Supreme Court of Alabama.  ...                      supreme alabama\n",
            "2                                                ADAMS  ...                                adams\n",
            "3                                                   v.  ...                                     \n",
            "4                                   TANNER AND HORTON.  ...                        tanner horton\n",
            "..                                                 ...  ...                                  ...\n",
            "143            There are no Filings for this citation.  ...                     filings citation\n",
            "144                                 Negative Treatment  ...                   negative treatment\n",
            "145  There are no Negative Treatment results for th...  ...  negative treatment results citation\n",
            "146                                            History  ...                              history\n",
            "147    There are no History results for this citation.  ...             history results citation\n",
            "\n",
            "[148 rows x 14 columns]\n"
          ],
          "name": "stdout"
        }
      ]
    },
    {
      "cell_type": "code",
      "metadata": {
        "colab": {
          "base_uri": "https://localhost:8080/"
        },
        "id": "Bc6cxeqzUiTh",
        "outputId": "bfa151be-c216-480f-8b91-1caf468fc0cb"
      },
      "source": [
        "from textblob import TextBlob\r\n",
        "input_data['corrected spelling'] = input_data['removed rare words'].apply(lambda x: str(TextBlob(x).correct()))\r\n",
        "print(input_data)"
      ],
      "execution_count": 30,
      "outputs": [
        {
          "output_type": "stream",
          "text": [
            "                                                  Text  ...                    corrected spelling\n",
            "0                                           5 Ala. 740  ...                             5 all 740\n",
            "1                            Supreme Court of Alabama.  ...                       supreme alabama\n",
            "2                                                ADAMS  ...                                 adams\n",
            "3                                                   v.  ...                                      \n",
            "4                                   TANNER AND HORTON.  ...                         manner norton\n",
            "..                                                 ...  ...                                   ...\n",
            "143            There are no Filings for this citation.  ...                      filing situation\n",
            "144                                 Negative Treatment  ...                    negative treatment\n",
            "145  There are no Negative Treatment results for th...  ...  negative treatment results situation\n",
            "146                                            History  ...                               history\n",
            "147    There are no History results for this citation.  ...             history results situation\n",
            "\n",
            "[148 rows x 15 columns]\n"
          ],
          "name": "stdout"
        }
      ]
    },
    {
      "cell_type": "code",
      "metadata": {
        "colab": {
          "base_uri": "https://localhost:8080/"
        },
        "id": "XR7rZs-GVNUy",
        "outputId": "b1907697-1d41-48a3-848d-731c02e23d27"
      },
      "source": [
        "import nltk\r\n",
        "nltk.download('punkt')\r\n",
        "input_data['tokenized data'] = input_data['corrected spelling'].apply(lambda x: TextBlob(x).words)\r\n",
        "print(input_data)"
      ],
      "execution_count": 31,
      "outputs": [
        {
          "output_type": "stream",
          "text": [
            "[nltk_data] Downloading package punkt to /root/nltk_data...\n",
            "[nltk_data]   Unzipping tokenizers/punkt.zip.\n",
            "                                                  Text  ...                             tokenized data\n",
            "0                                           5 Ala. 740  ...                              [5, all, 740]\n",
            "1                            Supreme Court of Alabama.  ...                         [supreme, alabama]\n",
            "2                                                ADAMS  ...                                    [adams]\n",
            "3                                                   v.  ...                                         []\n",
            "4                                   TANNER AND HORTON.  ...                           [manner, norton]\n",
            "..                                                 ...  ...                                        ...\n",
            "143            There are no Filings for this citation.  ...                        [filing, situation]\n",
            "144                                 Negative Treatment  ...                      [negative, treatment]\n",
            "145  There are no Negative Treatment results for th...  ...  [negative, treatment, results, situation]\n",
            "146                                            History  ...                                  [history]\n",
            "147    There are no History results for this citation.  ...              [history, results, situation]\n",
            "\n",
            "[148 rows x 16 columns]\n"
          ],
          "name": "stdout"
        }
      ]
    },
    {
      "cell_type": "code",
      "metadata": {
        "colab": {
          "base_uri": "https://localhost:8080/"
        },
        "id": "V_qctK0lVQ87",
        "outputId": "0b56650e-8ffa-4328-bfaa-0267464e4439"
      },
      "source": [
        "from nltk.stem import PorterStemmer\r\n",
        "st = PorterStemmer()\r\n",
        "input_data['Stemming'] = input_data['tokenized data'].apply(lambda x: \" \".join([st.stem(word) for word in x]))\r\n",
        "print(input_data)"
      ],
      "execution_count": 33,
      "outputs": [
        {
          "output_type": "stream",
          "text": [
            "                                                  Text  ...                     Stemming\n",
            "0                                           5 Ala. 740  ...                    5 all 740\n",
            "1                            Supreme Court of Alabama.  ...               suprem alabama\n",
            "2                                                ADAMS  ...                         adam\n",
            "3                                                   v.  ...                             \n",
            "4                                   TANNER AND HORTON.  ...                manner norton\n",
            "..                                                 ...  ...                          ...\n",
            "143            There are no Filings for this citation.  ...                  file situat\n",
            "144                                 Negative Treatment  ...                neg treatment\n",
            "145  There are no Negative Treatment results for th...  ...  neg treatment result situat\n",
            "146                                            History  ...                      histori\n",
            "147    There are no History results for this citation.  ...        histori result situat\n",
            "\n",
            "[148 rows x 17 columns]\n"
          ],
          "name": "stdout"
        }
      ]
    },
    {
      "cell_type": "code",
      "metadata": {
        "colab": {
          "base_uri": "https://localhost:8080/"
        },
        "id": "BopwVwIZVVvG",
        "outputId": "6c089619-b5d5-45e5-d6a9-e415708f93a4"
      },
      "source": [
        "from textblob import Word\r\n",
        "import nltk\r\n",
        "nltk.download('wordnet')\r\n",
        "input_data['Lemmatization'] = input_data['Stemming'].apply(lambda x: \" \".join([Word(word).lemmatize() for word in x.split()]))\r\n",
        "print(input_data)"
      ],
      "execution_count": 34,
      "outputs": [
        {
          "output_type": "stream",
          "text": [
            "[nltk_data] Downloading package wordnet to /root/nltk_data...\n",
            "[nltk_data]   Unzipping corpora/wordnet.zip.\n",
            "                                                  Text  ...                Lemmatization\n",
            "0                                           5 Ala. 740  ...                    5 all 740\n",
            "1                            Supreme Court of Alabama.  ...               suprem alabama\n",
            "2                                                ADAMS  ...                         adam\n",
            "3                                                   v.  ...                             \n",
            "4                                   TANNER AND HORTON.  ...                manner norton\n",
            "..                                                 ...  ...                          ...\n",
            "143            There are no Filings for this citation.  ...                  file situat\n",
            "144                                 Negative Treatment  ...                neg treatment\n",
            "145  There are no Negative Treatment results for th...  ...  neg treatment result situat\n",
            "146                                            History  ...                      histori\n",
            "147    There are no History results for this citation.  ...        histori result situat\n",
            "\n",
            "[148 rows x 18 columns]\n"
          ],
          "name": "stdout"
        }
      ]
    },
    {
      "cell_type": "code",
      "metadata": {
        "id": "-NVetWuuVaa2"
      },
      "source": [
        "\r\n",
        "input_data.to_csv('output.csv',index=False)"
      ],
      "execution_count": 35,
      "outputs": []
    },
    {
      "cell_type": "code",
      "metadata": {
        "colab": {
          "base_uri": "https://localhost:8080/",
          "height": 402
        },
        "id": "l_UDVxtmVfrp",
        "outputId": "f3dc8eba-4dbd-4d43-8035-10d5dbd0d89b"
      },
      "source": [
        "term_frequencies = (input_data['Lemmatization']).apply(lambda x: pd.value_counts(x.split(\" \"))).sum(axis = 0).reset_index()\r\n",
        "term_frequencies.columns = ['words','term_frequency']\r\n",
        "term_frequencies"
      ],
      "execution_count": 36,
      "outputs": [
        {
          "output_type": "execute_result",
          "data": {
            "text/html": [
              "<div>\n",
              "<style scoped>\n",
              "    .dataframe tbody tr th:only-of-type {\n",
              "        vertical-align: middle;\n",
              "    }\n",
              "\n",
              "    .dataframe tbody tr th {\n",
              "        vertical-align: top;\n",
              "    }\n",
              "\n",
              "    .dataframe thead th {\n",
              "        text-align: right;\n",
              "    }\n",
              "</style>\n",
              "<table border=\"1\" class=\"dataframe\">\n",
              "  <thead>\n",
              "    <tr style=\"text-align: right;\">\n",
              "      <th></th>\n",
              "      <th>words</th>\n",
              "      <th>term_frequency</th>\n",
              "    </tr>\n",
              "  </thead>\n",
              "  <tbody>\n",
              "    <tr>\n",
              "      <th>0</th>\n",
              "      <td>5</td>\n",
              "      <td>8.0</td>\n",
              "    </tr>\n",
              "    <tr>\n",
              "      <th>1</th>\n",
              "      <td>740</td>\n",
              "      <td>2.0</td>\n",
              "    </tr>\n",
              "    <tr>\n",
              "      <th>2</th>\n",
              "      <td>all</td>\n",
              "      <td>17.0</td>\n",
              "    </tr>\n",
              "    <tr>\n",
              "      <th>3</th>\n",
              "      <td>suprem</td>\n",
              "      <td>1.0</td>\n",
              "    </tr>\n",
              "    <tr>\n",
              "      <th>4</th>\n",
              "      <td>alabama</td>\n",
              "      <td>1.0</td>\n",
              "    </tr>\n",
              "    <tr>\n",
              "      <th>...</th>\n",
              "      <td>...</td>\n",
              "      <td>...</td>\n",
              "    </tr>\n",
              "    <tr>\n",
              "      <th>702</th>\n",
              "      <td>grain</td>\n",
              "      <td>1.0</td>\n",
              "    </tr>\n",
              "    <tr>\n",
              "      <th>703</th>\n",
              "      <td>six</td>\n",
              "      <td>1.0</td>\n",
              "    </tr>\n",
              "    <tr>\n",
              "      <th>704</th>\n",
              "      <td>file</td>\n",
              "      <td>2.0</td>\n",
              "    </tr>\n",
              "    <tr>\n",
              "      <th>705</th>\n",
              "      <td>neg</td>\n",
              "      <td>2.0</td>\n",
              "    </tr>\n",
              "    <tr>\n",
              "      <th>706</th>\n",
              "      <td>histori</td>\n",
              "      <td>2.0</td>\n",
              "    </tr>\n",
              "  </tbody>\n",
              "</table>\n",
              "<p>707 rows × 2 columns</p>\n",
              "</div>"
            ],
            "text/plain": [
              "       words  term_frequency\n",
              "0          5             8.0\n",
              "1        740             2.0\n",
              "2        all            17.0\n",
              "3     suprem             1.0\n",
              "4    alabama             1.0\n",
              "..       ...             ...\n",
              "702    grain             1.0\n",
              "703      six             1.0\n",
              "704     file             2.0\n",
              "705      neg             2.0\n",
              "706  histori             2.0\n",
              "\n",
              "[707 rows x 2 columns]"
            ]
          },
          "metadata": {
            "tags": []
          },
          "execution_count": 36
        }
      ]
    },
    {
      "cell_type": "code",
      "metadata": {
        "colab": {
          "base_uri": "https://localhost:8080/"
        },
        "id": "pt7MIt6OVoge",
        "outputId": "19e0a7b8-9b38-46f4-ed36-20ec21f2f370"
      },
      "source": [
        "import itertools\r\n",
        "import collections\r\n",
        "from nltk import ngrams\r\n",
        "words = []\r\n",
        "for i in input_data['Lemmatization']:\r\n",
        "  words.append(nltk.tokenize.word_tokenize(i))\r\n",
        "data = [x for x in words if x != []]\r\n",
        "iter_values = list(itertools.chain.from_iterable(data))\r\n",
        "gram1 = ngrams(iter_values, 1)\r\n",
        "print(\"1 grams\")\r\n",
        "print(collections.Counter(gram1).most_common(10))\r\n",
        "print(\"Bi grams\")\r\n",
        "distributions = nltk.FreqDist(nltk.bigrams(iter_values))\r\n",
        "print(distributions.most_common(10))\r\n",
        "print(\"Tri grams\")\r\n",
        "distributions = nltk.FreqDist(nltk.trigrams(iter_values))\r\n",
        "print(distributions.most_common(10))"
      ],
      "execution_count": 37,
      "outputs": [
        {
          "output_type": "stream",
          "text": [
            "1 grams\n",
            "[(('law',), 18), (('all',), 17), (('grow',), 17), (('contract',), 16), (('rep',), 16), (('plaintiff',), 15), (('posse',), 14), (('attach',), 14), (('cotton',), 14), (('2',), 13)]\n",
            "Bi grams\n",
            "[(('common', 'law'), 7), (('john', 'rep'), 6), (('tri', 'hon'), 6), (('fieri', 'facial'), 5), (('while', 'foot'), 4), (('can', 'not'), 4), (('appeal', 'circuit'), 4), (('error', 'circuit'), 3), (('attach', 'favor'), 3), (('allen', 'harrison'), 3)]\n",
            "Tri grams\n",
            "[(('2', 'john', 'rep'), 3), (('all', 'grover', 'convers'), 3), (('5', 'all', '740'), 2), (('writ', 'error', 'circuit'), 2), (('interest', 'vest', 'posse'), 2), (('vest', 'posse', 'either'), 2), (('posse', 'either', 'immedi'), 2), (('either', 'immedi', 'futur'), 2), (('immedi', 'futur', 'time'), 2), (('case', 'cite', 'headnot'), 2)]\n"
          ],
          "name": "stdout"
        }
      ]
    },
    {
      "cell_type": "markdown",
      "metadata": {
        "id": "BBiC4E_kefvV"
      },
      "source": [
        "# 2. Python Regular Expression"
      ]
    },
    {
      "cell_type": "markdown",
      "metadata": {
        "id": "Z1QJ-UwCenvN"
      },
      "source": [
        "## 2.1 Write a Python program to remove leading zeros from an IP address. (4 points)\n",
        "\n",
        "ip = \"260.08.094.109\""
      ]
    },
    {
      "cell_type": "code",
      "metadata": {
        "colab": {
          "base_uri": "https://localhost:8080/"
        },
        "id": "wSv6fVhOfFmv",
        "outputId": "2ca2fbb1-308b-40f2-aca6-9425126131d5"
      },
      "source": [
        "# Write your code here\n",
        "import re\n",
        "ip =  \"260.08.094.109\"\n",
        "zeros_removal = \".\".join([str(int(i)) for i in ip.split(\".\")])   \n",
        "print(zeros_removal)\n",
        "\n",
        "\n",
        "\n",
        "\n"
      ],
      "execution_count": 38,
      "outputs": [
        {
          "output_type": "stream",
          "text": [
            "260.8.94.109\n"
          ],
          "name": "stdout"
        }
      ]
    },
    {
      "cell_type": "markdown",
      "metadata": {
        "id": "PXRjaHzrfKAy"
      },
      "source": [
        "## 2.2 Write a Python Program to extract all the years from the following sentence. (4 points)\n",
        "\n",
        "sentence = \"The 2010s were a dramatic decade, filled with ups and downs, more than 1000 stroies have happened. As the decade comes to a close, Insider took a look back at some of the biggest headline-grabbing stories, from 2010 to 2019. The result was 119 news stories that ranged from the heartwarming rescue of a Thai boys' soccer team from a flooded cave to the divisive election of President Donald Trump.\""
      ]
    },
    {
      "cell_type": "code",
      "metadata": {
        "colab": {
          "base_uri": "https://localhost:8080/"
        },
        "id": "7xdJpDx9gjbX",
        "outputId": "f1499f22-8207-4f38-d927-b85ea50cfe68"
      },
      "source": [
        "# Write your code here\r\n",
        "sentence_given = \"The 2010s were a dramatic decade, filled with ups and downs, more than 1000 stroies have happened. As the decade comes to a close, Insider took a look back at some of the biggest headline-grabbing stories, from 2010 to 2019. The result was 119 news stories that ranged from the heartwarming rescue of a Thai boys' soccer team from a flooded cave to the divisive election of President Donald Trump.\"\r\n",
        "extracted_years = re.findall(r'2\\d\\d\\d', sentence_given)\r\n",
        "print(extracted_years)"
      ],
      "execution_count": 40,
      "outputs": [
        {
          "output_type": "stream",
          "text": [
            "['2010', '2010', '2019']\n"
          ],
          "name": "stdout"
        }
      ]
    }
  ]
}