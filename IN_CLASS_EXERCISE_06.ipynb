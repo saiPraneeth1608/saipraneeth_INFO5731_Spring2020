{
  "nbformat": 4,
  "nbformat_minor": 0,
  "metadata": {
    "colab": {
      "name": "IN_CLASS_EXERCISE_06.ipynb",
      "provenance": [],
      "collapsed_sections": [],
      "include_colab_link": true
    },
    "kernelspec": {
      "display_name": "Python 3",
      "language": "python",
      "name": "python3"
    },
    "language_info": {
      "codemirror_mode": {
        "name": "ipython",
        "version": 3
      },
      "file_extension": ".py",
      "mimetype": "text/x-python",
      "name": "python",
      "nbconvert_exporter": "python",
      "pygments_lexer": "ipython3",
      "version": "3.7.4"
    }
  },
  "cells": [
    {
      "cell_type": "markdown",
      "metadata": {
        "id": "view-in-github",
        "colab_type": "text"
      },
      "source": [
        "<a href=\"https://colab.research.google.com/github/saiPraneeth1608/saipraneeth_INFO5731_Spring2020/blob/main/IN_CLASS_EXERCISE_06.ipynb\" target=\"_parent\"><img src=\"https://colab.research.google.com/assets/colab-badge.svg\" alt=\"Open In Colab\"/></a>"
      ]
    },
    {
      "cell_type": "markdown",
      "metadata": {
        "id": "ejyZITr8sjnh"
      },
      "source": [
        "## **1. Rule-based information extraction (10 points)**\n",
        "\n",
        "Use any keywords related to data science, natural language processing, machine learning to search from google scholar, get the **titles** of 100 articles (either by web scraping or manually) about this topic, define a set of patterns to extract the research questions/problems, methods/algorithms/models, datasets, applications, or any other important information about this topic. "
      ]
    },
    {
      "cell_type": "code",
      "metadata": {
        "id": "XvR_O9D8sOUY",
        "colab": {
          "base_uri": "https://localhost:8080/",
          "height": 54
        },
        "outputId": "a822228d-208e-4c79-cf50-17f80e096b89"
      },
      "source": [
        "import pandas as pd\n",
        "import spacy\n",
        "from spacy.matcher import Matcher\n",
        "from spacy.tokens import Span\n",
        "articles = pd.read_csv('/content/machine learning.csv', encoding = 'ISO-8859-1')\n",
        "nlp = spacy.load(\"en_core_web_sm\")\n",
        "matcher = Matcher(nlp.vocab)\n",
        "for i in articles['Text']:\n",
        "  text = text + i\n",
        "text_results = []\n",
        "def patterns(text):\n",
        "  doc=nlp(text)\n",
        "  first_pattern = [{\"TEXT\": {\"REGEX\": \"^\\w+$\"}},{\"TEXT\": {\"REGEX\": \"^(M|m)ethod\\w+$\"}}]\n",
        "  second_pattern = [{\"TEXT\": {\"REGEX\": \"^\\w+$\"}}, {\"TEXT\": {\"REGEX\": \":\"}}, {\"TEXT\": {\"REGEX\": \"^\\w+$\"}}]\n",
        "  third_pattern = [{\"TEXT\": {\"REGEX\": \"^(M|m)\\w+$\"}},{\"TEXT\": {\"REGEX\": \"^(L|l)\\w+$\"}},{\"TEXT\": {\"REGEX\": \"^(A|a)\\w+$\"}},{\"TEXT\": {\"REGEX\": \"^\\w+$\"}}]\n",
        "  matcher.add('pattern1', None,first_pattern)\n",
        "  matcher.add('pattern2', None,second_pattern)\n",
        "  matcher.add('pattern3', None,third_pattern)\n",
        "  matches = matcher(doc)\n",
        "  for match_id, start, end in matches:\n",
        "    span = doc[start:end]\n",
        "    text_results.append(span.text)\n",
        "  return text_results\n",
        "print(patterns(text))\n"
      ],
      "execution_count": null,
      "outputs": [
        {
          "output_type": "stream",
          "text": [
            "['learning: Concept', 'learn: Machine', 'learning: a', 'perspectiveWeka: A', 'ml: A', 'researchEnsemble methods', 'learning: Trends', 'learningBioinformatics: the', 'machine learning approachMachine learning', 'learning: an', 'learning: From', 'learning: A', 'descentMllib: Machine', 'learningTensorflow: A', 'learning: an', 'multicoreTensorflow: Large', 'imagingKernel methods', 'machine learningIncremental and decremental', 'machine learning at scaleMachine', 'scienceDadiannao: A', 'machine learningEfficient and robust', 'learningOptimization methods', 'systems: A', 'systems: A', 'learningTorch7: A', 'learning: An', 'learning: A', 'machine learning and artificial', 'mnist: a', 'machine learning algorithmsMultimodal machine', 'learning: A', 'taxonomyMoleculeNet: a', 'monitoring: a', 'learning: methods', 'better: A', 'machine learning approach to', 'learning: methods', 'machine learning algorithmsConvolutional LSTM', 'network: A', 'machine learning approach for', 'fMRI: a', 'learning: Concept', 'learn: Machine', 'learning: a', 'perspectiveWeka: A', 'ml: A', 'researchEnsemble methods', 'learning: Trends', 'learningBioinformatics: the', 'machine learning approachMachine learning', 'learning: an', 'learning: From', 'learning: A', 'descentMllib: Machine', 'learningTensorflow: A', 'learning: an', 'multicoreTensorflow: Large', 'imagingKernel methods', 'machine learningIncremental and decremental', 'machine learning at scaleMachine', 'scienceDadiannao: A', 'machine learningEfficient and robust', 'learningOptimization methods', 'systems: A', 'systems: A', 'learningTorch7: A', 'learning: An', 'learning: A', 'machine learning and artificial', 'mnist: a', 'machine learning algorithmsMultimodal machine', 'learning: A', 'taxonomyMoleculeNet: a', 'monitoring: a', 'learning: methods', 'better: A', 'machine learning approach to', 'learning: methods', 'machine learning algorithmsConvolutional LSTM', 'network: A', 'machine learning approach for', 'fMRI: a', 'learning: Concept', 'learn: Machine', 'learning: a', 'perspectiveWeka: A', 'ml: A', 'researchEnsemble methods', 'learning: Trends', 'learningBioinformatics: the', 'machine learning approachMachine learning', 'learning: an', 'learning: From', 'learning: A', 'descentMllib: Machine', 'learningTensorflow: A', 'learning: an', 'multicoreTensorflow: Large', 'imagingKernel methods', 'machine learningIncremental and decremental', 'machine learning at scaleMachine', 'scienceDadiannao: A', 'machine learningEfficient and robust', 'learningOptimization methods', 'systems: A', 'systems: A', 'learningTorch7: A', 'learning: An', 'learning: A', 'machine learning and artificial', 'mnist: a', 'machine learning algorithmsMultimodal machine', 'learning: A', 'taxonomyMoleculeNet: a', 'monitoring: a', 'learning: methods', 'better: A', 'machine learning approach to', 'learning: methods', 'machine learning algorithmsConvolutional LSTM', 'network: A', 'machine learning approach for', 'fMRI: a', 'learning: Concept', 'learn: Machine', 'learning: a', 'perspectiveWeka: A', 'ml: A', 'researchEnsemble methods', 'learning: Trends', 'learningBioinformatics: the', 'machine learning approachMachine learning', 'learning: an', 'learning: From', 'learning: A', 'descentMllib: Machine', 'learningTensorflow: A', 'learning: an', 'multicoreTensorflow: Large', 'imagingKernel methods', 'machine learningIncremental and decremental', 'machine learning at scaleMachine', 'scienceDadiannao: A', 'machine learningEfficient and robust', 'learningOptimization methods', 'systems: A', 'systems: A', 'learningTorch7: A', 'learning: An', 'learning: A', 'machine learning and artificial', 'mnist: a', 'machine learning algorithmsMultimodal machine', 'learning: A', 'taxonomyMoleculeNet: a', 'monitoring: a', 'learning: methods', 'better: A', 'machine learning approach to', 'learning: methods', 'machine learning algorithmsConvolutional LSTM', 'network: A', 'machine learning approach for', 'fMRI: a', 'learning: Concept', 'learn: Machine', 'learning: a', 'perspectiveWeka: A', 'ml: A', 'researchEnsemble methods', 'learning: Trends', 'learningBioinformatics: the', 'machine learning approachMachine learning', 'learning: an', 'learning: From', 'learning: A', 'descentMllib: Machine', 'learningTensorflow: A', 'learning: an', 'multicoreTensorflow: Large', 'imagingKernel methods', 'machine learningIncremental and decremental', 'machine learning at scaleMachine', 'scienceDadiannao: A', 'machine learningEfficient and robust', 'learningOptimization methods', 'systems: A', 'systems: A', 'learningTorch7: A', 'learning: An', 'learning: A', 'machine learning and artificial', 'mnist: a', 'machine learning algorithmsMultimodal machine', 'learning: A', 'taxonomyMoleculeNet: a', 'monitoring: a', 'learning: methods', 'better: A', 'machine learning approach to', 'learning: methods', 'machine learning algorithmsConvolutional LSTM', 'network: A', 'machine learning approach for', 'fMRI: a', 'learning: Concept', 'learn: Machine', 'learning: a', 'perspectiveWeka: A', 'ml: A', 'researchEnsemble methods', 'learning: Trends', 'learningBioinformatics: the', 'machine learning approachMachine learning', 'learning: an', 'learning: From', 'learning: A', 'descentMllib: Machine', 'learningTensorflow: A', 'learning: an', 'multicoreTensorflow: Large', 'imagingKernel methods', 'machine learningIncremental and decremental', 'machine learning at scaleMachine', 'scienceDadiannao: A', 'machine learningEfficient and robust', 'learningOptimization methods', 'systems: A', 'systems: A', 'learningTorch7: A', 'learning: An', 'learning: A', 'machine learning and artificial', 'mnist: a', 'machine learning algorithmsMultimodal machine', 'learning: A', 'taxonomyMoleculeNet: a', 'monitoring: a', 'learning: methods', 'better: A', 'machine learning approach to', 'learning: methods', 'machine learning algorithmsConvolutional LSTM', 'network: A', 'machine learning approach for', 'fMRI: a', 'learning: Concept', 'learn: Machine', 'learning: a', 'perspectiveWeka: A', 'ml: A', 'researchEnsemble methods', 'learning: Trends', 'learningBioinformatics: the', 'machine learning approachMachine learning', 'learning: an', 'learning: From', 'learning: A', 'descentMllib: Machine', 'learningTensorflow: A', 'learning: an', 'multicoreTensorflow: Large', 'imagingKernel methods', 'machine learningIncremental and decremental', 'machine learning at scaleMachine', 'scienceDadiannao: A', 'machine learningEfficient and robust', 'learningOptimization methods', 'systems: A', 'systems: A', 'learningTorch7: A', 'learning: An', 'learning: A', 'machine learning and artificial', 'mnist: a', 'machine learning algorithmsMultimodal machine', 'learning: A', 'taxonomyMoleculeNet: a', 'monitoring: a', 'learning: methods', 'better: A', 'machine learning approach to', 'learning: methods', 'machine learning algorithmsConvolutional LSTM', 'network: A', 'machine learning approach for', 'fMRI: a', 'learning: Concept']\n"
          ],
          "name": "stdout"
        }
      ]
    },
    {
      "cell_type": "code",
      "metadata": {
        "id": "4_NjayVBVlE-",
        "colab": {
          "base_uri": "https://localhost:8080/",
          "height": 1000
        },
        "outputId": "90a83719-320f-4987-b9e4-d754fee3f9fe"
      },
      "source": [
        "list_titles = articles['Text'].tolist()\n",
        "for i in range(len(list_titles)):\n",
        "  doc = nlp(list_titles[i])\n",
        "  for tok in doc: \n",
        "    print(tok.text, \"-->\",tok.dep_,\"-->\", tok.pos_)\n",
        "    if i == 10:\n",
        "      break"
      ],
      "execution_count": null,
      "outputs": [
        {
          "output_type": "stream",
          "text": [
            "Machine --> compound --> NOUN\n",
            "Learning --> ROOT --> NOUN\n",
            "Introduction --> ROOT --> NOUN\n",
            "to --> prep --> ADP\n",
            "machine --> compound --> NOUN\n",
            "learning --> pobj --> NOUN\n",
            "  -->  --> SPACE\n",
            "Scikit --> npadvmod --> PROPN\n",
            "- --> punct --> PUNCT\n",
            "learn --> ROOT --> VERB\n",
            ": --> punct --> PUNCT\n",
            "Machine --> compound --> NOUN\n",
            "learning --> ROOT --> VERB\n",
            "in --> prep --> ADP\n",
            "Python --> pobj --> PROPN\n",
            "Pattern --> compound --> NOUN\n",
            "recognition --> ROOT --> NOUN\n",
            "and --> cc --> CCONJ\n",
            "machine --> compound --> NOUN\n",
            "learning --> conj --> NOUN\n",
            "Quantum --> compound --> PROPN\n",
            "machine --> compound --> NOUN\n",
            "learning --> ROOT --> NOUN\n",
            "Machine --> compound --> NOUN\n",
            "learning --> ROOT --> VERB\n",
            "in --> prep --> ADP\n",
            "action --> pobj --> NOUN\n",
            "Foundations --> ROOT --> NOUN\n",
            "of --> prep --> ADP\n",
            "machine --> compound --> NOUN\n",
            "learning --> pobj --> NOUN\n",
            "Gaussian --> amod --> ADJ\n",
            "processes --> ROOT --> NOUN\n",
            "in --> prep --> ADP\n",
            "machine --> compound --> NOUN\n",
            "learning --> pobj --> NOUN\n",
            "Machine --> compound --> NOUN\n",
            "learning --> ROOT --> NOUN\n",
            ": --> punct --> PUNCT\n",
            "a --> det --> DET\n",
            "probabilistic --> amod --> ADJ\n",
            "perspective --> appos --> NOUN\n",
            "Weka --> ROOT --> NOUN\n",
            ": --> punct --> PUNCT\n",
            "A --> det --> DET\n",
            "machine --> compound --> NOUN\n",
            "learning --> compound --> VERB\n",
            "workbench --> ROOT --> NOUN\n",
            "UCI --> compound --> VERB\n",
            "Dlib --> compound --> PROPN\n",
            "- --> punct --> PUNCT\n",
            "ml --> ROOT --> PROPN\n",
            ": --> punct --> PUNCT\n",
            "A --> det --> DET\n",
            "machine --> appos --> NOUN\n",
            "learning --> acl --> VERB\n",
            "toolkit --> dobj --> NOUN\n",
            "Machine --> npadvmod --> NOUN\n",
            "- --> punct --> PUNCT\n",
            "learning --> amod --> VERB\n",
            "research --> ROOT --> NOUN\n",
            "Ensemble --> amod --> ADJ\n",
            "methods --> ROOT --> NOUN\n",
            "in --> prep --> ADP\n",
            "machine --> compound --> NOUN\n",
            "learning --> pobj --> NOUN\n",
            "Machine --> compound --> NOUN\n",
            "learning --> ROOT --> NOUN\n",
            ": --> punct --> PUNCT\n",
            "Trends --> appos --> NOUN\n",
            ", --> punct --> PUNCT\n",
            "perspectives --> conj --> NOUN\n",
            ", --> punct --> PUNCT\n",
            "and --> cc --> CCONJ\n",
            "prospects --> conj --> NOUN\n",
            "Machine --> compound --> NOUN\n",
            "learning --> ROOT --> VERB\n",
            "in --> prep --> ADP\n",
            "automated --> amod --> VERB\n",
            "text --> compound --> NOUN\n",
            "categorization --> pobj --> NOUN\n",
            "programs --> ROOT --> NOUN\n",
            "for --> prep --> ADP\n",
            "machine --> compound --> NOUN\n",
            "learning --> pobj --> NOUN\n",
            "Selection --> ROOT --> NOUN\n",
            "of --> prep --> ADP\n",
            "relevant --> amod --> ADJ\n",
            "features --> pobj --> NOUN\n",
            "and --> cc --> CCONJ\n",
            "examples --> conj --> NOUN\n",
            "in --> prep --> ADP\n",
            "machine --> compound --> NOUN\n",
            "learning --> pobj --> NOUN\n",
            "Bioinformatics --> ROOT --> NOUN\n",
            ": --> punct --> PUNCT\n",
            "the --> det --> DET\n",
            "machine --> compound --> NOUN\n",
            "learning --> compound --> NOUN\n",
            "approach --> appos --> NOUN\n",
            "Machine --> compound --> NOUN\n",
            "learning --> ROOT --> NOUN\n",
            ": --> punct --> PUNCT\n",
            "an --> det --> DET\n",
            "algorithmic --> amod --> ADJ\n",
            "perspective --> appos --> NOUN\n",
            "practical --> amod --> ADJ\n",
            "machine --> compound --> NOUN\n",
            "learning --> ROOT --> NOUN\n",
            "tools --> dobj --> NOUN\n",
            "and --> cc --> CCONJ\n",
            "techniques --> conj --> NOUN\n",
            "with --> prep --> ADP\n",
            "Java --> compound --> PROPN\n",
            "implementations --> pobj --> NOUN\n",
            "Sentiment --> compound --> NOUN\n",
            "classification --> ROOT --> NOUN\n",
            "using --> acl --> VERB\n",
            "machine --> compound --> NOUN\n",
            "learning --> compound --> NOUN\n",
            "techniques --> dobj --> NOUN\n",
            "Practical --> amod --> ADJ\n",
            "bayesian --> amod --> ADJ\n",
            "optimization --> ROOT --> NOUN\n",
            "of --> prep --> ADP\n",
            "machine --> compound --> NOUN\n",
            "learning --> pcomp --> NOUN\n",
            "algorithms --> dobj --> NOUN\n",
            "Correlation --> npadvmod --> NOUN\n",
            "- --> punct --> PUNCT\n",
            "based --> amod --> VERB\n",
            "feature --> compound --> NOUN\n",
            "selection --> ROOT --> NOUN\n",
            "for --> prep --> ADP\n",
            "machine --> compound --> NOUN\n",
            "learning --> pobj --> NOUN\n",
            "Machine --> compound --> NOUN\n",
            "learning --> ROOT --> VERB\n",
            "for --> prep --> ADP\n",
            "high --> amod --> ADJ\n",
            "- --> punct --> PUNCT\n",
            "speed --> compound --> NOUN\n",
            "corner --> compound --> NOUN\n",
            "detection --> pobj --> NOUN\n",
            "Python --> compound --> ADJ\n",
            "machine --> compound --> NOUN\n",
            "learning --> ROOT --> NOUN\n",
            "Adversarial --> amod --> ADJ\n",
            "machine --> compound --> NOUN\n",
            "learning --> ROOT --> NOUN\n",
            "Understanding --> ROOT --> VERB\n",
            "machine --> compound --> NOUN\n",
            "learning --> dobj --> NOUN\n",
            ": --> punct --> PUNCT\n",
            "From --> prep --> ADP\n",
            "theory --> pobj --> NOUN\n",
            "to --> prep --> ADP\n",
            "algorithms --> pobj --> NOUN\n",
            "Supervised --> amod --> ADJ\n",
            "machine --> compound --> NOUN\n",
            "learning --> ROOT --> NOUN\n",
            ": --> punct --> PUNCT\n",
            "A --> det --> DET\n",
            "review --> ROOT --> NOUN\n",
            "of --> prep --> ADP\n",
            "classification --> compound --> NOUN\n",
            "techniques --> pobj --> NOUN\n",
            "Large --> amod --> ADJ\n",
            "- --> punct --> PUNCT\n",
            "scale --> compound --> NOUN\n",
            "machine --> nsubj --> NOUN\n",
            "learning --> ROOT --> VERB\n",
            "with --> prep --> ADP\n",
            "stochastic --> amod --> ADJ\n",
            "gradient --> compound --> NOUN\n",
            "descent --> pobj --> NOUN\n",
            "Mllib --> ROOT --> NOUN\n",
            ": --> punct --> PUNCT\n",
            "Machine --> compound --> NOUN\n",
            "learning --> ROOT --> VERB\n",
            "in --> prep --> ADP\n",
            "apache --> compound --> PROPN\n",
            "spark --> pobj --> NOUN\n",
            "Machine --> compound --> NOUN\n",
            "learning --> ROOT --> VERB\n",
            "in --> prep --> ADP\n",
            "medicine --> pobj --> NOUN\n",
            "Dataset --> amod --> ADJ\n",
            "shift --> ROOT --> NOUN\n",
            "in --> prep --> ADP\n",
            "machine --> compound --> NOUN\n",
            "learning --> pobj --> NOUN\n",
            "Tensorflow --> ROOT --> NOUN\n",
            ": --> punct --> PUNCT\n",
            "A --> det --> DET\n",
            "system --> ROOT --> NOUN\n",
            "for --> prep --> ADP\n",
            "large --> amod --> ADJ\n",
            "- --> punct --> PUNCT\n",
            "scale --> compound --> NOUN\n",
            "machine --> compound --> NOUN\n",
            "learning --> pobj --> NOUN\n",
            "Optimization --> ROOT --> NOUN\n",
            "for --> prep --> ADP\n",
            "machine --> compound --> NOUN\n",
            "learning --> pobj --> NOUN\n",
            "Encyclopedia --> ROOT --> NOUN\n",
            "of --> prep --> ADP\n",
            "machine --> compound --> NOUN\n",
            "learning --> pobj --> NOUN\n",
            "Elements --> ROOT --> NOUN\n",
            "of --> prep --> ADP\n",
            "machine --> compound --> NOUN\n",
            "learning --> pobj --> NOUN\n",
            "Python --> compound --> ADJ\n",
            "machine --> compound --> NOUN\n",
            "learning --> ROOT --> NOUN\n",
            "Machine --> compound --> NOUN\n",
            "learning --> ROOT --> NOUN\n",
            ": --> punct --> PUNCT\n",
            "an --> det --> DET\n",
            "applied --> amod --> ADJ\n",
            "econometric --> compound --> ADJ\n",
            "approach --> appos --> NOUN\n",
            "Map --> compound --> PROPN\n",
            "- --> punct --> PUNCT\n",
            "reduce --> ROOT --> VERB\n",
            "for --> prep --> ADP\n",
            "machine --> compound --> NOUN\n",
            "learning --> pobj --> VERB\n",
            "on --> prep --> ADP\n",
            "multicore --> pobj --> PROPN\n",
            "Tensorflow --> ROOT --> NOUN\n",
            ": --> punct --> PUNCT\n",
            "Large --> amod --> ADJ\n",
            "- --> punct --> PUNCT\n",
            "scale --> compound --> NOUN\n",
            "machine --> compound --> NOUN\n",
            "learning --> appos --> VERB\n",
            "on --> prep --> ADP\n",
            "heterogeneous --> amod --> ADJ\n",
            "distributed --> amod --> VERB\n",
            "systems --> pobj --> NOUN\n",
            "Big --> amod --> ADJ\n",
            "data --> nmod --> NOUN\n",
            "and --> cc --> CCONJ\n",
            "machine --> conj --> NOUN\n",
            "learning --> ROOT --> VERB\n",
            "in --> prep --> ADP\n",
            "health --> compound --> NOUN\n",
            "care --> pobj --> NOUN\n",
            "Machine --> compound --> NOUN\n",
            "learning --> ROOT --> VERB\n",
            "for --> prep --> ADP\n",
            "medical --> amod --> ADJ\n",
            "imaging --> pobj --> NOUN\n",
            "Kernel --> compound --> ADJ\n",
            "methods --> ROOT --> NOUN\n",
            "in --> prep --> ADP\n",
            "machine --> compound --> NOUN\n",
            "learning --> pobj --> NOUN\n",
            "Bayesian --> amod --> ADJ\n",
            "reasoning --> ROOT --> NOUN\n",
            "and --> cc --> CCONJ\n",
            "machine --> compound --> NOUN\n",
            "learning --> conj --> NOUN\n",
            "Incremental --> amod --> ADJ\n",
            "and --> cc --> CCONJ\n",
            "decremental --> conj --> ADJ\n",
            "support --> compound --> NOUN\n",
            "vector --> compound --> NOUN\n",
            "machine --> compound --> NOUN\n",
            "learning --> ROOT --> NOUN\n",
            "Can --> aux --> VERB\n",
            "machine --> compound --> NOUN\n",
            "learning --> nsubj --> NOUN\n",
            "be --> ROOT --> AUX\n",
            "secure --> acomp --> ADJ\n",
            "? --> punct --> PUNCT\n",
            "Adversarial --> amod --> ADJ\n",
            "machine --> compound --> NOUN\n",
            "learning --> ROOT --> VERB\n",
            "at --> prep --> ADP\n",
            "scale --> pobj --> NOUN\n",
            "Machine --> nsubj --> NOUN\n",
            "learning --> ROOT --> VERB\n",
            "basics --> dobj --> NOUN\n",
            "Predicting --> ROOT --> VERB\n",
            "the --> det --> DET\n",
            "futurebig --> compound --> ADJ\n",
            "data --> dobj --> NOUN\n",
            ", --> punct --> PUNCT\n",
            "machine --> compound --> NOUN\n",
            "learning --> conj --> NOUN\n",
            ", --> punct --> PUNCT\n",
            "and --> cc --> CCONJ\n",
            "clinical --> amod --> ADJ\n",
            "medicine --> conj --> NOUN\n",
            "Machine --> compound --> NOUN\n",
            "learning --> ROOT --> VERB\n",
            "in --> prep --> ADP\n",
            "medicine --> pobj --> NOUN\n",
            "Machine --> compound --> NOUN\n",
            "learning --> ROOT --> VERB\n",
            "for --> prep --> ADP\n",
            "molecular --> amod --> ADJ\n",
            "and --> cc --> CCONJ\n",
            "materials --> conj --> NOUN\n",
            "science --> pobj --> NOUN\n",
            "Dadiannao --> ROOT --> PROPN\n",
            ": --> punct --> PUNCT\n",
            "A --> det --> DET\n",
            "machine --> compound --> NOUN\n",
            "- --> punct --> PUNCT\n",
            "learning --> amod --> VERB\n",
            "supercomputer --> ROOT --> NOUN\n",
            "Gaussian --> amod --> ADJ\n",
            "processes --> ROOT --> NOUN\n",
            "for --> prep --> ADP\n",
            "machine --> compound --> NOUN\n",
            "learning --> pobj --> NOUN\n",
            "Efficient --> amod --> ADJ\n",
            "and --> cc --> CCONJ\n",
            "robust --> advmod --> ADJ\n",
            "automated --> conj --> ADJ\n",
            "machine --> compound --> NOUN\n",
            "learning --> ROOT --> NOUN\n",
            "Towards --> ROOT --> ADP\n",
            "a --> det --> DET\n",
            "rigorous --> amod --> ADJ\n",
            "science --> pobj --> NOUN\n",
            "of --> prep --> ADP\n",
            "interpretable --> amod --> ADJ\n",
            "machine --> compound --> NOUN\n",
            "learning --> pobj --> NOUN\n",
            "  -->  --> SPACE\n",
            "The --> det --> DET\n",
            "discipline --> ROOT --> NOUN\n",
            "of --> prep --> ADP\n",
            "machine --> compound --> NOUN\n",
            "learning --> pobj --> NOUN\n",
            "Optimization --> compound --> NOUN\n",
            "methods --> ROOT --> NOUN\n",
            "for --> prep --> ADP\n",
            "large --> amod --> ADJ\n",
            "- --> punct --> PUNCT\n",
            "scale --> compound --> NOUN\n",
            "machine --> compound --> NOUN\n",
            "learning --> pobj --> NOUN\n",
            "A --> quantmod --> DET\n",
            "few --> nummod --> ADJ\n",
            "useful --> amod --> ADJ\n",
            "things --> ROOT --> NOUN\n",
            "to --> aux --> PART\n",
            "know --> relcl --> VERB\n",
            "about --> prep --> ADP\n",
            "machine --> compound --> NOUN\n",
            "learning --> pobj --> NOUN\n",
            "Machine --> compound --> NOUN\n",
            "learning --> ROOT --> NOUN\n",
            "phases --> dobj --> NOUN\n",
            "of --> prep --> ADP\n",
            "matter --> pobj --> NOUN\n",
            "Some --> det --> DET\n",
            "studies --> ROOT --> NOUN\n",
            "in --> prep --> ADP\n",
            "machine --> compound --> NOUN\n",
            "learning --> pobj --> VERB\n",
            "using --> acl --> VERB\n",
            "the --> det --> DET\n",
            "game --> dobj --> NOUN\n",
            "of --> prep --> ADP\n",
            "checkers --> pobj --> NOUN\n",
            "Machine --> compound --> NOUN\n",
            "learning --> ROOT --> VERB\n",
            "with --> prep --> ADP\n",
            "R --> pobj --> NOUN\n",
            "Machine --> compound --> NOUN\n",
            "learning --> ROOT --> NOUN\n",
            "and --> cc --> CCONJ\n",
            "data --> compound --> NOUN\n",
            "mining --> conj --> NOUN\n",
            "Readings --> ROOT --> NOUN\n",
            "in --> prep --> ADP\n",
            "machine --> compound --> NOUN\n",
            "learning --> pobj --> NOUN\n",
            "Interactive --> amod --> ADJ\n",
            "machine --> compound --> NOUN\n",
            "learning --> ROOT --> NOUN\n",
            "Multiagent --> compound --> NOUN\n",
            "systems --> ROOT --> NOUN\n",
            ": --> punct --> PUNCT\n",
            "A --> det --> DET\n",
            "survey --> ROOT --> NOUN\n",
            "from --> prep --> ADP\n",
            "a --> det --> DET\n",
            "machine --> compound --> NOUN\n",
            "learning --> compound --> VERB\n",
            "perspective --> pobj --> NOUN\n",
            "Multiagent --> compound --> NOUN\n",
            "systems --> ROOT --> NOUN\n",
            ": --> punct --> PUNCT\n",
            "A --> det --> DET\n",
            "survey --> ROOT --> NOUN\n",
            "from --> prep --> ADP\n",
            "a --> det --> DET\n",
            "machine --> compound --> NOUN\n",
            "learning --> compound --> VERB\n",
            "perspective --> pobj --> NOUN\n",
            "Machine --> compound --> NOUN\n",
            "learning --> ROOT --> NOUN\n",
            "and --> cc --> CCONJ\n",
            "the --> det --> DET\n",
            "physical --> amod --> ADJ\n",
            "sciences --> conj --> NOUN\n",
            "Sparse --> compound --> ADJ\n",
            "greedy --> amod --> ADJ\n",
            "matrix --> compound --> NOUN\n",
            "approximation --> ROOT --> NOUN\n",
            "for --> prep --> ADP\n",
            "machine --> compound --> NOUN\n",
            "learning --> pobj --> NOUN\n",
            "Torch7 --> ROOT --> NOUN\n",
            ": --> punct --> PUNCT\n",
            "A --> det --> DET\n",
            "matlab --> npadvmod --> NOUN\n",
            "- --> punct --> PUNCT\n",
            "like --> amod --> ADJ\n",
            "environment --> ROOT --> NOUN\n",
            "for --> prep --> ADP\n",
            "machine --> compound --> NOUN\n",
            "learning --> pobj --> NOUN\n",
            "Membership --> compound --> NOUN\n",
            "inference --> compound --> NOUN\n",
            "attacks --> ROOT --> NOUN\n",
            "against --> prep --> ADP\n",
            "machine --> compound --> NOUN\n",
            "learning --> compound --> NOUN\n",
            "models --> pobj --> NOUN\n",
            "The --> det --> DET\n",
            "boosting --> amod --> VERB\n",
            "approach --> ROOT --> NOUN\n",
            "to --> prep --> ADP\n",
            "machine --> compound --> NOUN\n",
            "learning --> pobj --> NOUN\n",
            ": --> punct --> PUNCT\n",
            "An --> det --> DET\n",
            "overview --> appos --> NOUN\n",
            "Machine --> compound --> NOUN\n",
            "learning --> ROOT --> VERB\n",
            "applications --> dobj --> NOUN\n",
            "in --> prep --> ADP\n",
            "genetics --> pobj --> NOUN\n",
            "and --> cc --> CCONJ\n",
            "genomics --> conj --> NOUN\n",
            "Machine --> compound --> NOUN\n",
            "learning --> ROOT --> VERB\n",
            "in --> prep --> ADP\n",
            "bioinformatics --> pobj --> NOUN\n",
            "Machine --> compound --> NOUN\n",
            "learning --> ROOT --> VERB\n",
            "for --> prep --> ADP\n",
            "user --> compound --> NOUN\n",
            "modeling --> pobj --> NOUN\n",
            "Intrusion --> compound --> NOUN\n",
            "detection --> dep --> NOUN\n",
            "by --> prep --> ADP\n",
            "machine --> compound --> NOUN\n",
            "learning --> pobj --> NOUN\n",
            ": --> punct --> PUNCT\n",
            "A --> det --> DET\n",
            "review --> ROOT --> NOUN\n",
            "The --> det --> DET\n",
            "immune --> amod --> ADJ\n",
            "system --> ROOT --> NOUN\n",
            ", --> punct --> PUNCT\n",
            "adaptation --> conj --> NOUN\n",
            ", --> punct --> PUNCT\n",
            "and --> cc --> CCONJ\n",
            "machine --> compound --> NOUN\n",
            "learning --> conj --> NOUN\n",
            "An --> det --> DET\n",
            "introduction --> ROOT --> NOUN\n",
            "to --> prep --> ADP\n",
            "machine --> compound --> NOUN\n",
            "learning --> pobj --> NOUN\n",
            "Probabilistic --> amod --> ADJ\n",
            "machine --> compound --> NOUN\n",
            "learning --> ROOT --> NOUN\n",
            "and --> cc --> CCONJ\n",
            "artificial --> amod --> ADJ\n",
            "intelligence --> conj --> NOUN\n",
            "Gaussian --> amod --> ADJ\n",
            "processes --> ROOT --> NOUN\n",
            "for --> prep --> ADP\n",
            "machine --> compound --> NOUN\n",
            "learning --> pobj --> NOUN\n",
            "Implementing --> ROOT --> VERB\n",
            "machine --> compound --> NOUN\n",
            "learning --> dobj --> VERB\n",
            "in --> prep --> ADP\n",
            "health --> pobj --> NOUN\n",
            "careaddressing --> dep --> NOUN\n",
            "ethical --> amod --> ADJ\n",
            "challenges --> dobj --> NOUN\n",
            "Next --> amod --> ADJ\n",
            "- --> punct --> PUNCT\n",
            "generation --> compound --> NOUN\n",
            "machine --> nsubj --> NOUN\n",
            "learning --> ROOT --> VERB\n",
            "for --> prep --> ADP\n",
            "biological --> amod --> ADJ\n",
            "networks --> pobj --> NOUN\n",
            "Machine --> compound --> NOUN\n",
            "learning --> ROOT --> NOUN\n",
            "and --> cc --> CCONJ\n",
            "radiology --> conj --> NOUN\n",
            "Fashion --> compound --> NOUN\n",
            "- --> punct --> PUNCT\n",
            "mnist --> ROOT --> NOUN\n",
            ": --> punct --> PUNCT\n",
            "a --> det --> DET\n",
            "novel --> amod --> ADJ\n",
            "image --> appos --> NOUN\n",
            "dataset --> acl --> VERB\n",
            "for --> prep --> ADP\n",
            "benchmarking --> pcomp --> VERB\n",
            "machine --> compound --> NOUN\n",
            "learning --> dobj --> NOUN\n",
            "algorithms --> dobj --> NOUN\n",
            "Multimodal --> compound --> NOUN\n",
            "machine --> compound --> NOUN\n",
            "learning --> ROOT --> NOUN\n",
            ": --> punct --> PUNCT\n",
            "A --> det --> DET\n",
            "survey --> ROOT --> NOUN\n",
            "and --> cc --> CCONJ\n",
            "taxonomy --> conj --> NOUN\n",
            "MoleculeNet --> ROOT --> PROPN\n",
            ": --> punct --> PUNCT\n",
            "a --> det --> DET\n",
            "benchmark --> appos --> NOUN\n",
            "for --> prep --> ADP\n",
            "molecular --> amod --> ADJ\n",
            "machine --> compound --> NOUN\n",
            "learning --> pobj --> NOUN\n",
            "  -->  --> SPACE\n",
            "The --> det --> DET\n",
            "SHOGUN --> compound --> PROPN\n",
            "machine --> compound --> NOUN\n",
            "learning --> compound --> NOUN\n",
            "toolbox --> ROOT --> NOUN\n",
            "Memo --> compound --> PROPN\n",
            "functions --> ROOT --> NOUN\n",
            "and --> cc --> CCONJ\n",
            "machine --> compound --> NOUN\n",
            "learning --> conj --> NOUN\n",
            "Structural --> amod --> ADJ\n",
            "health --> compound --> NOUN\n",
            "monitoring --> ROOT --> NOUN\n",
            ": --> punct --> PUNCT\n",
            "a --> det --> DET\n",
            "machine --> compound --> NOUN\n",
            "learning --> compound --> VERB\n",
            "perspective --> appos --> NOUN\n",
            "Automated --> amod --> VERB\n",
            "machine --> compound --> NOUN\n",
            "learning --> ROOT --> NOUN\n",
            ": --> punct --> PUNCT\n",
            "methods --> nsubj --> NOUN\n",
            ", --> punct --> PUNCT\n",
            "systems --> appos --> NOUN\n",
            ", --> punct --> PUNCT\n",
            "challenges --> ROOT --> NOUN\n",
            "Faster --> advmod --> ADV\n",
            "and --> cc --> CCONJ\n",
            "better --> conj --> ADJ\n",
            ": --> punct --> PUNCT\n",
            "A --> det --> DET\n",
            "machine --> compound --> NOUN\n",
            "learning --> compound --> VERB\n",
            "approach --> ROOT --> NOUN\n",
            "to --> prep --> ADP\n",
            "corner --> compound --> NOUN\n",
            "detection --> pobj --> NOUN\n",
            "Practical --> amod --> ADJ\n",
            "feature --> nsubj --> NOUN\n",
            "subset --> ROOT --> NOUN\n",
            "selection --> dobj --> NOUN\n",
            "for --> prep --> ADP\n",
            "machine --> compound --> NOUN\n",
            "learning --> pobj --> NOUN\n",
            "Machine --> compound --> NOUN\n",
            "learning --> ROOT --> VERB\n",
            "paradigms --> dobj --> NOUN\n",
            "for --> prep --> ADP\n",
            "next --> amod --> ADJ\n",
            "- --> punct --> PUNCT\n",
            "generation --> compound --> NOUN\n",
            "wireless --> compound --> NOUN\n",
            "networks --> pobj --> NOUN\n",
            "Ensemble --> amod --> ADJ\n",
            "machine --> compound --> NOUN\n",
            "learning --> ROOT --> NOUN\n",
            ": --> punct --> PUNCT\n",
            "methods --> appos --> NOUN\n",
            "and --> cc --> CCONJ\n",
            "applications --> conj --> NOUN\n",
            "How --> advmod --> ADV\n",
            "the --> det --> DET\n",
            "machine --> nsubj --> NOUN\n",
            "' --> punct --> PUNCT\n",
            "thinks --> ROOT --> VERB\n",
            "' --> punct --> PUNCT\n",
            ": --> punct --> PUNCT\n",
            "Understanding --> ROOT --> VERB\n",
            "opacity --> dobj --> NOUN\n",
            "in --> prep --> ADP\n",
            "machine --> compound --> NOUN\n",
            "learning --> pcomp --> NOUN\n",
            "algorithms --> dobj --> NOUN\n",
            "Convolutional --> amod --> PROPN\n",
            "LSTM --> compound --> PROPN\n",
            "network --> ROOT --> NOUN\n",
            ": --> punct --> PUNCT\n",
            "A --> det --> DET\n",
            "machine --> compound --> NOUN\n",
            "learning --> compound --> VERB\n",
            "approach --> ROOT --> NOUN\n",
            "for --> prep --> ADP\n",
            "precipitation --> pobj --> NOUN\n",
            "nowcasting --> acl --> NOUN\n",
            "Machine --> compound --> NOUN\n",
            "learning --> ccomp --> VERB\n",
            "classifiers --> dobj --> NOUN\n",
            "and --> cc --> CCONJ\n",
            "fMRI --> dep --> PROPN\n",
            ": --> punct --> PUNCT\n",
            "a --> det --> DET\n",
            "tutorial --> amod --> ADJ\n",
            "overview --> ROOT --> NOUN\n",
            "Flow --> nsubj --> NOUN\n",
            "clustering --> ROOT --> VERB\n",
            "using --> advcl --> VERB\n",
            "machine --> compound --> NOUN\n",
            "learning --> compound --> NOUN\n",
            "techniques --> dobj --> NOUN\n",
            "Practical --> amod --> ADJ\n",
            "black --> amod --> ADJ\n",
            "- --> punct --> PUNCT\n",
            "box --> compound --> NOUN\n",
            "attacks --> ROOT --> NOUN\n",
            "against --> prep --> ADP\n",
            "machine --> compound --> NOUN\n",
            "learning --> pobj --> NOUN\n",
            "Federated --> amod --> ADJ\n",
            "machine --> compound --> NOUN\n",
            "learning --> ROOT --> NOUN\n",
            ": --> punct --> PUNCT\n",
            "Concept --> appos --> NOUN\n",
            "and --> cc --> CCONJ\n",
            "applications --> conj --> NOUN\n"
          ],
          "name": "stdout"
        }
      ]
    },
    {
      "cell_type": "markdown",
      "metadata": {
        "id": "Dq_7VGmrsum4"
      },
      "source": [
        "## **2. Domain-specific information extraction (10 points)**\n",
        "\n",
        "For the legal case used in the data cleaning exercise: [01-05-1 Adams v Tanner.txt](https://github.com/unt-iialab/INFO5731_FALL2020/blob/master/In_class_exercise/01-05-1%20%20Adams%20v%20Tanner.txt), use [legalNLP](https://lexpredict-lexnlp.readthedocs.io/en/latest/modules/extract/extract.html#nlp-based-extraction-methods) to extract the following inforation from the text (if the information is not exist, just print None):\n",
        "\n",
        "(1) acts, e.g., “section 1 of the Advancing Hope Act, 1986”\n",
        "\n",
        "(2) amounts, e.g., “ten pounds” or “5.8 megawatts”\n",
        "\n",
        "(3) citations, e.g., “10 U.S. 100” or “1998 S. Ct. 1”\n",
        "\n",
        "(4) companies, e.g., “Lexpredict LLC”\n",
        "\n",
        "(5) conditions, e.g., “subject to …” or “unless and until …”\n",
        "\n",
        "(6) constraints, e.g., “no more than”\n",
        "\n",
        "(7) copyright, e.g., “(C) Copyright 2000 Acme”\n",
        "\n",
        "(8) courts, e.g., “Supreme Court of New York”\n",
        "\n",
        "(9) CUSIP, e.g., “392690QT3”\n",
        "\n",
        "(10) dates, e.g., “June 1, 2017” or “2018-01-01”\n",
        "\n",
        "(11) definitions, e.g., “Term shall mean …”\n",
        "\n",
        "(12) distances, e.g., “fifteen miles”\n",
        "\n",
        "(13) durations, e.g., “ten years” or “thirty days”\n",
        "\n",
        "(14) geographic and geopolitical entities, e.g., “New York” or “Norway”\n",
        "\n",
        "(15) money and currency usages, e.g., “$5” or “10 Euro”\n",
        "\n",
        "(16) percents and rates, e.g., “10%” or “50 bps”\n",
        "\n",
        "(17) PII, e.g., “212-212-2121” or “999-999-9999”\n",
        "\n",
        "(18) ratios, e.g.,” 3:1” or “four to three”\n",
        "\n",
        "(19) regulations, e.g., “32 CFR 170”\n",
        "\n",
        "(20) trademarks, e.g., “MyApp (TM)”\n",
        "\n",
        "(21) URLs, e.g., “http://acme.com/”\n",
        "\n",
        "(22) addresses, e.g., “1999 Mount Read Blvd, Rochester, NY, USA, 14615”\n",
        "\n",
        "(23) persons, e.g., “John Doe"
      ]
    },
    {
      "cell_type": "code",
      "metadata": {
        "id": "6Rp1a9iUmBR3",
        "colab": {
          "base_uri": "https://localhost:8080/",
          "height": 1000
        },
        "outputId": "483a6c38-7eea-45d3-e821-ca599a1e398b"
      },
      "source": [
        "pip install lexnlp==0.2.7"
      ],
      "execution_count": null,
      "outputs": [
        {
          "output_type": "stream",
          "text": [
            "Collecting lexnlp==0.2.7\n",
            "\u001b[?25l  Downloading https://files.pythonhosted.org/packages/50/50/e5e769dfa27b9c657bc3fefb6edee56d186c630176746e232030aa5409ed/lexnlp-0.2.7-py3-none-any.whl (8.0MB)\n",
            "\u001b[K     |████████████████████████████████| 8.0MB 2.7MB/s \n",
            "\u001b[?25hCollecting pycountry==18.5.26\n",
            "\u001b[?25l  Downloading https://files.pythonhosted.org/packages/c5/c0/8ce9d2b55347867900edbe4d18f790571130c16f882b4891a0f08627dcdc/pycountry-18.5.26-py2.py3-none-any.whl (10.3MB)\n",
            "\u001b[K     |████████████████████████████████| 10.3MB 29.8MB/s \n",
            "\u001b[?25hCollecting dateparser==0.7.0\n",
            "\u001b[?25l  Downloading https://files.pythonhosted.org/packages/ac/9e/1aa87c0c59f9731820bfd20a8b148d97b315530c2c92d1fb300328c8c42f/dateparser-0.7.0-py2.py3-none-any.whl (357kB)\n",
            "\u001b[K     |████████████████████████████████| 358kB 49.2MB/s \n",
            "\u001b[?25hCollecting nltk==3.2.4\n",
            "\u001b[?25l  Downloading https://files.pythonhosted.org/packages/cd/c2/858e0708b497116ae45cf5c6b1f66984ac60729c61e49df6c1c0b808d1e4/nltk-3.2.4.tar.gz (1.2MB)\n",
            "\u001b[K     |████████████████████████████████| 1.2MB 45.6MB/s \n",
            "\u001b[?25hCollecting scipy==1.0.0\n",
            "\u001b[?25l  Downloading https://files.pythonhosted.org/packages/d8/5e/caa01ba7be11600b6a9d39265440d7b3be3d69206da887c42bef049521f2/scipy-1.0.0-cp36-cp36m-manylinux1_x86_64.whl (50.0MB)\n",
            "\u001b[K     |████████████████████████████████| 50.0MB 127kB/s \n",
            "\u001b[?25hRequirement already satisfied: datefinder-lexpredict==0.6.2 in /usr/local/lib/python3.6/dist-packages (from lexnlp==0.2.7) (0.6.2)\n",
            "Collecting pandas==0.23.4\n",
            "\u001b[?25l  Downloading https://files.pythonhosted.org/packages/e1/d8/feeb346d41f181e83fba45224ab14a8d8af019b48af742e047f3845d8cff/pandas-0.23.4-cp36-cp36m-manylinux1_x86_64.whl (8.9MB)\n",
            "\u001b[K     |████████████████████████████████| 8.9MB 44.3MB/s \n",
            "\u001b[?25hCollecting reporters-db==1.0.12.1\n",
            "\u001b[?25l  Downloading https://files.pythonhosted.org/packages/0d/6c/16c7c3849a25d2c3af5ef6e05d768d8e86e74aa9051df4728325c5f31f46/reporters_db-1.0.12.1-py2.py3-none-any.whl (60kB)\n",
            "\u001b[K     |████████████████████████████████| 61kB 7.4MB/s \n",
            "\u001b[?25hCollecting gensim==3.4.0\n",
            "\u001b[?25l  Downloading https://files.pythonhosted.org/packages/33/33/df6cb7acdcec5677ed130f4800f67509d24dbec74a03c329fcbf6b0864f0/gensim-3.4.0-cp36-cp36m-manylinux1_x86_64.whl (22.6MB)\n",
            "\u001b[K     |████████████████████████████████| 22.6MB 1.4MB/s \n",
            "\u001b[?25hCollecting num2words==0.5.5\n",
            "\u001b[?25l  Downloading https://files.pythonhosted.org/packages/5f/d8/1c1fb47cce56ff2cc1f5eb2740f2679045769778a746fbf9ebff1d70a63e/num2words-0.5.5-py2.py3-none-any.whl (57kB)\n",
            "\u001b[K     |████████████████████████████████| 61kB 7.8MB/s \n",
            "\u001b[?25hCollecting us==1.0.0\n",
            "  Downloading https://files.pythonhosted.org/packages/72/83/8731cbf5afcf3434c0b24cfc520c11fd27bfc8a6878114662f4e3dbdab71/us-1.0.0.tar.gz\n",
            "Collecting typing==3.6.2\n",
            "  Downloading https://files.pythonhosted.org/packages/44/88/d09c6a7fe1af4a02f16d2f1766212bec752aadb04e5699a9706a10a1a37d/typing-3.6.2-py3-none-any.whl\n",
            "Collecting scikit-learn==0.19.1\n",
            "\u001b[?25l  Downloading https://files.pythonhosted.org/packages/3d/2d/9fbc7baa5f44bc9e88ffb7ed32721b879bfa416573e85031e16f52569bc9/scikit_learn-0.19.1-cp36-cp36m-manylinux1_x86_64.whl (12.4MB)\n",
            "\u001b[K     |████████████████████████████████| 12.4MB 167kB/s \n",
            "\u001b[?25hCollecting requests==2.22.0\n",
            "\u001b[?25l  Downloading https://files.pythonhosted.org/packages/51/bd/23c926cd341ea6b7dd0b2a00aba99ae0f828be89d72b2190f27c11d4b7fb/requests-2.22.0-py2.py3-none-any.whl (57kB)\n",
            "\u001b[K     |████████████████████████████████| 61kB 7.4MB/s \n",
            "\u001b[?25hCollecting regex==2017.9.23\n",
            "\u001b[?25l  Downloading https://files.pythonhosted.org/packages/d7/65/91b43adad1dc45d7374521422270490128a2f289e1c3e1036b231b521507/regex-2017.09.23.tar.gz (607kB)\n",
            "\u001b[K     |████████████████████████████████| 614kB 46.6MB/s \n",
            "\u001b[?25hCollecting Unidecode==0.4.21\n",
            "\u001b[?25l  Downloading https://files.pythonhosted.org/packages/01/a1/9d7f3138ee3d79a1ab865a2cb38200ca778d85121db19fe264c76c981184/Unidecode-0.04.21-py2.py3-none-any.whl (228kB)\n",
            "\u001b[K     |████████████████████████████████| 235kB 38.0MB/s \n",
            "\u001b[?25hRequirement already satisfied: tzlocal in /usr/local/lib/python3.6/dist-packages (from dateparser==0.7.0->lexnlp==0.2.7) (1.5.1)\n",
            "Requirement already satisfied: python-dateutil in /usr/local/lib/python3.6/dist-packages (from dateparser==0.7.0->lexnlp==0.2.7) (2.8.1)\n",
            "Requirement already satisfied: pytz in /usr/local/lib/python3.6/dist-packages (from dateparser==0.7.0->lexnlp==0.2.7) (2018.9)\n",
            "Requirement already satisfied: six in /usr/local/lib/python3.6/dist-packages (from nltk==3.2.4->lexnlp==0.2.7) (1.15.0)\n",
            "Requirement already satisfied: numpy>=1.8.2 in /usr/local/lib/python3.6/dist-packages (from scipy==1.0.0->lexnlp==0.2.7) (1.19.1)\n",
            "Requirement already satisfied: smart-open>=1.2.1 in /usr/local/lib/python3.6/dist-packages (from gensim==3.4.0->lexnlp==0.2.7) (2.2.0)\n",
            "Collecting jellyfish==0.5.6\n",
            "\u001b[?25l  Downloading https://files.pythonhosted.org/packages/94/48/ddb1458d966f0a84e472d059d87a9d1527df7768a725132fc1d810728386/jellyfish-0.5.6.tar.gz (132kB)\n",
            "\u001b[K     |████████████████████████████████| 133kB 51.6MB/s \n",
            "\u001b[?25hRequirement already satisfied: urllib3!=1.25.0,!=1.25.1,<1.26,>=1.21.1 in /usr/local/lib/python3.6/dist-packages (from requests==2.22.0->lexnlp==0.2.7) (1.24.3)\n",
            "Collecting idna<2.9,>=2.5\n",
            "\u001b[?25l  Downloading https://files.pythonhosted.org/packages/14/2c/cd551d81dbe15200be1cf41cd03869a46fe7226e7450af7a6545bfc474c9/idna-2.8-py2.py3-none-any.whl (58kB)\n",
            "\u001b[K     |████████████████████████████████| 61kB 7.5MB/s \n",
            "\u001b[?25hRequirement already satisfied: certifi>=2017.4.17 in /usr/local/lib/python3.6/dist-packages (from requests==2.22.0->lexnlp==0.2.7) (2020.6.20)\n",
            "Requirement already satisfied: chardet<3.1.0,>=3.0.2 in /usr/local/lib/python3.6/dist-packages (from requests==2.22.0->lexnlp==0.2.7) (3.0.4)\n",
            "Building wheels for collected packages: nltk, us, regex, jellyfish\n",
            "  Building wheel for nltk (setup.py) ... \u001b[?25l\u001b[?25hdone\n",
            "  Created wheel for nltk: filename=nltk-3.2.4-cp36-none-any.whl size=1367705 sha256=9ae3a2bd6ddd6f5be633b0a4761aa21c32d93d0eb87f7d22c95169389eafb4ad\n",
            "  Stored in directory: /root/.cache/pip/wheels/36/f1/5c/f667347d86a3a534ba4c0127eed4389f929916e3ec88bb461a\n",
            "  Building wheel for us (setup.py) ... \u001b[?25l\u001b[?25hdone\n",
            "  Created wheel for us: filename=us-1.0.0-cp36-none-any.whl size=11833 sha256=fb4afa7f85a80795fd1d9408f95d4df7031cb8928b199068ec0e3f0f7cb4913d\n",
            "  Stored in directory: /root/.cache/pip/wheels/b3/98/40/cb8be35d7779a0ae4372c84e7a585c947bfc41540fd8999e53\n",
            "  Building wheel for regex (setup.py) ... \u001b[?25l\u001b[?25hdone\n",
            "  Created wheel for regex: filename=regex-2017.9.23-cp36-cp36m-linux_x86_64.whl size=538811 sha256=fcc8947ddda2543a4f22e56a02a996edac90a6806985298c44da892bdfaf77e2\n",
            "  Stored in directory: /root/.cache/pip/wheels/57/19/41/e7d239b4a53386fe9de49f9e4328799569bbeac8b8b3748876\n",
            "  Building wheel for jellyfish (setup.py) ... \u001b[?25l\u001b[?25hdone\n",
            "  Created wheel for jellyfish: filename=jellyfish-0.5.6-cp36-cp36m-linux_x86_64.whl size=74569 sha256=de259f863ecfbc7c4fe1a63313b139d95eb6fc76357c25f7b50cc40b4e25e036\n",
            "  Stored in directory: /root/.cache/pip/wheels/3b/29/06/8d686d24f742cb89e7bde7f26f18cb9e89b3c8bcd6999cb12a\n",
            "Successfully built nltk us regex jellyfish\n",
            "\u001b[31mERROR: yellowbrick 0.9.1 has requirement scikit-learn>=0.20, but you'll have scikit-learn 0.19.1 which is incompatible.\u001b[0m\n",
            "\u001b[31mERROR: xarray 0.15.1 has requirement pandas>=0.25, but you'll have pandas 0.23.4 which is incompatible.\u001b[0m\n",
            "\u001b[31mERROR: umap-learn 0.4.6 has requirement scikit-learn>=0.20, but you'll have scikit-learn 0.19.1 which is incompatible.\u001b[0m\n",
            "\u001b[31mERROR: umap-learn 0.4.6 has requirement scipy>=1.3.1, but you'll have scipy 1.0.0 which is incompatible.\u001b[0m\n",
            "\u001b[31mERROR: tensorflow 2.3.0 has requirement numpy<1.19.0,>=1.16.0, but you'll have numpy 1.19.1 which is incompatible.\u001b[0m\n",
            "\u001b[31mERROR: tensorflow 2.3.0 has requirement scipy==1.4.1, but you'll have scipy 1.0.0 which is incompatible.\u001b[0m\n",
            "\u001b[31mERROR: plotnine 0.6.0 has requirement pandas>=0.25.0, but you'll have pandas 0.23.4 which is incompatible.\u001b[0m\n",
            "\u001b[31mERROR: plotnine 0.6.0 has requirement scipy>=1.2.0, but you'll have scipy 1.0.0 which is incompatible.\u001b[0m\n",
            "\u001b[31mERROR: mizani 0.6.0 has requirement pandas>=0.25.0, but you'll have pandas 0.23.4 which is incompatible.\u001b[0m\n",
            "\u001b[31mERROR: imbalanced-learn 0.4.3 has requirement scikit-learn>=0.20, but you'll have scikit-learn 0.19.1 which is incompatible.\u001b[0m\n",
            "\u001b[31mERROR: google-colab 1.0.0 has requirement pandas~=1.1.0; python_version >= \"3.0\", but you'll have pandas 0.23.4 which is incompatible.\u001b[0m\n",
            "\u001b[31mERROR: google-colab 1.0.0 has requirement requests~=2.23.0, but you'll have requests 2.22.0 which is incompatible.\u001b[0m\n",
            "\u001b[31mERROR: fbprophet 0.7.1 has requirement pandas>=1.0.4, but you'll have pandas 0.23.4 which is incompatible.\u001b[0m\n",
            "\u001b[31mERROR: datascience 0.10.6 has requirement folium==0.2.1, but you'll have folium 0.8.3 which is incompatible.\u001b[0m\n",
            "\u001b[31mERROR: cvxpy 1.0.31 has requirement scipy>=1.1.0, but you'll have scipy 1.0.0 which is incompatible.\u001b[0m\n",
            "\u001b[31mERROR: albumentations 0.1.12 has requirement imgaug<0.2.7,>=0.2.5, but you'll have imgaug 0.2.9 which is incompatible.\u001b[0m\n",
            "Installing collected packages: pycountry, regex, dateparser, nltk, scipy, pandas, reporters-db, gensim, num2words, jellyfish, us, typing, scikit-learn, idna, requests, Unidecode, lexnlp\n",
            "  Found existing installation: pycountry 20.7.3\n",
            "    Uninstalling pycountry-20.7.3:\n",
            "      Successfully uninstalled pycountry-20.7.3\n",
            "  Found existing installation: regex 2020.7.14\n",
            "    Uninstalling regex-2020.7.14:\n",
            "      Successfully uninstalled regex-2020.7.14\n",
            "  Found existing installation: dateparser 0.7.2\n",
            "    Uninstalling dateparser-0.7.2:\n",
            "      Successfully uninstalled dateparser-0.7.2\n",
            "  Found existing installation: nltk 3.5\n",
            "    Uninstalling nltk-3.5:\n",
            "      Successfully uninstalled nltk-3.5\n",
            "  Found existing installation: scipy 1.5.1\n",
            "    Uninstalling scipy-1.5.1:\n",
            "      Successfully uninstalled scipy-1.5.1\n",
            "  Found existing installation: pandas 0.24.2\n",
            "    Uninstalling pandas-0.24.2:\n",
            "      Successfully uninstalled pandas-0.24.2\n",
            "  Found existing installation: reporters-db 2.0.3\n",
            "    Uninstalling reporters-db-2.0.3:\n",
            "      Successfully uninstalled reporters-db-2.0.3\n",
            "  Found existing installation: gensim 3.8.3\n",
            "    Uninstalling gensim-3.8.3:\n",
            "      Successfully uninstalled gensim-3.8.3\n",
            "  Found existing installation: num2words 0.5.10\n",
            "    Uninstalling num2words-0.5.10:\n",
            "      Successfully uninstalled num2words-0.5.10\n",
            "  Found existing installation: jellyfish 0.6.1\n",
            "    Uninstalling jellyfish-0.6.1:\n",
            "      Successfully uninstalled jellyfish-0.6.1\n",
            "  Found existing installation: us 2.0.2\n",
            "    Uninstalling us-2.0.2:\n",
            "      Successfully uninstalled us-2.0.2\n",
            "  Found existing installation: scikit-learn 0.23.1\n",
            "    Uninstalling scikit-learn-0.23.1:\n",
            "      Successfully uninstalled scikit-learn-0.23.1\n",
            "  Found existing installation: idna 2.10\n",
            "    Uninstalling idna-2.10:\n",
            "      Successfully uninstalled idna-2.10\n",
            "  Found existing installation: requests 2.24.0\n",
            "    Uninstalling requests-2.24.0:\n",
            "      Successfully uninstalled requests-2.24.0\n",
            "  Found existing installation: Unidecode 1.1.1\n",
            "    Uninstalling Unidecode-1.1.1:\n",
            "      Successfully uninstalled Unidecode-1.1.1\n",
            "  Found existing installation: lexnlp 1.7.0\n",
            "    Uninstalling lexnlp-1.7.0:\n",
            "      Successfully uninstalled lexnlp-1.7.0\n",
            "Successfully installed Unidecode-0.4.21 dateparser-0.7.0 gensim-3.4.0 idna-2.8 jellyfish-0.5.6 lexnlp-0.2.7 nltk-3.2.4 num2words-0.5.5 pandas-0.23.4 pycountry-18.5.26 regex-2017.9.23 reporters-db-1.0.12.1 requests-2.22.0 scikit-learn-0.19.1 scipy-1.0.0 typing-3.6.2 us-1.0.0\n"
          ],
          "name": "stdout"
        },
        {
          "output_type": "display_data",
          "data": {
            "application/vnd.colab-display-data+json": {
              "pip_warning": {
                "packages": [
                  "dateparser",
                  "dateparser_data",
                  "idna",
                  "lexnlp",
                  "nltk",
                  "num2words",
                  "pandas",
                  "regex",
                  "reporters_db",
                  "requests",
                  "scipy",
                  "sklearn",
                  "typing"
                ]
              }
            }
          },
          "metadata": {
            "tags": []
          }
        }
      ]
    },
    {
      "cell_type": "code",
      "metadata": {
        "id": "T1LjVH5nhMhp"
      },
      "source": [
        "import pandas as pd\n",
        "import urllib\n",
        "array_text = []\n",
        "input_file = urllib.request.urlopen(\"https://raw.githubusercontent.com/unt-iialab/info5731_spring2021/main/assignment/01-05-1%20%20Adams%20v%20Tanner.txt\")\n",
        "for i in input_file:\n",
        "  data = i.decode(\"utf-8\")\n",
        "  clean_data = data.replace('\\r\\n', ' ')\n",
        "  if clean_data:\n",
        "    array_text.append(clean_data)"
      ],
      "execution_count": null,
      "outputs": []
    },
    {
      "cell_type": "code",
      "metadata": {
        "id": "n-y7IZfBE1dN",
        "colab": {
          "base_uri": "https://localhost:8080/",
          "height": 54
        },
        "outputId": "aa669f31-7eb5-4c76-df32-a5287938d296"
      },
      "source": [
        "def converttostring(input, concat):\n",
        "   final_string = space.join(input)\n",
        "   return final_string\n",
        "space = \"\"\n",
        "input_text = converttostring(array_text, space)\n",
        "print(input_text)"
      ],
      "execution_count": null,
      "outputs": [
        {
          "output_type": "stream",
          "text": [
            " 5 Ala. 740 Supreme Court of Alabama. ADAMS v. TANNER AND HORTON. June Term, 1843. Synopsis WRIT of Error to the Circuit Court of Sumter.     West Headnotes (2)   [1] Chattel Mortgages Crops A growing crop has such an existence as to be the subject-matter of a mortgage or other contract which passes an interest to vest in possession, either immediately or at a future time. 4 Cases that cite this headnote  [2] Creditors’ Remedies Lien and Priority Under St.1821, prohibiting a levy on a crop until it has been gathered, no lien attaches in favor of a fi. fa. on a growing crop, nor does such lien attach until after the crop has been gathered. 5 Cases that cite this headnote  **1 This was a trial of the right of property under the statute. In November, 1840, an execution issued from the circuit court of Sumter, at the suit of the plaintiff in error, requiring the sheriff of that county, to make of the goods, &c., of Allen Harrison and others, the sum of thirty-seven hundred and seventy-seven 80-100 dollars, besides costs. This execution was levied on thirty bales of cotton, as the property of Allen Harrison, which was claimed, and a bond given to try the right. An issue was made up to try the question of the liability of the cotton to the plaintiff’s execution, and submitted to a jury. On the trial, a bill of exceptions was sealed at the instance of the plaintiff. The plaintiff proved that he recovered his judgment in October, 1839; that an execution *741 was issued thereon on the 7th Nov. thereafter, and that alias and pluries fieri facias’, issued regularly up to the time levy was made; that the cotton levied on was growed on the plantation of Harrison, and cultivated by the hands in his service. It was proved by the claimants, by the production of a written contract, that Harrison, on the twenty-second of May, 1840, in consideration that the claimants were involved, as indorsers for Burton & Harrison of Sumter county, and were then exposed to an execution, amounting to upwards of fourteen thousand dollars, bargained and sold to the claimants all his growing crop of cotton &c., consisting of one hundred and twenty acres, &c. Allen Harrison promised and obliged himself to give up his crop to the use of the claimants at any time to save them from suffering as his indorsers; if the crop matured and was gathered he undertook to deliver the cotton in Gainesville. The claimants came from Tennessee, (where they resided) about the first of September, 1840, bringing with them three or four white laborers, and took possession of the crop and slaves, and with the latter, and white laborers, gathered the cotton, prepared it for market, and when levied on, it was in a ware-house in Gainesville. The plaintiff then proved by Harrison, that the claimants took possession of the crop, while he was absent, and disposed of it without his consent. It was admitted, that the contract was made in good faith. The court charged the jury, that the plaintiff had no lien by virtue of his judgment, and execution on the growing crop; that Harrison had a right to convey it, without being in any manner restrained by them; that the writing adduced, was a sale of the crop, but if it was not, and the lien of the fieri facias would have attached upon it, when gathered, yet if the claimants obtained possession on the first of September, and controlled the gathering of the crop, then no lien attached, and it was not subject to the levy. Attorneys and Law Firms R. H. SMITH, for the plaintiff, in error, made the following points.--1. The crop of Harrison, must, in May, 1840, have been in an immature state, and it is insisted, was not the subject of a sale. 2. By the common law, a growing crop could be levied on and sold, [1 Salk. Rep. 361; 1 Bos. & P. Rep. 307; 6 East’s Rep. 604, note 1; 2 Johns. Rep. 418, 422; 7 Mass. Rep. 34,] and our statue, [[[Aik. Dig. § 41, p. 167,] which forbids the levy of an *742 execution on a growing crop, is to receive a strict construction. It merely inhibits the levy, but the lien attaches, and a levy and sale may be made after the crop matures, and is gathered. 3. The contract does not purport to convey the growing crop, but is a mere executory agreement, requiring some act to be done by Harrison, in order to invest the claimants with the right of property. [Chit. on Con. 112, 207; 3 Johns. Rep. 338, 424; 5 Wend. Rep. 26; 13 Johns. Rep. 235; 8 Dowl. Rep, 693;] and until this act was done, the crop, no matter by who gathered, because liable to be seized for Harrison’s debts. A court of chancery would not compel a specific performance of the contract at the claimant’s instance. 4. The charge of the court is also objectionable in deciding disputed facts. W. M. MURPHY, with whom was W. G. JONES, for the defendant--cited the act of 1821, [Aik. Dig. 167,] which declares it to be lawful to levy an execution on a planted crop, until it is gathered, and contended that no lien attached in favor of the plaintiff. This being the case, the defendant in execution was not restrained from making the contract which he did with the claimants. **2 The lien of an execution is destroyed by an injunction, because it takes away the right to levy it. In short, whenever the right to levy an execution is but temporarily suspended, or withdrawn, the lien is during that time lost. [[[[Whipple v. Foot, 2 Johns. Rep. 216; 3 Wash. C. C. Rep. 66; 4 How. Rep. 130.] It is admitted that the contract between the defendant in execution, and the claimants, was in good faith, if so, the severance and removal of the cotton gave the latter a good title against all creditors of the former. Opinion  COLLIER, C. J.  There can be no doubt that a growing crop has such an existence as to be the subject matter of a sale, mortgage, or other contract which possess an interest to vest in possession, either immediately or at some future time. This proposition has frequently been assumed as unquestionable; the point of inquiry generally being, whether under a statute of frauds, such as the 29 Chas. 2, it is a mere chattel, and transferrable by parol without writing. [Chitty on Con. 241-2, 332; Whipple v. Foot, 2 Johns. Rep. 422; Stewart v. Doughty, 9 Johns. Rep. 112; *743 Austin v. Sawyer, 9 Cow. Rep. 39. See also Ravesies v. Lee & Alston, at last term.] The contract set out in the bill of exceptions, we are inclined to think evidences rather a mortgage than an absolute sale. It recites that the claimants are involved as indorsers of a mercantile firm, of which the defendant was a partner; that an execution for upwards of fourteen thousand dollars against their estate, is in the sheriff’s hands, and that a conveyance is made of the crop of cotton, corn and oats, which the grantor agrees to give up at any time to the use of the claimants, so as to prevent injury to them as indorsers. The defendant in execution might at any time have divested the interest which the contract vested in the claimants, by discharging their liability as his indorsers, or a judgment creditor might have satisfied the lien, and when the crop was gathered, have levied on, and sold it under a fieri facias. We will then consider the writing under which the claimants assert a right, as a mortgage with a power to take possession any time during the year, unless they should be relieved from their engagements as indorsers. It is not pretended that their liability has been satisfied, and it is admitted that the parties have acted with good faith, so that it is a dry question of law, whether the right of the plaintiff, or the claimants shall prevail. Assuming for the present that the execution of the plaintiffs did not operate a lien upon the planted crop previous to the contract of May, 1840, we will inquire whether the defendant in execution had such an interest as could be levied on and sold. The claimants had previous to the levy of the execution taken possession of the crop, prepared the cotton for market, and removed it to a ware-house. This possession, it is insisted, was a trespass, because it was acquired in the absence of the defendant in execution, and without his consent then given. Conceding the truth of the facts stated in the bill of exceptions, and we think it will not follow, that the possession of the claimants is a nullity, and that the case must be considered as if they had never interfered with the crop. The contract contains an express undertaking to give up the crop at any time the claimants might require it for their indemnity, and if they took possession of it in the absence of the grantor, (though without his consent,) if he subsequently acquiesced in it, the inference would be, if necessary, that their acts were approved by him. Taking this to be clear *744 law, and it will be seen, that the defendant in execution at the time of the levy had nothing more than a mere equitable right to redeem the cotton by paying the debts indorsed by the claimants. He had no possession coupled with this equity, but only a naked equity, which it has been held cannot be reached by an ordinary execution. [Perkins and Elliott v. Mayfield, 5 Porter’s Rep. 182.] **3 This brings us back to the question, whether the execution of the plaintiff was a lien on the growing crop, so as to defeat the mortgage to the claimants. It has been frequently mooted whether, at common law, corn, &c., before it is gathered, can be seized under a fieri facias. Mr. Dane, in remarking upon this point, says, “The American editor of Bacon’s Abridgment, says, ‘Wheat growing in the ground is a chattel, and subject to be taken in execution; and the sheriff may suffer it to grow till harvest, and then cut and sell it; or may perhaps sell it growing, and the purchaser will then be entitled to enter, for the purpose of cutting and carrying it away.” [He cites Whipple v. Foot, ut supra, also Poole’s case, Salk. 368; 1 Bos. & P. 397; 6 East, 604, n.] But Whipple v. Foot seems to be the only case that supports his position, that unripe wheat or corn may be taken in execution; and the same editor states that nothing can be taken in execution which cannot be sold. This position, says the learned commentator, is no doubt law. But it is unnecessary to consider how this matter stands at common law. The first section of the act of 1821, “To prevent sheriffs and other officers from levying executions in certain cases, enacts, that “It shall not be lawful for any sheriff or other officer, to levy a writ of fieri facias or other execution on the planted crop of a debtor, or person against whom an execution may issue, until the crop is gathered.” [Aik. Dig. 167.] Now here is an express inhibition to levy an execution on a crop while it remains on, or in the ground, and until it is severed from the soil to which it owes its growth. In respect to property thus situated, will the lien of an execution attach eo instanti upon its being placed in the hands of an officer? If so, the act cited, will only have the effect of keeping the right to levy it in abeyance until the crop is gathered. The lien of an execution does, not only operate so as to prevent the debtor from disposing of the property on which it attaches, but gives to the creditor the right to have it sold to satisfy his *745 judgment. The lien and the right to levy are intimately connected, and if the latter be taken away, or suspended, the effect, at common law, is the destruction of the former. This principle is fully established by Mansony and Hurtell v. The President, &c. of the Bank of the United States, and its assignees, and the citations contained in the opinion of the court in that case, as also in my opinion in Wood v. Gary, et al., both decided at the last term. That it was competent for the legislature to have made it unlawful to levy an execution on particular property, until its condition was changed, and still to give it a continuing lien, cannot be doubted; but there is nothing in the act in question to indicate that such is its intention. If the object was merely to suspend the sale, until the crop was gathered, it would have been very easy to have said so in explicit terms, but declaring as the statute does, in totidem verbis, that the execution shall not be levied, the legislature must be supposed to have meant what they have expressed. The act was induced by the doubts which existed as to what was the common law, and was intended to remove those doubts by declaring what should be the law in future. It does not create a lien or authorize a levy in a case in which the law, as it then existed, was silent. The idea that the lien attached upon the planted crop as soon as the execution was delivered to the sheriff, though the right to levy it was postponed until a severance took place, is attempted to be deduced from the last words of the section cited, viz: “until the crop is gathered.” These words cannot, upon any just principles of construction be regarded so potent as to give to an execution a retrospective effect. They do not refer to the lien, if they did they would postpone it until the crop was gathered; but it is the levy they relate to and postpone until that event takes place. **4 The right to levy an execution on a planted crop, then, being expressly taken away by the statute, the lien which is connected with and consequent upon that right, never attaches until severance. This being the case, the right of the defendant in execution to make the contract which he did, is unquestionable, and the title of the claimants, coupled as it was with the possession, was paramount to any lien which the execution could exert. The circuit judge may have mistaken the law in supposing that the contract was a sale, but if he did, an error in that respect was very immaterial, for whether a sale or mortgage, as we have *746 seen, under the facts of the case, the defendant in execution has no interest that could be seised and sold under execution. There is no assumption of any material fact in the charge; but the possession of the claimant, the time when acquired, the gathering of the crop, &c., are all referred to the determination of the jury; who are instructed, if they find them according to the evidence adduced, that no lien ever attached in favor of the plaintiff. The bona fides of the contract was conceded, so that no charge was necessary on that point, and it could not with propriety enter into the inquiry of the jury. It results from what has been said, that the judgment of the circuit court is affirmed.  DISSENTING OPINION.  ORMOND, J. **4 The statute which presents the question before the court is, that “it shall not be lawful for any sheriff or other officer to levy a writ of fieei facias or other execution, on the planted crop of a debtor, or person against whom an execution may issue, until the crop is gathered.” [Clay’s Dig. 210, § 46.] I shall not enter upon the enquiry, whether, at common law, an execution could be levied upon a growing crop, though I apprehend, it would not be difficult to maintain the affirmative of the proposition. It is sufficient for my purpose, that the statute supposes such to have been the law, as it doubtless was the practice. This act must be considered in connection with the other acts upon the same subject. The policy of the State, as indicated by these statutes, is undeniably that all the property of a debtor, real and personal, to which he has a legal title, shall be subject to sale by execution, and it appears to me that it would be difficult to assign a reason for the exemption of this species of property from the claims of judgment creditors, and for giving to the defendant in execution the right to dispose of it. It appears to me, with all deference, that the argument that because the sheriff was prohibited from levying on a ““planted crop,” that therefore the execution had lost its lien, and the debtor had the right to sell it, is a non sequitur. The mischief which the statute designed to remedy was, the sacrifice which would be necessarily made by the sale of an immature crop: the statute enables the debtor to retain it until it matures, and by severing it from the soil to put it *747 in a condition to bring its value--the lien in the mean time continuing in the plaintiff in execution. **5 If further confirmation of the correctness of this view were necessary, it will be found, I think, in the language employed by the legislature. The sheriff is forbidden to levy on a “planted crop” until the crop is gathered. Now, if the view taken by the majority of the court, is correct, the right secured to the plaintiff in execution, of levying on the crop after it is gathered, may be frustrated, as it was in this case, by a sale by the defendant in execution, whilst the crop is in an immature state. The construction which has been put upon the statute, involves the singular anomaly, that the legislature, for the protection of the debtor, has forbidden the plaintiff in execution to sell the property of his debtor, because it is not in a condition to bring its value, and yet permits the debtor, voluntarily, by a sale, to submit to the same sacrifice, for his own benefit. It is, in effect, a gift to the defendant in execution, of the growing crop, provided he does not gather it himself, but disposes of it in its then condition. This, I feel a thorough conviction, was not the intention of the legislature; but that it was to secure him from loss, by prohibiting a levy and sale of the crop, until it was gathered, when the temporary suspension of the right to sell, ceased. All Citations 5 Ala. 740, 1843 WL 284 End of Document © 2019 Thomson Reuters. No claim to original U.S. Government Works. Citing References (9) Treatment Title Date Type Depth Headnote(s) Cited by 1.  Booker v. Jones’s Adm’x 55 Ala. 266, 271 , Ala. Trover for Conversion of Cotton, with Counts in Case. APPEAL from the Circuit Court of Hale. Tried before the Hon. M. J. SAFFOLD. Dec Term 1876 Case — Cited by 2.  Lehman, Durr & Co. v. Marshall 47 Ala. 362, 376 , Ala. [TROVER FOR CONVERSION OF COTTON.] APPEAL from the City Court of Montgomery. Tried before Hon. JOHN D. CUNNINGHAM. Jan Term 1872 Case — Cited by 3.  Bibb v. Janney 45 Ala. 329, 334 , Ala. [GARNISHMENT; WAGES; WAIVER OF EXEMPTION.] APPEAL from City Court of Montgomery. Tried before Hon. JOHN D. CUNNINGHAM. Jan Term 1871 Case — Cited by 4.  McKenzie v. Lampley 31 Ala. 526, 527 , Ala. [TRIAL OF RIGHT OF PROPERTY IN COTTON.] APPEAL from the Circuit Court of Barbour. Tried before the Hon. S. D. HALE. Jan Term 1858 Case — Cited by 5.  Evans v. Lamar 21 Ala. 333, 335+ , Ala. ERROR to the Circuit Court of Autauga. Tried before the Hon. A. B. MOORE. Jun Term 1852 Case — Cited by  6.  Dewey v. Bowman 8 Cal. 145, 147 , Cal. The judgment of the Court below, against Jacob S. Cohen, should be reversed, for the following reasons: Because the finding of the Court was, so far as Cohen was concerned,... Jul Term 1857 Case — Mentioned by 7.  Rees v. Coats 65 Ala. 256, 258 , Ala. Trover for Conversion of Three Bales of Cotton. APPEAL from the Circuit Court of Etowah. Tried before the Hon. WM. L. WHITLOCK. Nov Term 1880 Case — Mentioned by 8.  Edwards v. Thompson 4 S.W. 913, 914 , Tenn. Appeal from circuit court, Weakley county. May 1887 Case — — 9.  Growing crops as subject to levy and seizure under attachment or execution 103 A.L.R. 464 Generally, at common law, growing crops raised by annual planting, while still attached to the soil, are regarded as personal chattels, subject to levy and seizure under attachment... 1936 ALR — — Table of Authorities (3) Treatment Referenced Title Type Depth Quoted Page Number Mentioned 1.  Austin v. Sawyer 9 Cow. 39, N.Y.Sup., 1828 Parol evidence is not admissible to contradict, or substantially vary, a written contract. And where A. quit-claimed land to W., on which a crop of wheat was growing, reserving the... Case 2 Cited  2.  Perkins v. Mayfield 5 Port. 182, Ala., 1837 On writ of error to the Circuit Court of Tuskaloosa. Case 2+ Mentioned 3.  Stewart v. Doughty 9 Johns. 108, N.Y.Sup., 1812 A. let to B. a farm for six years, and A. agreed “to render, yield and pay to A. the one half of all the wheat, rye, corn and other grain, raised on the farm in each year, in the... Case 2 Filings There are no Filings for this citation. Negative Treatment There are no Negative Treatment results for this citation. History There are no History results for this citation. \n"
          ],
          "name": "stdout"
        }
      ]
    },
    {
      "cell_type": "code",
      "metadata": {
        "id": "qc7NtJrLx5tS",
        "colab": {
          "base_uri": "https://localhost:8080/",
          "height": 54
        },
        "outputId": "671b243f-869a-4e4d-8383-180ab8f4eb6a"
      },
      "source": [
        "import re\n",
        "input_text = re.sub(r'[^\\w\\s]','',input_text)\n",
        "print(input_text)"
      ],
      "execution_count": null,
      "outputs": [
        {
          "output_type": "stream",
          "text": [
            " 5 Ala 740 Supreme Court of Alabama ADAMS v TANNER AND HORTON June Term 1843 Synopsis WRIT of Error to the Circuit Court of Sumter     West Headnotes 2   1 Chattel Mortgages Crops A growing crop has such an existence as to be the subjectmatter of a mortgage or other contract which passes an interest to vest in possession either immediately or at a future time 4 Cases that cite this headnote  2 Creditors Remedies Lien and Priority Under St1821 prohibiting a levy on a crop until it has been gathered no lien attaches in favor of a fi fa on a growing crop nor does such lien attach until after the crop has been gathered 5 Cases that cite this headnote  1 This was a trial of the right of property under the statute In November 1840 an execution issued from the circuit court of Sumter at the suit of the plaintiff in error requiring the sheriff of that county to make of the goods c of Allen Harrison and others the sum of thirtyseven hundred and seventyseven 80100 dollars besides costs This execution was levied on thirty bales of cotton as the property of Allen Harrison which was claimed and a bond given to try the right An issue was made up to try the question of the liability of the cotton to the plaintiffs execution and submitted to a jury On the trial a bill of exceptions was sealed at the instance of the plaintiff The plaintiff proved that he recovered his judgment in October 1839 that an execution 741 was issued thereon on the 7th Nov thereafter and that alias and pluries fieri facias issued regularly up to the time levy was made that the cotton levied on was growed on the plantation of Harrison and cultivated by the hands in his service It was proved by the claimants by the production of a written contract that Harrison on the twentysecond of May 1840 in consideration that the claimants were involved as indorsers for Burton  Harrison of Sumter county and were then exposed to an execution amounting to upwards of fourteen thousand dollars bargained and sold to the claimants all his growing crop of cotton c consisting of one hundred and twenty acres c Allen Harrison promised and obliged himself to give up his crop to the use of the claimants at any time to save them from suffering as his indorsers if the crop matured and was gathered he undertook to deliver the cotton in Gainesville The claimants came from Tennessee where they resided about the first of September 1840 bringing with them three or four white laborers and took possession of the crop and slaves and with the latter and white laborers gathered the cotton prepared it for market and when levied on it was in a warehouse in Gainesville The plaintiff then proved by Harrison that the claimants took possession of the crop while he was absent and disposed of it without his consent It was admitted that the contract was made in good faith The court charged the jury that the plaintiff had no lien by virtue of his judgment and execution on the growing crop that Harrison had a right to convey it without being in any manner restrained by them that the writing adduced was a sale of the crop but if it was not and the lien of the fieri facias would have attached upon it when gathered yet if the claimants obtained possession on the first of September and controlled the gathering of the crop then no lien attached and it was not subject to the levy Attorneys and Law Firms R H SMITH for the plaintiff in error made the following points1 The crop of Harrison must in May 1840 have been in an immature state and it is insisted was not the subject of a sale 2 By the common law a growing crop could be levied on and sold 1 Salk Rep 361 1 Bos  P Rep 307 6 Easts Rep 604 note 1 2 Johns Rep 418 422 7 Mass Rep 34 and our statue Aik Dig  41 p 167 which forbids the levy of an 742 execution on a growing crop is to receive a strict construction It merely inhibits the levy but the lien attaches and a levy and sale may be made after the crop matures and is gathered 3 The contract does not purport to convey the growing crop but is a mere executory agreement requiring some act to be done by Harrison in order to invest the claimants with the right of property Chit on Con 112 207 3 Johns Rep 338 424 5 Wend Rep 26 13 Johns Rep 235 8 Dowl Rep 693 and until this act was done the crop no matter by who gathered because liable to be seized for Harrisons debts A court of chancery would not compel a specific performance of the contract at the claimants instance 4 The charge of the court is also objectionable in deciding disputed facts W M MURPHY with whom was W G JONES for the defendantcited the act of 1821 Aik Dig 167 which declares it to be lawful to levy an execution on a planted crop until it is gathered and contended that no lien attached in favor of the plaintiff This being the case the defendant in execution was not restrained from making the contract which he did with the claimants 2 The lien of an execution is destroyed by an injunction because it takes away the right to levy it In short whenever the right to levy an execution is but temporarily suspended or withdrawn the lien is during that time lost Whipple v Foot 2 Johns Rep 216 3 Wash C C Rep 66 4 How Rep 130 It is admitted that the contract between the defendant in execution and the claimants was in good faith if so the severance and removal of the cotton gave the latter a good title against all creditors of the former Opinion  COLLIER C J  There can be no doubt that a growing crop has such an existence as to be the subject matter of a sale mortgage or other contract which possess an interest to vest in possession either immediately or at some future time This proposition has frequently been assumed as unquestionable the point of inquiry generally being whether under a statute of frauds such as the 29 Chas 2 it is a mere chattel and transferrable by parol without writing Chitty on Con 2412 332 Whipple v Foot 2 Johns Rep 422 Stewart v Doughty 9 Johns Rep 112 743 Austin v Sawyer 9 Cow Rep 39 See also Ravesies v Lee  Alston at last term The contract set out in the bill of exceptions we are inclined to think evidences rather a mortgage than an absolute sale It recites that the claimants are involved as indorsers of a mercantile firm of which the defendant was a partner that an execution for upwards of fourteen thousand dollars against their estate is in the sheriffs hands and that a conveyance is made of the crop of cotton corn and oats which the grantor agrees to give up at any time to the use of the claimants so as to prevent injury to them as indorsers The defendant in execution might at any time have divested the interest which the contract vested in the claimants by discharging their liability as his indorsers or a judgment creditor might have satisfied the lien and when the crop was gathered have levied on and sold it under a fieri facias We will then consider the writing under which the claimants assert a right as a mortgage with a power to take possession any time during the year unless they should be relieved from their engagements as indorsers It is not pretended that their liability has been satisfied and it is admitted that the parties have acted with good faith so that it is a dry question of law whether the right of the plaintiff or the claimants shall prevail Assuming for the present that the execution of the plaintiffs did not operate a lien upon the planted crop previous to the contract of May 1840 we will inquire whether the defendant in execution had such an interest as could be levied on and sold The claimants had previous to the levy of the execution taken possession of the crop prepared the cotton for market and removed it to a warehouse This possession it is insisted was a trespass because it was acquired in the absence of the defendant in execution and without his consent then given Conceding the truth of the facts stated in the bill of exceptions and we think it will not follow that the possession of the claimants is a nullity and that the case must be considered as if they had never interfered with the crop The contract contains an express undertaking to give up the crop at any time the claimants might require it for their indemnity and if they took possession of it in the absence of the grantor though without his consent if he subsequently acquiesced in it the inference would be if necessary that their acts were approved by him Taking this to be clear 744 law and it will be seen that the defendant in execution at the time of the levy had nothing more than a mere equitable right to redeem the cotton by paying the debts indorsed by the claimants He had no possession coupled with this equity but only a naked equity which it has been held cannot be reached by an ordinary execution Perkins and Elliott v Mayfield 5 Porters Rep 182 3 This brings us back to the question whether the execution of the plaintiff was a lien on the growing crop so as to defeat the mortgage to the claimants It has been frequently mooted whether at common law corn c before it is gathered can be seized under a fieri facias Mr Dane in remarking upon this point says The American editor of Bacons Abridgment says Wheat growing in the ground is a chattel and subject to be taken in execution and the sheriff may suffer it to grow till harvest and then cut and sell it or may perhaps sell it growing and the purchaser will then be entitled to enter for the purpose of cutting and carrying it away He cites Whipple v Foot ut supra also Pooles case Salk 368 1 Bos  P 397 6 East 604 n But Whipple v Foot seems to be the only case that supports his position that unripe wheat or corn may be taken in execution and the same editor states that nothing can be taken in execution which cannot be sold This position says the learned commentator is no doubt law But it is unnecessary to consider how this matter stands at common law The first section of the act of 1821 To prevent sheriffs and other officers from levying executions in certain cases enacts that It shall not be lawful for any sheriff or other officer to levy a writ of fieri facias or other execution on the planted crop of a debtor or person against whom an execution may issue until the crop is gathered Aik Dig 167 Now here is an express inhibition to levy an execution on a crop while it remains on or in the ground and until it is severed from the soil to which it owes its growth In respect to property thus situated will the lien of an execution attach eo instanti upon its being placed in the hands of an officer If so the act cited will only have the effect of keeping the right to levy it in abeyance until the crop is gathered The lien of an execution does not only operate so as to prevent the debtor from disposing of the property on which it attaches but gives to the creditor the right to have it sold to satisfy his 745 judgment The lien and the right to levy are intimately connected and if the latter be taken away or suspended the effect at common law is the destruction of the former This principle is fully established by Mansony and Hurtell v The President c of the Bank of the United States and its assignees and the citations contained in the opinion of the court in that case as also in my opinion in Wood v Gary et al both decided at the last term That it was competent for the legislature to have made it unlawful to levy an execution on particular property until its condition was changed and still to give it a continuing lien cannot be doubted but there is nothing in the act in question to indicate that such is its intention If the object was merely to suspend the sale until the crop was gathered it would have been very easy to have said so in explicit terms but declaring as the statute does in totidem verbis that the execution shall not be levied the legislature must be supposed to have meant what they have expressed The act was induced by the doubts which existed as to what was the common law and was intended to remove those doubts by declaring what should be the law in future It does not create a lien or authorize a levy in a case in which the law as it then existed was silent The idea that the lien attached upon the planted crop as soon as the execution was delivered to the sheriff though the right to levy it was postponed until a severance took place is attempted to be deduced from the last words of the section cited viz until the crop is gathered These words cannot upon any just principles of construction be regarded so potent as to give to an execution a retrospective effect They do not refer to the lien if they did they would postpone it until the crop was gathered but it is the levy they relate to and postpone until that event takes place 4 The right to levy an execution on a planted crop then being expressly taken away by the statute the lien which is connected with and consequent upon that right never attaches until severance This being the case the right of the defendant in execution to make the contract which he did is unquestionable and the title of the claimants coupled as it was with the possession was paramount to any lien which the execution could exert The circuit judge may have mistaken the law in supposing that the contract was a sale but if he did an error in that respect was very immaterial for whether a sale or mortgage as we have 746 seen under the facts of the case the defendant in execution has no interest that could be seised and sold under execution There is no assumption of any material fact in the charge but the possession of the claimant the time when acquired the gathering of the crop c are all referred to the determination of the jury who are instructed if they find them according to the evidence adduced that no lien ever attached in favor of the plaintiff The bona fides of the contract was conceded so that no charge was necessary on that point and it could not with propriety enter into the inquiry of the jury It results from what has been said that the judgment of the circuit court is affirmed  DISSENTING OPINION  ORMOND J 4 The statute which presents the question before the court is that it shall not be lawful for any sheriff or other officer to levy a writ of fieei facias or other execution on the planted crop of a debtor or person against whom an execution may issue until the crop is gathered Clays Dig 210  46 I shall not enter upon the enquiry whether at common law an execution could be levied upon a growing crop though I apprehend it would not be difficult to maintain the affirmative of the proposition It is sufficient for my purpose that the statute supposes such to have been the law as it doubtless was the practice This act must be considered in connection with the other acts upon the same subject The policy of the State as indicated by these statutes is undeniably that all the property of a debtor real and personal to which he has a legal title shall be subject to sale by execution and it appears to me that it would be difficult to assign a reason for the exemption of this species of property from the claims of judgment creditors and for giving to the defendant in execution the right to dispose of it It appears to me with all deference that the argument that because the sheriff was prohibited from levying on a planted crop that therefore the execution had lost its lien and the debtor had the right to sell it is a non sequitur The mischief which the statute designed to remedy was the sacrifice which would be necessarily made by the sale of an immature crop the statute enables the debtor to retain it until it matures and by severing it from the soil to put it 747 in a condition to bring its valuethe lien in the mean time continuing in the plaintiff in execution 5 If further confirmation of the correctness of this view were necessary it will be found I think in the language employed by the legislature The sheriff is forbidden to levy on a planted crop until the crop is gathered Now if the view taken by the majority of the court is correct the right secured to the plaintiff in execution of levying on the crop after it is gathered may be frustrated as it was in this case by a sale by the defendant in execution whilst the crop is in an immature state The construction which has been put upon the statute involves the singular anomaly that the legislature for the protection of the debtor has forbidden the plaintiff in execution to sell the property of his debtor because it is not in a condition to bring its value and yet permits the debtor voluntarily by a sale to submit to the same sacrifice for his own benefit It is in effect a gift to the defendant in execution of the growing crop provided he does not gather it himself but disposes of it in its then condition This I feel a thorough conviction was not the intention of the legislature but that it was to secure him from loss by prohibiting a levy and sale of the crop until it was gathered when the temporary suspension of the right to sell ceased All Citations 5 Ala 740 1843 WL 284 End of Document  2019 Thomson Reuters No claim to original US Government Works Citing References 9 Treatment Title Date Type Depth Headnotes Cited by 1  Booker v Joness Admx 55 Ala 266 271  Ala Trover for Conversion of Cotton with Counts in Case APPEAL from the Circuit Court of Hale Tried before the Hon M J SAFFOLD Dec Term 1876 Case  Cited by 2  Lehman Durr  Co v Marshall 47 Ala 362 376  Ala TROVER FOR CONVERSION OF COTTON APPEAL from the City Court of Montgomery Tried before Hon JOHN D CUNNINGHAM Jan Term 1872 Case  Cited by 3  Bibb v Janney 45 Ala 329 334  Ala GARNISHMENT WAGES WAIVER OF EXEMPTION APPEAL from City Court of Montgomery Tried before Hon JOHN D CUNNINGHAM Jan Term 1871 Case  Cited by 4  McKenzie v Lampley 31 Ala 526 527  Ala TRIAL OF RIGHT OF PROPERTY IN COTTON APPEAL from the Circuit Court of Barbour Tried before the Hon S D HALE Jan Term 1858 Case  Cited by 5  Evans v Lamar 21 Ala 333 335  Ala ERROR to the Circuit Court of Autauga Tried before the Hon A B MOORE Jun Term 1852 Case  Cited by  6  Dewey v Bowman 8 Cal 145 147  Cal The judgment of the Court below against Jacob S Cohen should be reversed for the following reasons Because the finding of the Court was so far as Cohen was concerned Jul Term 1857 Case  Mentioned by 7  Rees v Coats 65 Ala 256 258  Ala Trover for Conversion of Three Bales of Cotton APPEAL from the Circuit Court of Etowah Tried before the Hon WM L WHITLOCK Nov Term 1880 Case  Mentioned by 8  Edwards v Thompson 4 SW 913 914  Tenn Appeal from circuit court Weakley county May 1887 Case   9  Growing crops as subject to levy and seizure under attachment or execution 103 ALR 464 Generally at common law growing crops raised by annual planting while still attached to the soil are regarded as personal chattels subject to levy and seizure under attachment 1936 ALR   Table of Authorities 3 Treatment Referenced Title Type Depth Quoted Page Number Mentioned 1  Austin v Sawyer 9 Cow 39 NYSup 1828 Parol evidence is not admissible to contradict or substantially vary a written contract And where A quitclaimed land to W on which a crop of wheat was growing reserving the Case 2 Cited  2  Perkins v Mayfield 5 Port 182 Ala 1837 On writ of error to the Circuit Court of Tuskaloosa Case 2 Mentioned 3  Stewart v Doughty 9 Johns 108 NYSup 1812 A let to B a farm for six years and A agreed to render yield and pay to A the one half of all the wheat rye corn and other grain raised on the farm in each year in the Case 2 Filings There are no Filings for this citation Negative Treatment There are no Negative Treatment results for this citation History There are no History results for this citation \n"
          ],
          "name": "stdout"
        }
      ]
    },
    {
      "cell_type": "code",
      "metadata": {
        "id": "xAjGmrj5hNwo",
        "colab": {
          "base_uri": "https://localhost:8080/",
          "height": 34
        },
        "outputId": "dc644d8b-e1b2-4b9a-e9f4-2a3bbb26f5e0"
      },
      "source": [
        "import lexnlp.extract.en.acts\n",
        "print(lexnlp.extract.en.acts.get_act_list(input_text))"
      ],
      "execution_count": null,
      "outputs": [
        {
          "output_type": "stream",
          "text": [
            "[]\n"
          ],
          "name": "stdout"
        }
      ]
    },
    {
      "cell_type": "code",
      "metadata": {
        "id": "11oVm52sK0SH",
        "colab": {
          "base_uri": "https://localhost:8080/",
          "height": 1000
        },
        "outputId": "cb599995-f087-42ad-b768-e2b3a52580cd"
      },
      "source": [
        "import nltk\n",
        "nltk.download()\n",
        "nltk.download('punkt')\n",
        "nltk.download('averaged_perceptron_tagger')\n",
        "nltk.download('wordnet')"
      ],
      "execution_count": null,
      "outputs": [
        {
          "output_type": "stream",
          "text": [
            "NLTK Downloader\n",
            "---------------------------------------------------------------------------\n",
            "    d) Download   l) List    u) Update   c) Config   h) Help   q) Quit\n",
            "---------------------------------------------------------------------------\n",
            "Downloader> d\n",
            "\n",
            "Download which package (l=list; x=cancel)?\n",
            "  Identifier> all\n",
            "    Downloading collection 'all'\n",
            "       | \n",
            "       | Downloading package abc to /root/nltk_data...\n",
            "       |   Package abc is already up-to-date!\n",
            "       | Downloading package alpino to /root/nltk_data...\n",
            "       |   Package alpino is already up-to-date!\n",
            "       | Downloading package biocreative_ppi to /root/nltk_data...\n",
            "       |   Package biocreative_ppi is already up-to-date!\n",
            "       | Downloading package brown to /root/nltk_data...\n",
            "       |   Package brown is already up-to-date!\n",
            "       | Downloading package brown_tei to /root/nltk_data...\n",
            "       |   Package brown_tei is already up-to-date!\n",
            "       | Downloading package cess_cat to /root/nltk_data...\n",
            "       |   Package cess_cat is already up-to-date!\n",
            "       | Downloading package cess_esp to /root/nltk_data...\n",
            "       |   Package cess_esp is already up-to-date!\n",
            "       | Downloading package chat80 to /root/nltk_data...\n",
            "       |   Package chat80 is already up-to-date!\n",
            "       | Downloading package city_database to /root/nltk_data...\n",
            "       |   Package city_database is already up-to-date!\n",
            "       | Downloading package cmudict to /root/nltk_data...\n",
            "       |   Package cmudict is already up-to-date!\n",
            "       | Downloading package comparative_sentences to\n",
            "       |     /root/nltk_data...\n",
            "       |   Package comparative_sentences is already up-to-date!\n",
            "       | Downloading package comtrans to /root/nltk_data...\n",
            "       |   Package comtrans is already up-to-date!\n",
            "       | Downloading package conll2000 to /root/nltk_data...\n",
            "       |   Package conll2000 is already up-to-date!\n",
            "       | Downloading package conll2002 to /root/nltk_data...\n",
            "       |   Package conll2002 is already up-to-date!\n",
            "       | Downloading package conll2007 to /root/nltk_data...\n",
            "       |   Package conll2007 is already up-to-date!\n",
            "       | Downloading package crubadan to /root/nltk_data...\n",
            "       |   Package crubadan is already up-to-date!\n",
            "       | Downloading package dependency_treebank to /root/nltk_data...\n",
            "       |   Package dependency_treebank is already up-to-date!\n",
            "       | Downloading package dolch to /root/nltk_data...\n",
            "       |   Package dolch is already up-to-date!\n",
            "       | Downloading package europarl_raw to /root/nltk_data...\n",
            "       |   Package europarl_raw is already up-to-date!\n",
            "       | Downloading package floresta to /root/nltk_data...\n",
            "       |   Package floresta is already up-to-date!\n",
            "       | Downloading package framenet_v15 to /root/nltk_data...\n",
            "       |   Package framenet_v15 is already up-to-date!\n",
            "       | Downloading package framenet_v17 to /root/nltk_data...\n",
            "       |   Package framenet_v17 is already up-to-date!\n",
            "       | Downloading package gazetteers to /root/nltk_data...\n",
            "       |   Package gazetteers is already up-to-date!\n",
            "       | Downloading package genesis to /root/nltk_data...\n",
            "       |   Package genesis is already up-to-date!\n",
            "       | Downloading package gutenberg to /root/nltk_data...\n",
            "       |   Package gutenberg is already up-to-date!\n",
            "       | Downloading package ieer to /root/nltk_data...\n",
            "       |   Package ieer is already up-to-date!\n",
            "       | Downloading package inaugural to /root/nltk_data...\n",
            "       |   Package inaugural is already up-to-date!\n",
            "       | Downloading package indian to /root/nltk_data...\n",
            "       |   Package indian is already up-to-date!\n",
            "       | Downloading package jeita to /root/nltk_data...\n",
            "       |   Package jeita is already up-to-date!\n",
            "       | Downloading package kimmo to /root/nltk_data...\n",
            "       |   Package kimmo is already up-to-date!\n",
            "       | Downloading package knbc to /root/nltk_data...\n",
            "       |   Package knbc is already up-to-date!\n",
            "       | Downloading package lin_thesaurus to /root/nltk_data...\n",
            "       |   Package lin_thesaurus is already up-to-date!\n",
            "       | Downloading package mac_morpho to /root/nltk_data...\n",
            "       |   Package mac_morpho is already up-to-date!\n",
            "       | Downloading package machado to /root/nltk_data...\n",
            "       |   Package machado is already up-to-date!\n",
            "       | Downloading package masc_tagged to /root/nltk_data...\n",
            "       |   Package masc_tagged is already up-to-date!\n",
            "       | Downloading package moses_sample to /root/nltk_data...\n",
            "       |   Package moses_sample is already up-to-date!\n",
            "       | Downloading package movie_reviews to /root/nltk_data...\n",
            "       |   Package movie_reviews is already up-to-date!\n",
            "       | Downloading package names to /root/nltk_data...\n",
            "       |   Package names is already up-to-date!\n",
            "       | Downloading package nombank.1.0 to /root/nltk_data...\n",
            "       |   Package nombank.1.0 is already up-to-date!\n",
            "       | Downloading package nps_chat to /root/nltk_data...\n",
            "       |   Package nps_chat is already up-to-date!\n",
            "       | Downloading package omw to /root/nltk_data...\n",
            "       |   Package omw is already up-to-date!\n",
            "       | Downloading package opinion_lexicon to /root/nltk_data...\n",
            "       |   Package opinion_lexicon is already up-to-date!\n",
            "       | Downloading package paradigms to /root/nltk_data...\n",
            "       |   Package paradigms is already up-to-date!\n",
            "       | Downloading package pil to /root/nltk_data...\n",
            "       |   Package pil is already up-to-date!\n",
            "       | Downloading package pl196x to /root/nltk_data...\n",
            "       |   Package pl196x is already up-to-date!\n",
            "       | Downloading package ppattach to /root/nltk_data...\n",
            "       |   Package ppattach is already up-to-date!\n",
            "       | Downloading package problem_reports to /root/nltk_data...\n",
            "       |   Package problem_reports is already up-to-date!\n",
            "       | Downloading package propbank to /root/nltk_data...\n",
            "       |   Package propbank is already up-to-date!\n",
            "       | Downloading package ptb to /root/nltk_data...\n",
            "       |   Package ptb is already up-to-date!\n",
            "       | Downloading package product_reviews_1 to /root/nltk_data...\n",
            "       |   Package product_reviews_1 is already up-to-date!\n",
            "       | Downloading package product_reviews_2 to /root/nltk_data...\n",
            "       |   Package product_reviews_2 is already up-to-date!\n",
            "       | Downloading package pros_cons to /root/nltk_data...\n",
            "       |   Package pros_cons is already up-to-date!\n",
            "       | Downloading package qc to /root/nltk_data...\n",
            "       |   Package qc is already up-to-date!\n",
            "       | Downloading package reuters to /root/nltk_data...\n",
            "       |   Package reuters is already up-to-date!\n",
            "       | Downloading package rte to /root/nltk_data...\n",
            "       |   Package rte is already up-to-date!\n",
            "       | Downloading package semcor to /root/nltk_data...\n",
            "       |   Package semcor is already up-to-date!\n",
            "       | Downloading package senseval to /root/nltk_data...\n",
            "       |   Package senseval is already up-to-date!\n",
            "       | Downloading package sentiwordnet to /root/nltk_data...\n",
            "       |   Package sentiwordnet is already up-to-date!\n",
            "       | Downloading package sentence_polarity to /root/nltk_data...\n",
            "       |   Package sentence_polarity is already up-to-date!\n",
            "       | Downloading package shakespeare to /root/nltk_data...\n",
            "       |   Package shakespeare is already up-to-date!\n",
            "       | Downloading package sinica_treebank to /root/nltk_data...\n",
            "       |   Package sinica_treebank is already up-to-date!\n",
            "       | Downloading package smultron to /root/nltk_data...\n",
            "       |   Package smultron is already up-to-date!\n",
            "       | Downloading package state_union to /root/nltk_data...\n",
            "       |   Package state_union is already up-to-date!\n",
            "       | Downloading package stopwords to /root/nltk_data...\n",
            "       |   Package stopwords is already up-to-date!\n",
            "       | Downloading package subjectivity to /root/nltk_data...\n",
            "       |   Package subjectivity is already up-to-date!\n",
            "       | Downloading package swadesh to /root/nltk_data...\n",
            "       |   Package swadesh is already up-to-date!\n",
            "       | Downloading package switchboard to /root/nltk_data...\n",
            "       |   Package switchboard is already up-to-date!\n",
            "       | Downloading package timit to /root/nltk_data...\n",
            "       |   Package timit is already up-to-date!\n",
            "       | Downloading package toolbox to /root/nltk_data...\n",
            "       |   Package toolbox is already up-to-date!\n",
            "       | Downloading package treebank to /root/nltk_data...\n",
            "       |   Package treebank is already up-to-date!\n",
            "       | Downloading package twitter_samples to /root/nltk_data...\n",
            "       |   Package twitter_samples is already up-to-date!\n",
            "       | Downloading package udhr to /root/nltk_data...\n",
            "       |   Package udhr is already up-to-date!\n",
            "       | Downloading package udhr2 to /root/nltk_data...\n",
            "       |   Package udhr2 is already up-to-date!\n",
            "       | Downloading package unicode_samples to /root/nltk_data...\n",
            "       |   Package unicode_samples is already up-to-date!\n",
            "       | Downloading package universal_treebanks_v20 to\n",
            "       |     /root/nltk_data...\n",
            "       |   Package universal_treebanks_v20 is already up-to-date!\n",
            "       | Downloading package verbnet to /root/nltk_data...\n",
            "       |   Package verbnet is already up-to-date!\n",
            "       | Downloading package verbnet3 to /root/nltk_data...\n",
            "       |   Package verbnet3 is already up-to-date!\n",
            "       | Downloading package webtext to /root/nltk_data...\n",
            "       |   Package webtext is already up-to-date!\n",
            "       | Downloading package wordnet to /root/nltk_data...\n",
            "       |   Package wordnet is already up-to-date!\n",
            "       | Downloading package wordnet_ic to /root/nltk_data...\n",
            "       |   Package wordnet_ic is already up-to-date!\n",
            "       | Downloading package words to /root/nltk_data...\n",
            "       |   Package words is already up-to-date!\n",
            "       | Downloading package ycoe to /root/nltk_data...\n",
            "       |   Package ycoe is already up-to-date!\n",
            "       | Downloading package rslp to /root/nltk_data...\n",
            "       |   Package rslp is already up-to-date!\n",
            "       | Downloading package maxent_treebank_pos_tagger to\n",
            "       |     /root/nltk_data...\n",
            "       |   Package maxent_treebank_pos_tagger is already up-to-date!\n",
            "       | Downloading package universal_tagset to /root/nltk_data...\n",
            "       |   Package universal_tagset is already up-to-date!\n",
            "       | Downloading package maxent_ne_chunker to /root/nltk_data...\n",
            "       |   Package maxent_ne_chunker is already up-to-date!\n",
            "       | Downloading package punkt to /root/nltk_data...\n",
            "       |   Package punkt is already up-to-date!\n",
            "       | Downloading package book_grammars to /root/nltk_data...\n",
            "       |   Package book_grammars is already up-to-date!\n",
            "       | Downloading package sample_grammars to /root/nltk_data...\n",
            "       |   Package sample_grammars is already up-to-date!\n",
            "       | Downloading package spanish_grammars to /root/nltk_data...\n",
            "       |   Package spanish_grammars is already up-to-date!\n",
            "       | Downloading package basque_grammars to /root/nltk_data...\n",
            "       |   Package basque_grammars is already up-to-date!\n",
            "       | Downloading package large_grammars to /root/nltk_data...\n",
            "       |   Package large_grammars is already up-to-date!\n",
            "       | Downloading package tagsets to /root/nltk_data...\n",
            "       |   Package tagsets is already up-to-date!\n",
            "       | Downloading package snowball_data to /root/nltk_data...\n",
            "       |   Package snowball_data is already up-to-date!\n",
            "       | Downloading package bllip_wsj_no_aux to /root/nltk_data...\n",
            "       |   Package bllip_wsj_no_aux is already up-to-date!\n",
            "       | Downloading package word2vec_sample to /root/nltk_data...\n",
            "       |   Package word2vec_sample is already up-to-date!\n",
            "       | Downloading package panlex_swadesh to /root/nltk_data...\n",
            "       |   Package panlex_swadesh is already up-to-date!\n",
            "       | Downloading package mte_teip5 to /root/nltk_data...\n",
            "       |   Package mte_teip5 is already up-to-date!\n",
            "       | Downloading package averaged_perceptron_tagger to\n",
            "       |     /root/nltk_data...\n",
            "       |   Package averaged_perceptron_tagger is already up-to-date!\n",
            "       | Downloading package averaged_perceptron_tagger_ru to\n",
            "       |     /root/nltk_data...\n",
            "       |   Package averaged_perceptron_tagger_ru is already up-to-\n",
            "       |       date!\n",
            "       | Downloading package perluniprops to /root/nltk_data...\n",
            "       |   Package perluniprops is already up-to-date!\n",
            "       | Downloading package nonbreaking_prefixes to\n",
            "       |     /root/nltk_data...\n",
            "       |   Package nonbreaking_prefixes is already up-to-date!\n",
            "       | Downloading package vader_lexicon to /root/nltk_data...\n",
            "       |   Package vader_lexicon is already up-to-date!\n",
            "       | Downloading package porter_test to /root/nltk_data...\n",
            "       |   Package porter_test is already up-to-date!\n",
            "       | Downloading package wmt15_eval to /root/nltk_data...\n",
            "       |   Package wmt15_eval is already up-to-date!\n",
            "       | Downloading package mwa_ppdb to /root/nltk_data...\n",
            "       |   Package mwa_ppdb is already up-to-date!\n",
            "       | \n",
            "     Done downloading collection all\n",
            "\n",
            "---------------------------------------------------------------------------\n",
            "    d) Download   l) List    u) Update   c) Config   h) Help   q) Quit\n",
            "---------------------------------------------------------------------------\n",
            "Downloader> q\n",
            "[nltk_data] Downloading package punkt to /root/nltk_data...\n",
            "[nltk_data]   Package punkt is already up-to-date!\n",
            "[nltk_data] Downloading package averaged_perceptron_tagger to\n",
            "[nltk_data]     /root/nltk_data...\n",
            "[nltk_data]   Package averaged_perceptron_tagger is already up-to-\n",
            "[nltk_data]       date!\n",
            "[nltk_data] Downloading package wordnet to /root/nltk_data...\n",
            "[nltk_data]   Package wordnet is already up-to-date!\n"
          ],
          "name": "stdout"
        },
        {
          "output_type": "execute_result",
          "data": {
            "text/plain": [
              "True"
            ]
          },
          "metadata": {
            "tags": []
          },
          "execution_count": 90
        }
      ]
    },
    {
      "cell_type": "code",
      "metadata": {
        "id": "KNuIU8abr75g",
        "colab": {
          "base_uri": "https://localhost:8080/",
          "height": 54
        },
        "outputId": "4eaee230-43fa-441f-a121-96278798af24"
      },
      "source": [
        "import lexnlp.extract.en.amounts\n",
        "print(list(lexnlp.extract.en.amounts.get_amounts(input_text)))"
      ],
      "execution_count": null,
      "outputs": [
        {
          "output_type": "stream",
          "text": [
            "[5.0, 740.0, 1843.0, 2.0, 1.0, 4.0, 2.0, 5.0, 1.0, 1840.0, 80100.0, 30, 1839.0, 741.0, 1840.0, 14000, 120, 1, 1840.0, 3, 4, 1, 1840.0, 2.0, 1.0, 361.0, 1.0, 307.0, 6.0, 604.0, 1.0, 2.0, 418.0, 422.0, 7.0, 34.0, 41.0, 167.0, 742.0, 3.0, 112.0, 207.0, 3.0, 338.0, 424.0, 5.0, 26.0, 13.0, 235.0, 8.0, 693.0, 4.0, 1821.0, 167.0, 2.0, 2.0, 216.0, 3.0, 66.0, 4.0, 130.0, 29.0, 2.0, 2412.0, 332.0, 2.0, 422.0, 9.0, 112.0, 743.0, 9.0, 39.0, 14000, 1840.0, 744.0, 5.0, 182.0, 3.0, 368.0, 1.0, 397.0, 6.0, 604.0, 1, 1821.0, 167.0, 745.0, 4.0, 746.0, 4.0, 210.0, 46.0, 747.0, 5.0, 5.0, 740.0, 1843.0, 284.0, 2019.0, 9.0, 1.0, 55.0, 266.0, 271.0, 1876.0, 2.0, 47.0, 362.0, 376.0, 1872.0, 3.0, 45.0, 329.0, 334.0, 1871.0, 4.0, 31.0, 526.0, 527.0, 1858.0, 5.0, 21.0, 333.0, 335.0, 1852.0, 6.0, 8.0, 145.0, 147.0, 1857.0, 7.0, 65.0, 256.0, 258.0, 3, 1880.0, 8.0, 4.0, 913.0, 914.0, 1887.0, 9.0, 103.0, 464.0, 1936.0, 3.0, 1.0, 9.0, 39.0, 1828.0, 2.0, 2.0, 5.0, 182.0, 1837.0, 2.0, 3.0, 9.0, 108.0, 1812.0, 6, 1, 2.0]\n"
          ],
          "name": "stdout"
        }
      ]
    },
    {
      "cell_type": "code",
      "metadata": {
        "id": "PTP_3AMptBfL",
        "colab": {
          "base_uri": "https://localhost:8080/",
          "height": 34
        },
        "outputId": "8b739b47-8de1-4079-b48d-3033a09f61ad"
      },
      "source": [
        "import lexnlp.extract.en.citations\n",
        "print(list(lexnlp.extract.en.citations.get_citations(input_text)))"
      ],
      "execution_count": null,
      "outputs": [
        {
          "output_type": "stream",
          "text": [
            "[(1843, 'WL', 'West Law Citation', 284, None, None, None)]\n"
          ],
          "name": "stdout"
        }
      ]
    },
    {
      "cell_type": "code",
      "metadata": {
        "id": "bcU9BdVTuE5D",
        "colab": {
          "base_uri": "https://localhost:8080/",
          "height": 54
        },
        "outputId": "2dbcb8f7-ef83-4241-c948-d657f0b6ec4c"
      },
      "source": [
        "import lexnlp.extract.en.entities.nltk_re\n",
        "print(list(lexnlp.extract.en.entities.nltk_re.get_companies(input_text)))"
      ],
      "execution_count": null,
      "outputs": [
        {
          "output_type": "stream",
          "text": [
            "[('West Headnotes 2   1 Chattel Mortgages Crops A growing crop has such an existence as to be the subjectmatter of a mortgage or other contract which passes an interest to vest in possession either immediately or at a future time 4 Cases that cite this headnote  2 Creditors Remedies Lien and Priority Under St1821 prohibiting a levy on a crop until it has been gathered no lien attaches in favor of a fi fa on a growing crop nor does such lien attach until after the crop has been gathered 5 Cases that cite this headnote  1 This was a trial of the right of property under the statute In November 1840 an execution issued from the circuit court of Sumter at the suit of the plaintiff in error requiring the sheriff of that county to make of the goods c of Allen Harrison and others the sum of thirtyseven hundred and seventyseven 80100 dollars besides costs This execution was levied on thirty bales of cotton as the property of Allen Harrison which was claimed and a bond given to try the right An issue was made up to try the question of the liability of the cotton to the plaintiffs execution and submitted to a jury On the trial a bill of exceptions was sealed at the instance of the plaintiff The plaintiff proved that he recovered his judgment in October 1839 that an execution 741 was issued thereon on the 7th Nov thereafter and that alias and pluries fieri facias issued regularly up to the time levy was made that the cotton levied on was growed on the plantation of Harrison and cultivated by the hands in his service It was proved by the claimants by the production of a written contract that Harrison on the twentysecond of May 1840 in consideration that the claimants were involved as indorsers for Burton  Harrison of Sumter county and were then exposed to an execution amounting to upwards of fourteen thousand dollars bargained and sold to the claimants all his growing crop of cotton c consisting of one hundred and twenty acres c Allen Harrison promised and obliged himself to give up his crop to the use of the claimants at any time to save them from suffering as his indorsers if the crop matured and was gathered he undertook to deliver the cotton in Gainesville The claimants came from Tennessee where they resided about the first of September 1840 bringing with them three or four white laborers and took possession of the crop and slaves and with the latter and white laborers gathered the cotton prepared it for market and when levied on it was in a warehouse in Gainesville The plaintiff then proved by Harrison that the claimants took possession of the crop while he was absent and disposed of it without his consent It was admitted that the contract was made in good faith The court charged the jury that the plaintiff had no lien by virtue of his judgment and execution on the growing crop that Harrison had a right to convey it without being in any manner restrained by them that the writing adduced was a sale of the crop but if it was not and the lien of the fieri facias would have attached upon it when gathered yet if the claimants obtained possession on the first of September and controlled the gathering of the crop then no lien attached and it was not subject to the levy Attorneys and Law Firms R H SMITH for the plaintiff in error made the following points1 The crop of Harrison must in May 1840 have been in an immature state and it is insisted was not the subject of a sale 2 By the common law a growing crop could be levied on and sold 1 Salk Rep 361 1 Bos  P Rep 307 6 Easts Rep 604 note 1 2 Johns Rep 418 422 7 Mass Rep 34 and our statue Aik Dig  41 p 167 which forbids the levy of an 742 execution on a growing crop is to receive a strict construction It merely inhibits the levy but the lien attaches and a levy and sale may be made after the crop matures and is gathered 3 The contract does not purport to convey the growing crop but is a mere executory agreement requiring some act to be done by Harrison in order to invest the claimants with the right of property Chit on Con 112 207 3 Johns Rep 338 424 5 Wend Rep 26 13 Johns Rep 235 8 Dowl Rep 693 and until this act was done the crop no matter by who gathered because liable to be seized for Harrisons debts A court of chancery would not compel a specific performance of the contract at the claimants instance 4 The charge of the court is also objectionable in deciding disputed facts W M MURPHY with whom was W G JONES for the defendantcited the act of 1821 Aik Dig 167 which declares it to be lawful to levy an execution on a planted crop until it is gathered and contended that no lien attached in favor of the plaintiff This being the case the defendant in execution was not restrained from making the contract which he did with the claimants 2 The lien of an execution is destroyed by an injunction because it takes away the right to levy it In short whenever the right to levy an execution is but temporarily suspended or withdrawn the lien is during that time lost Whipple v Foot 2 Johns Rep 216 3 Wash C C Rep 66 4 How Rep 130 It is admitted that the contract between the defendant in execution and the claimants was in good faith if so the severance and removal of the cotton gave the latter a good title against all creditors of the former Opinion  COLLIER C J  There can be no doubt that a growing crop has such an existence as to be the subject matter of a sale mortgage or other contract which possess an interest to vest in possession either immediately or at some future time This proposition has frequently been assumed as unquestionable the point of inquiry generally being whether under a statute of frauds such as the 29 Chas 2 it is a mere chattel and transferrable by parol without writing Chitty on Con 2412 332 Whipple v Foot 2 Johns Rep 422 Stewart v Doughty 9 Johns Rep 112 743 Austin v Sawyer 9 Cow Rep 39 See also Ravesies v Lee  Alston at last term The contract set out in the bill of exceptions we are inclined to think evidences rather a mortgage than an absolute sale It recites that the claimants are involved as indorsers of a mercantile firm of which the defendant was a partner that an execution for upwards of fourteen thousand dollars against their estate is in the sheriffs hands and that a conveyance is made of the crop of cotton corn and oats which the grantor agrees to give up at any time to the use of the claimants so as to prevent injury to them as indorsers The defendant in execution might at any time have divested the interest which the contract vested in the claimants by discharging their liability as his indorsers or a judgment creditor might have satisfied the lien and when the crop was gathered have levied on and sold it under a fieri facias We will then consider the writing under which the claimants assert a right as a mortgage with a power to take possession any time during the year unless they should be relieved from their engagements as indorsers It is not pretended that their liability has been satisfied and it is admitted that the parties have acted with good faith so that it is a dry question of law whether the right of the plaintiff or the claimants shall prevail Assuming for the present that the execution of the plaintiffs did not operate a lien upon the planted crop previous to the contract of May 1840 we will inquire whether the defendant in execution had such an interest as could be levied on and sold The claimants had previous to the levy of the execution taken possession of the crop prepared the cotton for market and removed it to a warehouse This possession it is insisted was a trespass because it was acquired in the absence of the defendant in execution and without his consent then given Conceding the truth of the facts stated in the bill of exceptions and we think it will not follow that the possession of the claimants is a nullity and that the case must be considered as if they had never interfered with the crop The contract contains an express undertaking to give up the crop at any time the claimants might require it for their indemnity and if they took possession of it in the absence of the grantor though without his consent if he subsequently acquiesced in it the inference would be if necessary that their acts were approved by him Taking this to be clear 744 law and it will be seen that the defendant in execution at the time of the levy had nothing more than a mere equitable right to redeem the cotton by paying the debts indorsed by the claimants He had no possession coupled with this equity but only a naked equity which it has been held cannot be reached by an ordinary execution Perkins and Elliott v Mayfield 5 Porters Rep 182 3 This brings us back to the question whether the execution of the plaintiff was a lien on the growing crop so as to defeat the mortgage to the claimants It has been frequently mooted whether at common law corn c before it is gathered can be seized under a fieri facias Mr Dane in remarking upon this point says The American editor of Bacons Abridgment says Wheat growing in the ground is a chattel and subject to be taken in execution and the sheriff may suffer it to grow till harvest and then cut and sell it or may perhaps sell it growing and the purchaser will then be entitled to enter for the purpose of cutting and carrying it away He cites Whipple v Foot ut supra also Pooles case Salk 368 1 Bos  P 397 6 East 604 n But Whipple v Foot seems to be the only case that supports his position that unripe wheat or corn may be taken in execution and the same editor states that nothing can be taken in execution which cannot be sold This position says the learned commentator is no doubt law But it is unnecessary to consider how this matter stands at common law The first section of the act of 1821 To prevent sheriffs and other officers from levying executions in certain cases enacts that It shall not be lawful for any sheriff or other officer to levy a writ of fieri facias or other execution on the planted crop of a debtor or person against whom an execution may issue until the crop is gathered Aik Dig 167 Now here is an express inhibition to levy an execution on a crop while it remains on or in the ground and until it is severed from the soil to which it owes its growth In respect to property thus situated will the lien of an execution attach eo instanti upon its being placed in the hands of an officer If so the act cited will only have the effect of keeping the right to levy it in abeyance until the crop is gathered The lien of an execution does not only operate so as to prevent the debtor from disposing of the property on which it attaches but gives to the creditor the right to have it sold to satisfy his 745 judgment The lien and the right to levy are intimately connected and if the latter be taken away or suspended the effect at common law is the destruction of the former This principle is fully established by Mansony and Hurtell v The President c of the Bank of the United States and its assignees and the citations contained in the opinion of the court in that case as also in my opinion in Wood v Gary et al both decided at the last term That it was competent for the legislature to have made it unlawful to levy an execution on particular property until its condition was changed and still to give it a continuing lien cannot be doubted but there is nothing in the act in question to indicate that such is its intention If the object was merely to suspend the sale until the crop was gathered it would have been very easy to have said so in explicit terms but declaring as the statute does in totidem verbis that the execution shall not be levied the legislature must be supposed to have meant what they have expressed The act was induced by the doubts which existed as to what was the common law and was intended to remove those doubts by declaring what should be the law in future It does not create a lien or authorize a levy in a case in which the law as it then existed was silent The idea that the lien attached upon the planted crop as soon as the execution was delivered to the sheriff though the right to levy it was postponed until a severance took place is attempted to be deduced from the last words of the section cited viz until the crop is gathered These words cannot upon any just principles of construction be regarded so potent as to give to an execution a retrospective effect They do not refer to the lien if they did they would postpone it until the crop was gathered but it is the levy they relate to and postpone until that event takes place 4 The right to levy an execution on a planted crop then being expressly taken away by the statute the lien which is connected with and consequent upon that right never attaches until severance This being the case the right of the defendant in execution to make the contract which he did is unquestionable and the title of the claimants coupled as it was with the possession was paramount to any lien which the execution could exert The circuit judge may have mistaken the law in supposing that the contract was a sale but if he did an error in that respect was very immaterial for whether a sale or mortgage as we have 746 seen under the facts of the case the defendant in execution has no interest that could be seised and sold under execution There is no assumption of any material fact in the charge but the possession of the claimant the time when acquired the gathering of the crop c are all referred to the determination of the jury who are instructed if they find them according to the evidence adduced that no lien ever attached in favor of the plaintiff The bona fides of the contract was conceded so that no charge was necessary on that point and it could not with propriety enter into the inquiry of the jury It results from what has been said that the judgment of the circuit court is affirmed', None, 'Bank'), ('DISSENTING OPINION  ORMOND J 4 The statute which presents the question before the court is that it shall not be lawful for any sheriff or other officer to levy a writ of fieei facias or other execution on the planted crop of a debtor or person against whom an execution may issue until the crop is gathered Clays Dig 210  46 I shall not enter upon the enquiry whether at common law an execution could be levied upon a growing crop though I apprehend it would not be difficult to maintain the affirmative of the proposition It is sufficient for my purpose that the statute supposes such to have been the law as it doubtless was the practice This act must be considered in connection with the other acts upon the same subject The policy of the State as indicated by these statutes is undeniably that all the property of a debtor real and personal to which he has a legal title shall be subject to sale by execution and it appears to me that it would be difficult to assign a reason for the exemption of this species of property from the claims of judgment creditors and for giving to the defendant in execution the right to dispose of it It appears to me with all deference that the argument that because the sheriff was prohibited from levying on a planted crop that therefore the execution had lost its lien and the debtor had the right to sell it is a non sequitur The mischief which the statute designed to remedy was the sacrifice which would be necessarily made by the sale of an immature crop the statute enables the debtor to retain it until it matures and by severing it from the soil to put it 747 in a condition to bring its valuethe lien in the mean time continuing in the plaintiff in execution 5 If further confirmation of the correctness of this view were necessary it will be found I think in the language employed by the legislature The sheriff is forbidden to levy on a planted crop until the crop is gathered Now if the view taken by the majority of the court is correct the right secured to the plaintiff in execution of levying on the crop after it is gathered may be frustrated as it was in this case by a sale by the defendant in execution whilst the crop is in an immature state The construction which has been put upon the statute involves the singular anomaly that the legislature for the protection of the debtor has forbidden the plaintiff in execution to sell the property of his debtor because it is not in a condition to bring its value and yet permits the debtor voluntarily by a sale to submit to the same sacrifice for his own benefit It is in effect a gift to the defendant in execution of the growing crop provided he does not gather it himself but disposes of it in its then condition This I feel a thorough conviction was not the intention of the legislature but that it was to secure him from loss by prohibiting a levy and sale of the crop until it was gathered when the temporary suspension of the right to sell ceased All Citations 5 Ala 740 1843 WL 284 End of Document  2019 Thomson Reuters No claim to original US Government Works Citing References 9 Treatment Title Date Type Depth Headnotes Cited by 1  Booker v Joness Admx 55 Ala 266 271  Ala Trover for Conversion of Cotton with Counts in Case APPEAL from the Circuit Court of Hale Tried before the Hon M J SAFFOLD Dec Term 1876 Case  Cited by 2  Lehman Durr', 'Co', None)]\n"
          ],
          "name": "stdout"
        }
      ]
    },
    {
      "cell_type": "code",
      "metadata": {
        "id": "JTRN7JSEuQ67",
        "colab": {
          "base_uri": "https://localhost:8080/",
          "height": 54
        },
        "outputId": "ad6bf08f-fc33-47f7-eeb5-6407b1908451"
      },
      "source": [
        "import lexnlp.extract.en.conditions\n",
        "print(list(lexnlp.extract.en.conditions.get_conditions(input_text)))"
      ],
      "execution_count": null,
      "outputs": [
        {
          "output_type": "stream",
          "text": [
            "[('until', '5 Ala 740 Supreme Court of Alabama ADAMS v TANNER AND HORTON June Term 1843 Synopsis WRIT of Error to the Circuit Court of Sumter \\xa0   West Headnotes 2   1 Chattel Mortgages Crops A growing crop has such an existence as to be the subjectmatter of a mortgage or other contract which passes an interest to vest in possession either immediately or at a future time 4 Cases that cite this headnote  2 Creditors Remedies Lien and Priority Under St1821 prohibiting a levy on a crop', ''), ('until', 'it has been gathered no lien attaches in favor of a fi fa on a growing crop nor does such lien attach', ''), ('if', 'after the crop has been gathered 5 Cases that cite this headnote  1 This was a trial of the right of property under the statute In November 1840 an execution issued from the circuit court of Sumter at the suit of the plaintiff in error requiring the sheriff of that county to make of the goods c of Allen Harrison and others the sum of thirtyseven hundred and seventyseven 80100 dollars besides costs This execution was levied on thirty bales of cotton as the property of Allen Harrison which was claimed and a bond given to try the right An issue was made up to try the question of the liability of the cotton to the plaintiffs execution and submitted to a jury On the trial a bill of exceptions was sealed at the instance of the plaintiff The plaintiff proved that he recovered his judgment in October 1839 that an execution 741 was issued thereon on the 7th Nov thereafter and that alias and pluries fieri facias issued regularly up to the time levy was made that the cotton levied on was growed on the plantation of Harrison and cultivated by the hands in his service It was proved by the claimants by the production of a written contract that Harrison on the twentysecond of May 1840 in consideration that the claimants were involved as indorsers for Burton  Harrison of Sumter county and were then exposed to an execution amounting to upwards of fourteen thousand dollars bargained and sold to the claimants all his growing crop of cotton c consisting of one hundred and twenty acres c Allen Harrison promised and obliged himself to give up his crop to the use of the claimants at any time to save them from suffering as his indorsers', ''), ('where', 'the crop matured and was gathered he undertook to deliver the cotton in Gainesville The claimants came from Tennessee', ''), ('when', 'they resided about the first of September 1840 bringing with them three or four white laborers and took possession of the crop and slaves and with the latter and white laborers gathered the cotton prepared it for market and', ''), ('if', 'levied on it was in a warehouse in Gainesville The plaintiff then proved by Harrison that the claimants took possession of the crop while he was absent and disposed of it without his consent It was admitted that the contract was made in good faith The court charged the jury that the plaintiff had no lien by virtue of his judgment and execution on the growing crop that Harrison had a right to convey it without being in any manner restrained by them that the writing adduced was a sale of the crop but', ''), ('when', 'it was not and the lien of the fieri facias would have attached upon it', ''), ('if', 'gathered yet', ''), ('not subject to', 'the claimants obtained possession on the first of September and controlled the gathering of the crop then no lien attached and it was', ''), ('until', 'the levy Attorneys and Law Firms R H SMITH for the plaintiff in error made the following points1 The crop of Harrison must in May 1840 have been in an immature state and it is insisted was not the subject of a sale 2 By the common law a growing crop could be levied on and sold 1 Salk Rep 361 1 Bos  P Rep 307 6 Easts Rep 604 note 1 2 Johns Rep 418 422 7 Mass Rep 34 and our statue Aik Dig  41 p 167 which forbids the levy of an 742 execution on a growing crop is to receive a strict construction It merely inhibits the levy but the lien attaches and a levy and sale may be made after the crop matures and is gathered 3 The contract does not purport to convey the growing crop but is a mere executory agreement requiring some act to be done by Harrison in order to invest the claimants with the right of property Chit on Con 112 207 3 Johns Rep 338 424 5 Wend Rep 26 13 Johns Rep 235 8 Dowl Rep 693 and', ''), ('until', 'this act was done the crop no matter by who gathered because liable to be seized for Harrisons debts A court of chancery would not compel a specific performance of the contract at the claimants instance 4 The charge of the court is also objectionable in deciding disputed facts W M MURPHY with whom was W G JONES for the defendantcited the act of 1821 Aik Dig 167 which declares it to be lawful to levy an execution on a planted crop', ''), ('if', 'it is gathered and contended that no lien attached in favor of the plaintiff This being the case the defendant in execution was not restrained from making the contract which he did with the claimants 2 The lien of an execution is destroyed by an injunction because it takes away the right to levy it In short whenever the right to levy an execution is but temporarily suspended or withdrawn the lien is during that time lost Whipple v Foot 2 Johns Rep 216 3 Wash C C Rep 66 4 How Rep 130 It is admitted that the contract between the defendant in execution and the claimants was in good faith', ''), ('when', 'so the severance and removal of the cotton gave the latter a good title against all creditors of the former Opinion  COLLIER C J  There can be no doubt that a growing crop has such an existence as to be the subject matter of a sale mortgage or other contract which possess an interest to vest in possession either immediately or at some future time This proposition has frequently been assumed as unquestionable the point of inquiry generally being whether under a statute of frauds such as the 29 Chas 2 it is a mere chattel and transferrable by parol without writing Chitty on Con 2412 332 Whipple v Foot 2 Johns Rep 422 Stewart v Doughty 9 Johns Rep 112 743 Austin v Sawyer 9 Cow Rep 39 See also Ravesies v Lee  Alston at last term The contract set out in the bill of exceptions we are inclined to think evidences rather a mortgage than an absolute sale It recites that the claimants are involved as indorsers of a mercantile firm of which the defendant was a partner that an execution for upwards of fourteen thousand dollars against their estate is in the sheriffs hands and that a conveyance is made of the crop of cotton corn and oats which the grantor agrees to give up at any time to the use of the claimants so as to prevent injury to them as indorsers The defendant in execution might at any time have divested the interest which the contract vested in the claimants by discharging their liability as his indorsers or a judgment creditor might have satisfied the lien and', ''), ('unless', 'the crop was gathered have levied on and sold it under a fieri facias We will then consider the writing under which the claimants assert a right as a mortgage with a power to take possession any time during the year', ''), ('if', 'they should be relieved from their engagements as indorsers It is not pretended that their liability has been satisfied and it is admitted that the parties have acted with good faith so that it is a dry question of law whether the right of the plaintiff or the claimants shall prevail Assuming for the present that the execution of the plaintiffs did not operate a lien upon the planted crop previous to the contract of May 1840 we will inquire whether the defendant in execution had such an interest as could be levied on and sold The claimants had previous to the levy of the execution taken possession of the crop prepared the cotton for market and removed it to a warehouse This possession it is insisted was a trespass because it was acquired in the absence of the defendant in execution and without his consent then given Conceding the truth of the facts stated in the bill of exceptions and we think it will not follow that the possession of the claimants is a nullity and that the case must be considered as', ''), ('if', 'they had never interfered with the crop The contract contains an express undertaking to give up the crop at any time the claimants might require it for their indemnity and', ''), ('if', 'they took possession of it in the absence of the grantor though without his consent', ''), ('if', 'he subsequently acquiesced in it the inference would be', ''), ('subject to', 'necessary that their acts were approved by him Taking this to be clear 744 law and it will be seen that the defendant in execution at the time of the levy had nothing more than a mere equitable right to redeem the cotton by paying the debts indorsed by the claimants He had no possession coupled with this equity but only a naked equity which it has been held cannot be reached by an ordinary execution Perkins and Elliott v Mayfield 5 Porters Rep 182 3 This brings us back to the question whether the execution of the plaintiff was a lien on the growing crop so as to defeat the mortgage to the claimants It has been frequently mooted whether at common law corn c before it is gathered can be seized under a fieri facias Mr Dane in remarking upon this point says The American editor of Bacons Abridgment says Wheat growing in the ground is a chattel and', ''), ('until', 'be taken in execution and the sheriff may suffer it to grow till harvest and then cut and sell it or may perhaps sell it growing and the purchaser will then be entitled to enter for the purpose of cutting and carrying it away He cites Whipple v Foot ut supra also Pooles case Salk 368 1 Bos  P 397 6 East 604 n But Whipple v Foot seems to be the only case that supports his position that unripe wheat or corn may be taken in execution and the same editor states that nothing can be taken in execution which cannot be sold This position says the learned commentator is no doubt law But it is unnecessary to consider how this matter stands at common law The first section of the act of 1821 To prevent sheriffs and other officers from levying executions in certain cases enacts that It shall not be lawful for any sheriff or other officer to levy a writ of fieri facias or other execution on the planted crop of a debtor or person against whom an execution may issue', ''), ('until', 'the crop is gathered Aik Dig 167 Now here is an express inhibition to levy an execution on a crop while it remains on or in the ground and', ''), ('if', 'it is severed from the soil to which it owes its growth In respect to property thus situated will the lien of an execution attach eo instanti upon its being placed in the hands of an officer', ''), ('until', 'so the act cited will only have the effect of keeping the right to levy it in abeyance', ''), ('if', 'the crop is gathered The lien of an execution does not only operate so as to prevent the debtor from disposing of the property on which it attaches but gives to the creditor the right to have it sold to satisfy his 745 judgment The lien and the right to levy are intimately connected and', ''), ('until', 'the latter be taken away or suspended the effect at common law is the destruction of the former This principle is fully established by Mansony and Hurtell v The President c of the Bank of the United States and its assignees and the citations contained in the opinion of the court in that case as also in my opinion in Wood v Gary et al both decided at the last term That it was competent for the legislature to have made it unlawful to levy an execution on particular property', ''), ('if', 'its condition was changed and still to give it a continuing lien cannot be doubted but there is nothing in the act in question to indicate that such is its intention', ''), ('until', 'the object was merely to suspend the sale', ''), ('as soon as', 'the crop was gathered it would have been very easy to have said so in explicit terms but declaring as the statute does in totidem verbis that the execution shall not be levied the legislature must be supposed to have meant what they have expressed The act was induced by the doubts which existed as to what was the common law and was intended to remove those doubts by declaring what should be the law in future It does not create a lien or authorize a levy in a case in which the law as it then existed was silent The idea that the lien attached upon the planted crop', ''), ('until', 'the execution was delivered to the sheriff though the right to levy it was postponed', ''), ('until', 'a severance took place is attempted to be deduced from the last words of the section cited viz', ''), ('if', 'the crop is gathered These words cannot upon any just principles of construction be regarded so potent as to give to an execution a retrospective effect They do not refer to the lien', ''), ('until', 'they did they would postpone it', ''), ('until', 'the crop was gathered but it is the levy they relate to and postpone', ''), ('until', 'that event takes place 4 The right to levy an execution on a planted crop then being expressly taken away by the statute the lien which is connected with and consequent upon that right never attaches', ''), ('if', 'severance This being the case the right of the defendant in execution to make the contract which he did is unquestionable and the title of the claimants coupled as it was with the possession was paramount to any lien which the execution could exert The circuit judge may have mistaken the law in supposing that the contract was a sale but', ''), ('when', 'he did an error in that respect was very immaterial for whether a sale or mortgage as we have 746 seen under the facts of the case the defendant in execution has no interest that could be seised and sold under execution There is no assumption of any material fact in the charge but the possession of the claimant the time', ''), ('if', 'acquired the gathering of the crop c are all referred to the determination of the jury who are instructed', ''), ('until', 'they find them according to the evidence adduced that no lien ever attached in favor of the plaintiff The bona fides of the contract was conceded so that no charge was necessary on that point and it could not with propriety enter into the inquiry of the jury It results from what has been said that the judgment of the circuit court is affirmed  DISSENTING OPINION  ORMOND J 4 The statute which presents the question before the court is that it shall not be lawful for any sheriff or other officer to levy a writ of fieei facias or other execution on the planted crop of a debtor or person against whom an execution may issue', ''), ('subject to', 'the crop is gathered Clays Dig 210  46 I shall not enter upon the enquiry whether at common law an execution could be levied upon a growing crop though I apprehend it would not be difficult to maintain the affirmative of the proposition It is sufficient for my purpose that the statute supposes such to have been the law as it doubtless was the practice This act must be considered in connection with the other acts upon the same subject The policy of the State as indicated by these statutes is undeniably that all the property of a debtor real and personal to which he has a legal title shall be', ''), ('until', 'sale by execution and it appears to me that it would be difficult to assign a reason for the exemption of this species of property from the claims of judgment creditors and for giving to the defendant in execution the right to dispose of it It appears to me with all deference that the argument that because the sheriff was prohibited from levying on a planted crop that therefore the execution had lost its lien and the debtor had the right to sell it is a non sequitur The mischief which the statute designed to remedy was the sacrifice which would be necessarily made by the sale of an immature crop the statute enables the debtor to retain it', ''), ('if', 'it matures and by severing it from the soil to put it 747 in a condition to bring its valuethe lien in the mean time continuing in the plaintiff in execution 5', ''), ('until', 'further confirmation of the correctness of this view were necessary it will be found I think in the language employed by the legislature The sheriff is forbidden to levy on a planted crop', ''), ('if', 'the crop is gathered Now', ''), ('until', 'the view taken by the majority of the court is correct the right secured to the plaintiff in execution of levying on the crop after it is gathered may be frustrated as it was in this case by a sale by the defendant in execution whilst the crop is in an immature state The construction which has been put upon the statute involves the singular anomaly that the legislature for the protection of the debtor has forbidden the plaintiff in execution to sell the property of his debtor because it is not in a condition to bring its value and yet permits the debtor voluntarily by a sale to submit to the same sacrifice for his own benefit It is in effect a gift to the defendant in execution of the growing crop provided he does not gather it himself but disposes of it in its then condition This I feel a thorough conviction was not the intention of the legislature but that it was to secure him from loss by prohibiting a levy and sale of the crop', ''), ('when', 'it was gathered', ''), ('subject to', 'the temporary suspension of the right to sell ceased All Citations 5 Ala 740 1843 WL 284 End of Document  2019 Thomson Reuters No claim to original US Government Works Citing References 9 Treatment Title Date Type Depth Headnotes Cited by 1  Booker v Joness Admx 55 Ala 266 271  Ala Trover for Conversion of Cotton with Counts in Case APPEAL from the Circuit Court of Hale Tried before the Hon M J SAFFOLD Dec Term 1876 Case  Cited by 2  Lehman Durr  Co v Marshall 47 Ala 362 376  Ala TROVER FOR CONVERSION OF COTTON APPEAL from the City Court of Montgomery Tried before Hon JOHN D CUNNINGHAM Jan Term 1872 Case  Cited by 3  Bibb v Janney 45 Ala 329 334  Ala GARNISHMENT WAGES WAIVER OF EXEMPTION APPEAL from City Court of Montgomery Tried before Hon JOHN D CUNNINGHAM Jan Term 1871 Case  Cited by 4  McKenzie v Lampley 31 Ala 526 527  Ala TRIAL OF RIGHT OF PROPERTY IN COTTON APPEAL from the Circuit Court of Barbour Tried before the Hon S D HALE Jan Term 1858 Case  Cited by 5  Evans v Lamar 21 Ala 333 335  Ala ERROR to the Circuit Court of Autauga Tried before the Hon A B MOORE Jun Term 1852 Case  Cited by  6  Dewey v Bowman 8 Cal 145 147  Cal The judgment of the Court below against Jacob S Cohen should be reversed for the following reasons Because the finding of the Court was so far as Cohen was concerned Jul Term 1857 Case  Mentioned by 7  Rees v Coats 65 Ala 256 258  Ala Trover for Conversion of Three Bales of Cotton APPEAL from the Circuit Court of Etowah Tried before the Hon WM L WHITLOCK Nov Term 1880 Case  Mentioned by 8  Edwards v Thompson 4 SW 913 914  Tenn Appeal from circuit court Weakley county May 1887 Case   9  Growing crops as', ''), ('subject to', 'levy and seizure under attachment or execution 103 ALR 464 Generally at common law growing crops raised by annual planting while still attached to the soil are regarded as personal chattels', ''), ('where', 'levy and seizure under attachment 1936 ALR   Table of Authorities 3 Treatment Referenced Title Type Depth Quoted Page Number Mentioned 1  Austin v Sawyer 9 Cow 39 NYSup 1828 Parol evidence is not admissible to contradict or substantially vary a written contract And', '')]\n"
          ],
          "name": "stdout"
        }
      ]
    },
    {
      "cell_type": "code",
      "metadata": {
        "id": "ZJgjCLkLuXlU",
        "colab": {
          "base_uri": "https://localhost:8080/",
          "height": 54
        },
        "outputId": "5710936a-902e-4977-b018-b77560e56c21"
      },
      "source": [
        " import lexnlp.extract.en.constraints\n",
        " print(list(lexnlp.extract.en.constraints.get_constraints(input_text)))"
      ],
      "execution_count": null,
      "outputs": [
        {
          "output_type": "stream",
          "text": [
            "[('after', '5 ala 740 supreme court of alabama adams v tanner and horton june term 1843 synopsis writ of error to the circuit court of sumter \\xa0   west headnotes 2   1 chattel mortgages crops a growing crop has such an existence as to be the subjectmatter of a mortgage or other contract which passes an interest to vest in possession either immediately or at a future time 4 cases that cite this headnote  2 creditors remedies lien and priority under st1821 prohibiting a levy on a crop until it has been gathered no lien attaches in favor of a fi fa on a growing crop nor does such lien attach until', ''), ('first of', 'the crop has been gathered 5 cases that cite this headnote  1 this was a trial of the right of property under the statute in november 1840 an execution issued from the circuit court of sumter at the suit of the plaintiff in error requiring the sheriff of that county to make of the goods c of allen harrison and others the sum of thirtyseven hundred and seventyseven 80100 dollars besides costs this execution was levied on thirty bales of cotton as the property of allen harrison which was claimed and a bond given to try the right an issue was made up to try the question of the liability of the cotton to the plaintiffs execution and submitted to a jury on the trial a bill of exceptions was sealed at the instance of the plaintiff the plaintiff proved that he recovered his judgment in october 1839 that an execution 741 was issued thereon on the 7th nov thereafter and that alias and pluries fieri facias issued regularly up to the time levy was made that the cotton levied on was growed on the plantation of harrison and cultivated by the hands in his service it was proved by the claimants by the production of a written contract that harrison on the twentysecond of may 1840 in consideration that the claimants were involved as indorsers for burton  harrison of sumter county and were then exposed to an execution amounting to upwards of fourteen thousand dollars bargained and sold to the claimants all his growing crop of cotton c consisting of one hundred and twenty acres c allen harrison promised and obliged himself to give up his crop to the use of the claimants at any time to save them from suffering as his indorsers if the crop matured and was gathered he undertook to deliver the cotton in gainesville the claimants came from tennessee where they resided about the', ''), ('first of', 'september 1840 bringing with them three or four white laborers and took possession of the crop and slaves and with the latter and white laborers gathered the cotton prepared it for market and when levied on it was in a warehouse in gainesville the plaintiff then proved by harrison that the claimants took possession of the crop while he was absent and disposed of it without his consent it was admitted that the contract was made in good faith the court charged the jury that the plaintiff had no lien by virtue of his judgment and execution on the growing crop that harrison had a right to convey it without being in any manner restrained by them that the writing adduced was a sale of the crop but if it was not and the lien of the fieri facias would have attached upon it when gathered yet if the claimants obtained possession on the', ''), ('after', 'september and controlled the gathering of the crop then no lien attached and it was not subject to the levy attorneys and law firms r h smith for the plaintiff in error made the following points1 the crop of harrison must in may 1840 have been in an immature state and it is insisted was not the subject of a sale 2 by the common law a growing crop could be levied on and sold 1 salk rep 361 1 bos  p rep 307 6 easts rep 604 note 1 2 johns rep 418 422 7 mass rep 34 and our statue aik dig  41 p 167 which forbids the levy of an 742 execution on a growing crop is to receive a strict construction it merely inhibits the levy but the lien attaches and a levy and sale may be made', ''), ('more than', 'the crop matures and is gathered 3 the contract does not purport to convey the growing crop but is a mere executory agreement requiring some act to be done by harrison in order to invest the claimants with the right of property chit on con 112 207 3 johns rep 338 424 5 wend rep 26 13 johns rep 235 8 dowl rep 693 and until this act was done the crop no matter by who gathered because liable to be seized for harrisons debts a court of chancery would not compel a specific performance of the contract at the claimants instance 4 the charge of the court is also objectionable in deciding disputed facts w m murphy with whom was w g jones for the defendantcited the act of 1821 aik dig 167 which declares it to be lawful to levy an execution on a planted crop until it is gathered and contended that no lien attached in favor of the plaintiff this being the case the defendant in execution was not restrained from making the contract which he did with the claimants 2 the lien of an execution is destroyed by an injunction because it takes away the right to levy it in short whenever the right to levy an execution is but temporarily suspended or withdrawn the lien is during that time lost whipple v foot 2 johns rep 216 3 wash c c rep 66 4 how rep 130 it is admitted that the contract between the defendant in execution and the claimants was in good faith if so the severance and removal of the cotton gave the latter a good title against all creditors of the former opinion  collier c j  there can be no doubt that a growing crop has such an existence as to be the subject matter of a sale mortgage or other contract which possess an interest to vest in possession either immediately or at some future time this proposition has frequently been assumed as unquestionable the point of inquiry generally being whether under a statute of frauds such as the 29 chas 2 it is a mere chattel and transferrable by parol without writing chitty on con 2412 332 whipple v foot 2 johns rep 422 stewart v doughty 9 johns rep 112 743 austin v sawyer 9 cow rep 39 see also ravesies v lee  alston at last term the contract set out in the bill of exceptions we are inclined to think evidences rather a mortgage than an absolute sale it recites that the claimants are involved as indorsers of a mercantile firm of which the defendant was a partner that an execution for upwards of fourteen thousand dollars against their estate is in the sheriffs hands and that a conveyance is made of the crop of cotton corn and oats which the grantor agrees to give up at any time to the use of the claimants so as to prevent injury to them as indorsers the defendant in execution might at any time have divested the interest which the contract vested in the claimants by discharging their liability as his indorsers or a judgment creditor might have satisfied the lien and when the crop was gathered have levied on and sold it under a fieri facias we will then consider the writing under which the claimants assert a right as a mortgage with a power to take possession any time during the year unless they should be relieved from their engagements as indorsers it is not pretended that their liability has been satisfied and it is admitted that the parties have acted with good faith so that it is a dry question of law whether the right of the plaintiff or the claimants shall prevail assuming for the present that the execution of the plaintiffs did not operate a lien upon the planted crop previous to the contract of may 1840 we will inquire whether the defendant in execution had such an interest as could be levied on and sold the claimants had previous to the levy of the execution taken possession of the crop prepared the cotton for market and removed it to a warehouse this possession it is insisted was a trespass because it was acquired in the absence of the defendant in execution and without his consent then given conceding the truth of the facts stated in the bill of exceptions and we think it will not follow that the possession of the claimants is a nullity and that the case must be considered as if they had never interfered with the crop the contract contains an express undertaking to give up the crop at any time the claimants might require it for their indemnity and if they took possession of it in the absence of the grantor though without his consent if he subsequently acquiesced in it the inference would be if necessary that their acts were approved by him taking this to be clear 744 law and it will be seen that the defendant in execution at the time of the levy had nothing', ''), ('before', 'a mere equitable right to redeem the cotton by paying the debts indorsed by the claimants he had no possession coupled with this equity but only a naked equity which it has been held cannot be reached by an ordinary execution perkins and elliott v mayfield 5 porters rep 182 3 this brings us back to the question whether the execution of the plaintiff was a lien on the growing crop so as to defeat the mortgage to the claimants it has been frequently mooted whether at common law corn c', ''), ('before', 'it is gathered can be seized under a fieri facias mr dane in remarking upon this point says the american editor of bacons abridgment says wheat growing in the ground is a chattel and subject to be taken in execution and the sheriff may suffer it to grow till harvest and then cut and sell it or may perhaps sell it growing and the purchaser will then be entitled to enter for the purpose of cutting and carrying it away he cites whipple v foot ut supra also pooles case salk 368 1 bos  p 397 6 east 604 n but whipple v foot seems to be the only case that supports his position that unripe wheat or corn may be taken in execution and the same editor states that nothing can be taken in execution which cannot be sold this position says the learned commentator is no doubt law but it is unnecessary to consider how this matter stands at common law the first section of the act of 1821 to prevent sheriffs and other officers from levying executions in certain cases enacts that it shall not be lawful for any sheriff or other officer to levy a writ of fieri facias or other execution on the planted crop of a debtor or person against whom an execution may issue until the crop is gathered aik dig 167 now here is an express inhibition to levy an execution on a crop while it remains on or in the ground and until it is severed from the soil to which it owes its growth in respect to property thus situated will the lien of an execution attach eo instanti upon its being placed in the hands of an officer if so the act cited will only have the effect of keeping the right to levy it in abeyance until the crop is gathered the lien of an execution does not only operate so as to prevent the debtor from disposing of the property on which it attaches but gives to the creditor the right to have it sold to satisfy his 745 judgment the lien and the right to levy are intimately connected and if the latter be taken away or suspended the effect at common law is the destruction of the former this principle is fully established by mansony and hurtell v the president c of the bank of the united states and its assignees and the citations contained in the opinion of the court in that case as also in my opinion in wood v gary et al both decided at the last term that it was competent for the legislature to have made it unlawful to levy an execution on particular property until its condition was changed and still to give it a continuing lien cannot be doubted but there is nothing in the act in question to indicate that such is its intention if the object was merely to suspend the sale until the crop was gathered it would have been very easy to have said so in explicit terms but declaring as the statute does in totidem verbis that the execution shall not be levied the legislature must be supposed to have meant what they have expressed the act was induced by the doubts which existed as to what was the common law and was intended to remove those doubts by declaring what should be the law in future it does not create a lien or authorize a levy in a case in which the law as it then existed was silent the idea that the lien attached upon the planted crop as soon as the execution was delivered to the sheriff though the right to levy it was postponed until a severance took place is attempted to be deduced from the last words of the section cited viz until the crop is gathered these words cannot upon any just principles of construction be regarded so potent as to give to an execution a retrospective effect they do not refer to the lien if they did they would postpone it until the crop was gathered but it is the levy they relate to and postpone until that event takes place 4 the right to levy an execution on a planted crop then being expressly taken away by the statute the lien which is connected with and consequent upon that right never attaches until severance this being the case the right of the defendant in execution to make the contract which he did is unquestionable and the title of the claimants coupled as it was with the possession was paramount to any lien which the execution could exert the circuit judge may have mistaken the law in supposing that the contract was a sale but if he did an error in that respect was very immaterial for whether a sale or mortgage as we have 746 seen under the facts of the case the defendant in execution has no interest that could be seised and sold under execution there is no assumption of any material fact in the charge but the possession of the claimant the time when acquired the gathering of the crop c are all referred to the determination of the jury who are instructed if they find them according to the evidence adduced that no lien ever attached in favor of the plaintiff the bona fides of the contract was conceded so that no charge was necessary on that point and it could not with propriety enter into the inquiry of the jury it results from what has been said that the judgment of the circuit court is affirmed  dissenting opinion  ormond j 4 the statute which presents the question', ''), ('after', 'the court is that it shall not be lawful for any sheriff or other officer to levy a writ of fieei facias or other execution on the planted crop of a debtor or person against whom an execution may issue until the crop is gathered clays dig 210  46 i shall not enter upon the enquiry whether at common law an execution could be levied upon a growing crop though i apprehend it would not be difficult to maintain the affirmative of the proposition it is sufficient for my purpose that the statute supposes such to have been the law as it doubtless was the practice this act must be considered in connection with the other acts upon the same subject the policy of the state as indicated by these statutes is undeniably that all the property of a debtor real and personal to which he has a legal title shall be subject to sale by execution and it appears to me that it would be difficult to assign a reason for the exemption of this species of property from the claims of judgment creditors and for giving to the defendant in execution the right to dispose of it it appears to me with all deference that the argument that because the sheriff was prohibited from levying on a planted crop that therefore the execution had lost its lien and the debtor had the right to sell it is a non sequitur the mischief which the statute designed to remedy was the sacrifice which would be necessarily made by the sale of an immature crop the statute enables the debtor to retain it until it matures and by severing it from the soil to put it 747 in a condition to bring its valuethe lien in the mean time continuing in the plaintiff in execution 5 if further confirmation of the correctness of this view were necessary it will be found i think in the language employed by the legislature the sheriff is forbidden to levy on a planted crop until the crop is gathered now if the view taken by the majority of the court is correct the right secured to the plaintiff in execution of levying on the crop', ''), ('before', 'it is gathered may be frustrated as it was in this case by a sale by the defendant in execution whilst the crop is in an immature state the construction which has been put upon the statute involves the singular anomaly that the legislature for the protection of the debtor has forbidden the plaintiff in execution to sell the property of his debtor because it is not in a condition to bring its value and yet permits the debtor voluntarily by a sale to submit to the same sacrifice for his own benefit it is in effect a gift to the defendant in execution of the growing crop provided he does not gather it himself but disposes of it in its then condition this i feel a thorough conviction was not the intention of the legislature but that it was to secure him from loss by prohibiting a levy and sale of the crop until it was gathered when the temporary suspension of the right to sell ceased all citations 5 ala 740 1843 wl 284 end of document  2019 thomson reuters no claim to original us government works citing references 9 treatment title date type depth headnotes cited by 1  booker v joness admx 55 ala 266 271  ala trover for conversion of cotton with counts in case appeal from the circuit court of hale tried', ''), ('before', 'the hon m j saffold dec term 1876 case  cited by 2  lehman durr  co v marshall 47 ala 362 376  ala trover for conversion of cotton appeal from the city court of montgomery tried', ''), ('before', 'hon john d cunningham jan term 1872 case  cited by 3  bibb v janney 45 ala 329 334  ala garnishment wages waiver of exemption appeal from city court of montgomery tried', ''), ('before', 'hon john d cunningham jan term 1871 case  cited by 4  mckenzie v lampley 31 ala 526 527  ala trial of right of property in cotton appeal from the circuit court of barbour tried', ''), ('before', 'the hon s d hale jan term 1858 case  cited by 5  evans v lamar 21 ala 333 335  ala error to the circuit court of autauga tried', ''), ('before', 'the hon a b moore jun term 1852 case  cited by  6  dewey v bowman 8 cal 145 147  cal the judgment of the court below against jacob s cohen should be reversed for the following reasons because the finding of the court was so far as cohen was concerned jul term 1857 case  mentioned by 7  rees v coats 65 ala 256 258  ala trover for conversion of three bales of cotton appeal from the circuit court of etowah tried', '')]\n"
          ],
          "name": "stdout"
        }
      ]
    },
    {
      "cell_type": "code",
      "metadata": {
        "id": "KQiUUUhGuioM",
        "colab": {
          "base_uri": "https://localhost:8080/",
          "height": 34
        },
        "outputId": "6f171744-cdea-4b87-b4ee-7ed142a08933"
      },
      "source": [
        "import lexnlp.extract.en.copyright\n",
        "print(list(lexnlp.extract.en.copyright.get_copyright(input_text)))"
      ],
      "execution_count": null,
      "outputs": [
        {
          "output_type": "stream",
          "text": [
            "[]\n"
          ],
          "name": "stdout"
        }
      ]
    },
    {
      "cell_type": "code",
      "metadata": {
        "id": "oQcimy4CvS84",
        "colab": {
          "base_uri": "https://localhost:8080/",
          "height": 70
        },
        "outputId": "b64fc520-79d1-4ebf-d87c-5c4a9732900e"
      },
      "source": [
        "import lexnlp.extract.en.courts\n",
        "court_df = pd.read_csv(\"https://raw.githubusercontent.com/LexPredict/lexpredict-legal-dictionary/1.0.5/en/legal/us_courts.csv\")\n",
        "court_config_data = []\n",
        "for _, row in court_df.iterrows():\n",
        "  c = lexnlp.extract.en.dict_entities.entity_config(row[\"Court ID\"], row[\"Court Name\"], 0, row[\"Alias\"].split(\";\") if not pd.isnull(row[\"Alias\"]) else [])\n",
        "  court_config_data.append(c)\n",
        "for entity, alias in lexnlp.extract.en.courts.get_courts(input_text, court_config_data):\n",
        "  print(\"entity=\", entity)\n",
        "  print(\"alias=\", alias)"
      ],
      "execution_count": null,
      "outputs": [
        {
          "output_type": "stream",
          "text": [
            "entity= (1, 'United States Supreme Court', 0, [('United States Supreme Court', None, False, None), ('Supreme Court', None, False, None), (' SCOTUS', None, False, None)])\n",
            "alias= ('Supreme Court', None, False, None)\n"
          ],
          "name": "stdout"
        }
      ]
    },
    {
      "cell_type": "code",
      "metadata": {
        "id": "-249fXzMvTgh",
        "colab": {
          "base_uri": "https://localhost:8080/",
          "height": 34
        },
        "outputId": "75beb4fe-eb3b-49ac-802d-3ad651e15e46"
      },
      "source": [
        "import lexnlp.extract.en.cusip\n",
        "print(list(lexnlp.extract.en.cusip.get_cusip(input_text)))"
      ],
      "execution_count": null,
      "outputs": [
        {
          "output_type": "stream",
          "text": [
            "[]\n"
          ],
          "name": "stdout"
        }
      ]
    },
    {
      "cell_type": "code",
      "metadata": {
        "id": "iLiXupRobTqc",
        "colab": {
          "base_uri": "https://localhost:8080/",
          "height": 390
        },
        "outputId": "047ea8b7-dad3-4a2b-f439-f752a5425f46"
      },
      "source": [
        "pip install scipy==1.4.1"
      ],
      "execution_count": null,
      "outputs": [
        {
          "output_type": "stream",
          "text": [
            "Collecting scipy==1.4.1\n",
            "\u001b[?25l  Downloading https://files.pythonhosted.org/packages/dc/29/162476fd44203116e7980cfbd9352eef9db37c49445d1fec35509022f6aa/scipy-1.4.1-cp36-cp36m-manylinux1_x86_64.whl (26.1MB)\n",
            "\u001b[K     |████████████████████████████████| 26.1MB 160kB/s \n",
            "\u001b[?25hRequirement already satisfied: numpy>=1.13.3 in /usr/local/lib/python3.6/dist-packages (from scipy==1.4.1) (1.19.1)\n",
            "\u001b[31mERROR: yellowbrick 0.9.1 has requirement scikit-learn>=0.20, but you'll have scikit-learn 0.19.1 which is incompatible.\u001b[0m\n",
            "\u001b[31mERROR: umap-learn 0.4.6 has requirement scikit-learn>=0.20, but you'll have scikit-learn 0.19.1 which is incompatible.\u001b[0m\n",
            "\u001b[31mERROR: tensorflow 2.3.0 has requirement numpy<1.19.0,>=1.16.0, but you'll have numpy 1.19.1 which is incompatible.\u001b[0m\n",
            "\u001b[31mERROR: plotnine 0.6.0 has requirement pandas>=0.25.0, but you'll have pandas 0.23.4 which is incompatible.\u001b[0m\n",
            "\u001b[31mERROR: lexnlp 0.2.7 has requirement scipy==1.0.0, but you'll have scipy 1.4.1 which is incompatible.\u001b[0m\n",
            "\u001b[31mERROR: imbalanced-learn 0.4.3 has requirement scikit-learn>=0.20, but you'll have scikit-learn 0.19.1 which is incompatible.\u001b[0m\n",
            "\u001b[31mERROR: albumentations 0.1.12 has requirement imgaug<0.2.7,>=0.2.5, but you'll have imgaug 0.2.9 which is incompatible.\u001b[0m\n",
            "Installing collected packages: scipy\n",
            "  Found existing installation: scipy 1.0.0\n",
            "    Uninstalling scipy-1.0.0:\n",
            "      Successfully uninstalled scipy-1.0.0\n",
            "Successfully installed scipy-1.4.1\n"
          ],
          "name": "stdout"
        },
        {
          "output_type": "display_data",
          "data": {
            "application/vnd.colab-display-data+json": {
              "pip_warning": {
                "packages": [
                  "scipy"
                ]
              }
            }
          },
          "metadata": {
            "tags": []
          }
        }
      ]
    },
    {
      "cell_type": "code",
      "metadata": {
        "id": "zKPByXDZvcFO",
        "colab": {
          "base_uri": "https://localhost:8080/",
          "height": 154
        },
        "outputId": "9443b861-4858-4136-c2eb-daf09cdd13aa"
      },
      "source": [
        "import lexnlp.extract.en.dates\n",
        "print(list(lexnlp.extract.en.dates.get_dates(input_text)))"
      ],
      "execution_count": null,
      "outputs": [
        {
          "output_type": "stream",
          "text": [
            "/usr/local/lib/python3.6/dist-packages/sklearn/base.py:311: UserWarning: Trying to unpickle estimator SelectKBest from version 0.19.0 when using version 0.19.1. This might lead to breaking code or invalid results. Use at your own risk.\n",
            "  UserWarning)\n",
            "/usr/local/lib/python3.6/dist-packages/sklearn/base.py:311: UserWarning: Trying to unpickle estimator LogisticRegressionCV from version 0.19.0 when using version 0.19.1. This might lead to breaking code or invalid results. Use at your own risk.\n",
            "  UserWarning)\n",
            "/usr/local/lib/python3.6/dist-packages/sklearn/base.py:311: UserWarning: Trying to unpickle estimator Pipeline from version 0.19.0 when using version 0.19.1. This might lead to breaking code or invalid results. Use at your own risk.\n",
            "  UserWarning)\n"
          ],
          "name": "stderr"
        },
        {
          "output_type": "stream",
          "text": [
            "[datetime.date(2020, 6, 1), datetime.date(1840, 11, 1), datetime.date(1839, 10, 1), datetime.date(1840, 5, 1), datetime.date(1840, 9, 1), datetime.date(1840, 5, 1), datetime.date(1840, 5, 1), datetime.date(2020, 12, 1), datetime.date(2020, 12, 1), datetime.date(2020, 1, 1), datetime.date(2020, 1, 1), datetime.date(2020, 1, 1), datetime.date(2020, 3, 21), datetime.date(2020, 6, 1), datetime.date(2020, 7, 1), datetime.date(2020, 11, 1), datetime.date(1887, 5, 1)]\n"
          ],
          "name": "stdout"
        }
      ]
    },
    {
      "cell_type": "code",
      "metadata": {
        "id": "ul9xGgxYvofY",
        "colab": {
          "base_uri": "https://localhost:8080/",
          "height": 34
        },
        "outputId": "04b8f25e-5874-4c27-e11d-30e4215c5e00"
      },
      "source": [
        "import lexnlp.extract.en.definitions\n",
        "print(list(lexnlp.extract.en.definitions.get_definitions(input_text)))"
      ],
      "execution_count": null,
      "outputs": [
        {
          "output_type": "stream",
          "text": [
            "[]\n"
          ],
          "name": "stdout"
        }
      ]
    },
    {
      "cell_type": "code",
      "metadata": {
        "id": "6y5-1KFVx-Ts",
        "colab": {
          "base_uri": "https://localhost:8080/",
          "height": 34
        },
        "outputId": "552946fb-5d6b-4811-fff2-8919044ef468"
      },
      "source": [
        "import lexnlp.extract.en.distances\n",
        "print(list(lexnlp.extract.en.distances.get_distances(input_text)))"
      ],
      "execution_count": null,
      "outputs": [
        {
          "output_type": "stream",
          "text": [
            "[]\n"
          ],
          "name": "stdout"
        }
      ]
    },
    {
      "cell_type": "code",
      "metadata": {
        "id": "8MppNAgLyGpR",
        "colab": {
          "base_uri": "https://localhost:8080/",
          "height": 34
        },
        "outputId": "94a532d1-03e3-4144-a929-06b006e38846"
      },
      "source": [
        "import lexnlp.extract.en.durations\n",
        "print(list(lexnlp.extract.en.durations.get_durations(input_text)))"
      ],
      "execution_count": null,
      "outputs": [
        {
          "output_type": "stream",
          "text": [
            "[('year', 6.0, 2190.0)]\n"
          ],
          "name": "stdout"
        }
      ]
    },
    {
      "cell_type": "code",
      "metadata": {
        "id": "25_VMTGHyQp1",
        "colab": {
          "base_uri": "https://localhost:8080/",
          "height": 67
        },
        "outputId": "5e37255d-1174-48dc-c099-04eef0666871"
      },
      "source": [
        "import lexnlp.extract.en.geoentities\n",
        "df = pd.read_csv(\"https://raw.githubusercontent.com/LexPredict/lexpredict-lexnlp/master/test_data/lexnlp/extract/en/tests/test_geoentities/geoentities.csv\")\n",
        "config_data = []\n",
        "for _, row in df.iterrows():\n",
        "  c = lexnlp.extract.en.dict_entities.entity_config(row[\"entity_id\"], row[\"name\"],row[\"category\"])\n",
        "  config_data.append(c)\n",
        "for entity, alias in lexnlp.extract.en.geoentities.get_geoentities(input_text, config_data):\n",
        "  print(entity,alias)"
      ],
      "execution_count": null,
      "outputs": [
        {
          "output_type": "stream",
          "text": [
            "(254, 'Alabama', 'US States', [('Alabama', None, False, None)]) ('Alabama', None, False, None)\n",
            "(296, 'Tennessee', 'US States', [('Tennessee', None, False, None)]) ('Tennessee', None, False, None)\n",
            "(240, 'United States', 'Countries', [('United States', None, False, None)]) ('United States', None, False, None)\n"
          ],
          "name": "stdout"
        }
      ]
    },
    {
      "cell_type": "code",
      "metadata": {
        "id": "YJA5Pkkfygki",
        "colab": {
          "base_uri": "https://localhost:8080/",
          "height": 34
        },
        "outputId": "65e45326-bcc4-4d35-d6f2-d7f9ef13898b"
      },
      "source": [
        "import lexnlp.extract.en.money\n",
        "print(list(lexnlp.extract.en.money.get_money(input_text)))"
      ],
      "execution_count": null,
      "outputs": [
        {
          "output_type": "stream",
          "text": [
            "[(14000, 'USD'), (14000, 'USD'), (80100.0, 'USD')]\n"
          ],
          "name": "stdout"
        }
      ]
    },
    {
      "cell_type": "code",
      "metadata": {
        "id": "Fq474_kWyqEB",
        "colab": {
          "base_uri": "https://localhost:8080/",
          "height": 34
        },
        "outputId": "43d8ae39-edbe-48f5-9dd5-3da274b8febd"
      },
      "source": [
        "import lexnlp.extract.en.percents\n",
        "print(list(lexnlp.extract.en.percents.get_percents(input_text)))"
      ],
      "execution_count": null,
      "outputs": [
        {
          "output_type": "stream",
          "text": [
            "[]\n"
          ],
          "name": "stdout"
        }
      ]
    },
    {
      "cell_type": "code",
      "metadata": {
        "id": "VaALiF4yyzEK",
        "colab": {
          "base_uri": "https://localhost:8080/",
          "height": 34
        },
        "outputId": "83a4eb1c-e5d7-45e3-964b-fbb7fe650c28"
      },
      "source": [
        "import lexnlp.extract.en.pii\n",
        "print(list(lexnlp.extract.en.pii.get_pii(input_text)))"
      ],
      "execution_count": null,
      "outputs": [
        {
          "output_type": "stream",
          "text": [
            "[]\n"
          ],
          "name": "stdout"
        }
      ]
    },
    {
      "cell_type": "code",
      "metadata": {
        "id": "mB0kkRs-y9s7",
        "colab": {
          "base_uri": "https://localhost:8080/",
          "height": 34
        },
        "outputId": "97fbd2a6-228e-485a-90a0-e3c3f1ae784f"
      },
      "source": [
        "import lexnlp.extract.en.ratios\n",
        "print(list(lexnlp.extract.en.ratios.get_ratios(input_text)))"
      ],
      "execution_count": null,
      "outputs": [
        {
          "output_type": "stream",
          "text": [
            "[]\n"
          ],
          "name": "stdout"
        }
      ]
    },
    {
      "cell_type": "code",
      "metadata": {
        "id": "pEgFzmh6zFwt",
        "colab": {
          "base_uri": "https://localhost:8080/",
          "height": 34
        },
        "outputId": "457c01ce-4c9d-4120-8ae7-acf538d77426"
      },
      "source": [
        "import lexnlp.extract.en.regulations\n",
        "print(list(lexnlp.extract.en.regulations.get_regulations(input_text)))"
      ],
      "execution_count": null,
      "outputs": [
        {
          "output_type": "stream",
          "text": [
            "[]\n"
          ],
          "name": "stdout"
        }
      ]
    },
    {
      "cell_type": "code",
      "metadata": {
        "id": "XyxMpNBqzP4A",
        "colab": {
          "base_uri": "https://localhost:8080/",
          "height": 34
        },
        "outputId": "df6bb2f1-bf14-404c-9cbc-933ca4db57a1"
      },
      "source": [
        "import lexnlp.extract.en.trademarks\n",
        "print(list(lexnlp.extract.en.trademarks.get_trademarks(input_text)))"
      ],
      "execution_count": null,
      "outputs": [
        {
          "output_type": "stream",
          "text": [
            "[]\n"
          ],
          "name": "stdout"
        }
      ]
    },
    {
      "cell_type": "code",
      "metadata": {
        "id": "1OsdNh0kzbZm",
        "colab": {
          "base_uri": "https://localhost:8080/",
          "height": 34
        },
        "outputId": "fd29cbff-35ea-46e1-8e2c-8645a699a167"
      },
      "source": [
        "import lexnlp.extract.en.urls\n",
        "print(list(lexnlp.extract.en.urls.get_urls(input_text)))"
      ],
      "execution_count": null,
      "outputs": [
        {
          "output_type": "stream",
          "text": [
            "[]\n"
          ],
          "name": "stdout"
        }
      ]
    },
    {
      "cell_type": "code",
      "metadata": {
        "id": "8uEvMxPmLTrm",
        "colab": {
          "base_uri": "https://localhost:8080/",
          "height": 104
        },
        "outputId": "8a95e307-2e8d-4499-af3b-d19c8b7bc0f5"
      },
      "source": [
        "pip install pyap"
      ],
      "execution_count": null,
      "outputs": [
        {
          "output_type": "stream",
          "text": [
            "Collecting pyap\n",
            "  Downloading https://files.pythonhosted.org/packages/53/b2/f0f962a5385d54cd91c153df93932b4996b793f1a2145807823d7f71328d/pyap-0.3.1-py2.py3-none-any.whl\n",
            "Installing collected packages: pyap\n",
            "Successfully installed pyap-0.3.1\n"
          ],
          "name": "stdout"
        }
      ]
    },
    {
      "cell_type": "code",
      "metadata": {
        "id": "cd0DczHndYj-",
        "colab": {
          "base_uri": "https://localhost:8080/",
          "height": 70
        },
        "outputId": "bf515f20-7649-483d-c21f-accc1187394d"
      },
      "source": [
        "import pyap\n",
        "address = pyap.parse(input_text, country='US')\n",
        "for i in address:\n",
        "  print(i)\n",
        "  print(i.as_dict())"
      ],
      "execution_count": null,
      "outputs": [
        {
          "output_type": "stream",
          "text": [
            "5 Ala 740 Supreme Court of Alabama ADAMS\n",
            "{'full_address': '5 Ala 740 Supreme Court of Alabama ADAMS', 'full_street': '5 Ala 740 Supreme Court', 'street_number': '5', 'street_name': 'Ala 740 Supreme', 'street_type': 'Court', 'route_id': None, 'post_direction': None, 'floor': None, 'building_id': None, 'occupancy': None, 'city': 'of Alabama ADA', 'region1': 'MS', 'postal_code': None, 'country_id': 'US', 'match_start': 1, 'match_end': 42}\n"
          ],
          "name": "stdout"
        }
      ]
    },
    {
      "cell_type": "code",
      "metadata": {
        "id": "QotgRa2GdvBn",
        "colab": {
          "base_uri": "https://localhost:8080/",
          "height": 739
        },
        "outputId": "db0dea83-14db-4383-f955-b52d432f57f8"
      },
      "source": [
        "!wget 'https://nlp.stanford.edu/software/stanford-ner-2018-10-16.zip'\n",
        "!unzip stanford-ner-2018-10-16.zip"
      ],
      "execution_count": null,
      "outputs": [
        {
          "output_type": "stream",
          "text": [
            "--2020-10-16 03:32:43--  https://nlp.stanford.edu/software/stanford-ner-2018-10-16.zip\n",
            "Resolving nlp.stanford.edu (nlp.stanford.edu)... 171.64.67.140\n",
            "Connecting to nlp.stanford.edu (nlp.stanford.edu)|171.64.67.140|:443... connected.\n",
            "HTTP request sent, awaiting response... 200 OK\n",
            "Length: 180358328 (172M) [application/zip]\n",
            "Saving to: ‘stanford-ner-2018-10-16.zip’\n",
            "\n",
            "stanford-ner-2018-1 100%[===================>] 172.00M  4.11MB/s    in 42s     \n",
            "\n",
            "2020-10-16 03:33:25 (4.13 MB/s) - ‘stanford-ner-2018-10-16.zip’ saved [180358328/180358328]\n",
            "\n",
            "Archive:  stanford-ner-2018-10-16.zip\n",
            "   creating: stanford-ner-2018-10-16/\n",
            "  inflating: stanford-ner-2018-10-16/README.txt  \n",
            "  inflating: stanford-ner-2018-10-16/ner-gui.bat  \n",
            "  inflating: stanford-ner-2018-10-16/build.xml  \n",
            "  inflating: stanford-ner-2018-10-16/stanford-ner.jar  \n",
            "  inflating: stanford-ner-2018-10-16/sample-conll-file.txt  \n",
            "  inflating: stanford-ner-2018-10-16/sample.ner.txt  \n",
            "  inflating: stanford-ner-2018-10-16/stanford-ner-3.9.2-sources.jar  \n",
            "   creating: stanford-ner-2018-10-16/lib/\n",
            "  inflating: stanford-ner-2018-10-16/lib/joda-time.jar  \n",
            "  inflating: stanford-ner-2018-10-16/lib/stanford-ner-resources.jar  \n",
            "  inflating: stanford-ner-2018-10-16/lib/jollyday-0.4.9.jar  \n",
            "  inflating: stanford-ner-2018-10-16/ner-gui.command  \n",
            "  inflating: stanford-ner-2018-10-16/ner.sh  \n",
            "  inflating: stanford-ner-2018-10-16/stanford-ner-3.9.2.jar  \n",
            "  inflating: stanford-ner-2018-10-16/NERDemo.java  \n",
            "  inflating: stanford-ner-2018-10-16/stanford-ner-3.9.2-javadoc.jar  \n",
            "  inflating: stanford-ner-2018-10-16/ner.bat  \n",
            "   creating: stanford-ner-2018-10-16/classifiers/\n",
            "  inflating: stanford-ner-2018-10-16/classifiers/english.conll.4class.distsim.prop  \n",
            "  inflating: stanford-ner-2018-10-16/classifiers/example.serialized.ncc.ncc.ser.gz  \n",
            "  inflating: stanford-ner-2018-10-16/classifiers/english.muc.7class.distsim.crf.ser.gz  \n",
            "  inflating: stanford-ner-2018-10-16/classifiers/english.conll.4class.distsim.crf.ser.gz  \n",
            "  inflating: stanford-ner-2018-10-16/classifiers/english.muc.7class.distsim.prop  \n",
            "  inflating: stanford-ner-2018-10-16/classifiers/english.all.3class.distsim.prop  \n",
            "  inflating: stanford-ner-2018-10-16/classifiers/example.serialized.ncc.prop  \n",
            "  inflating: stanford-ner-2018-10-16/classifiers/english.all.3class.distsim.crf.ser.gz  \n",
            "  inflating: stanford-ner-2018-10-16/sample.txt  \n",
            "  inflating: stanford-ner-2018-10-16/sample-w-time.txt  \n",
            "  inflating: stanford-ner-2018-10-16/ner-gui.sh  \n",
            "  inflating: stanford-ner-2018-10-16/LICENSE.txt  \n"
          ],
          "name": "stdout"
        }
      ]
    },
    {
      "cell_type": "code",
      "metadata": {
        "id": "UMYy4jLed4Oo"
      },
      "source": [
        "from zipfile import ZipFile\n",
        "with ZipFile('stanford-ner-2018-10-16.zip', 'r') as zipObj:\n",
        "   zipObj.extractall('/stanford')"
      ],
      "execution_count": null,
      "outputs": []
    },
    {
      "cell_type": "code",
      "metadata": {
        "id": "WD1eBvNweMjP",
        "colab": {
          "base_uri": "https://localhost:8080/",
          "height": 638
        },
        "outputId": "09cefb5b-5a02-48eb-8faa-1632036992f4"
      },
      "source": [
        "import nltk\n",
        "from nltk.tag.stanford import StanfordNERTagger\n",
        "st_tagger = StanfordNERTagger('/stanford/stanford-ner-2018-10-16/classifiers/english.all.3class.distsim.crf.ser.gz', '/stanford/stanford-ner-2018-10-16/stanford-ner.jar')\n",
        "for sentence in nltk.sent_tokenize(input_text):\n",
        "    for tag in st_tagger.tag(nltk.tokenize.word_tokenize(sentence)):\n",
        "        if tag[1]=='PERSON': print(tag)"
      ],
      "execution_count": null,
      "outputs": [
        {
          "output_type": "stream",
          "text": [
            "('Lien', 'PERSON')\n",
            "('Allen', 'PERSON')\n",
            "('Harrison', 'PERSON')\n",
            "('Allen', 'PERSON')\n",
            "('Harrison', 'PERSON')\n",
            "('Harrison', 'PERSON')\n",
            "('Harrison', 'PERSON')\n",
            "('Burton', 'PERSON')\n",
            "('Harrison', 'PERSON')\n",
            "('Allen', 'PERSON')\n",
            "('Harrison', 'PERSON')\n",
            "('Harrison', 'PERSON')\n",
            "('Harrison', 'PERSON')\n",
            "('SMITH', 'PERSON')\n",
            "('Harrison', 'PERSON')\n",
            "('Harrison', 'PERSON')\n",
            "('W', 'PERSON')\n",
            "('G', 'PERSON')\n",
            "('JONES', 'PERSON')\n",
            "('Perkins', 'PERSON')\n",
            "('Dane', 'PERSON')\n",
            "('Salk', 'PERSON')\n",
            "('Mansony', 'PERSON')\n",
            "('Gary', 'PERSON')\n",
            "('Hon', 'PERSON')\n",
            "('JOHN', 'PERSON')\n",
            "('D', 'PERSON')\n",
            "('CUNNINGHAM', 'PERSON')\n",
            "('Hon', 'PERSON')\n",
            "('JOHN', 'PERSON')\n",
            "('D', 'PERSON')\n",
            "('CUNNINGHAM', 'PERSON')\n",
            "('Jacob', 'PERSON')\n",
            "('S', 'PERSON')\n",
            "('Cohen', 'PERSON')\n",
            "('Cohen', 'PERSON')\n",
            "('Weakley', 'PERSON')\n"
          ],
          "name": "stdout"
        }
      ]
    },
    {
      "cell_type": "code",
      "metadata": {
        "id": "p_9OaxlPek1D"
      },
      "source": [
        ""
      ],
      "execution_count": null,
      "outputs": []
    }
  ]
}